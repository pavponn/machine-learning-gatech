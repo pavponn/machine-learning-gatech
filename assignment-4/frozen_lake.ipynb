{
 "cells": [
  {
   "cell_type": "code",
   "execution_count": 1,
   "metadata": {
    "collapsed": true,
    "ExecuteTime": {
     "end_time": "2023-11-21T21:11:57.085767Z",
     "start_time": "2023-11-21T21:11:45.990742Z"
    }
   },
   "outputs": [
    {
     "name": "stdout",
     "output_type": "stream",
     "text": [
      "Intel MKL WARNING: Support of Intel(R) Streaming SIMD Extensions 4.2 (Intel(R) SSE4.2) enabled only processors has been deprecated. Intel oneAPI Math Kernel Library 2025.0 will require Intel(R) Advanced Vector Extensions (Intel(R) AVX) instructions.\n",
      "Intel MKL WARNING: Support of Intel(R) Streaming SIMD Extensions 4.2 (Intel(R) SSE4.2) enabled only processors has been deprecated. Intel oneAPI Math Kernel Library 2025.0 will require Intel(R) Advanced Vector Extensions (Intel(R) AVX) instructions.\n"
     ]
    }
   ],
   "source": [
    "import os\n",
    "\n",
    "import gym\n",
    "import numpy as np\n",
    "import pandas as pd\n",
    "import importlib\n",
    "import warnings\n",
    "\n",
    "import hiive.mdptoolbox\n",
    "import hiive.mdptoolbox.example\n",
    "from frozen_lake_custom import generate_random_map, FrozenLakeCustomEnv\n",
    "from policy_iteration_custom import PolicyIterationCustom\n",
    "\n",
    "import utils\n",
    "import plots\n",
    "\n",
    "warnings.filterwarnings(\"ignore\")"
   ]
  },
  {
   "cell_type": "code",
   "execution_count": 2,
   "outputs": [],
   "source": [
    "PATH_FIGURES = f'{os.getcwd()}/figures/frozen_lake'\n",
    "PATH_ARTEFACTS = f'{os.getcwd()}/artefacts/frozen_lake'\n",
    "VI_RUNS_CSV = 'vi_runs.csv'\n",
    "PI_RUNS_CSV = 'pi_runs.csv'\n",
    "\n",
    "VI_POLICIES_JSON = 'vi_policies.json'\n",
    "PI_POLICIES_JSON = 'pi_policies.json'\n",
    "\n",
    "regenerate_runs_mdp = True"
   ],
   "metadata": {
    "collapsed": false,
    "ExecuteTime": {
     "end_time": "2023-11-21T21:11:57.092137Z",
     "start_time": "2023-11-21T21:11:57.089715Z"
    }
   }
  },
  {
   "cell_type": "code",
   "execution_count": 3,
   "outputs": [],
   "source": [
    "gym.envs.register('FrozenLakeCustom', FrozenLakeCustomEnv)"
   ],
   "metadata": {
    "collapsed": false,
    "ExecuteTime": {
     "end_time": "2023-11-21T21:11:57.096930Z",
     "start_time": "2023-11-21T21:11:57.093749Z"
    }
   }
  },
  {
   "cell_type": "code",
   "execution_count": 4,
   "outputs": [],
   "source": [
    "plots.setup_plots()"
   ],
   "metadata": {
    "collapsed": false,
    "ExecuteTime": {
     "end_time": "2023-11-21T21:11:57.100974Z",
     "start_time": "2023-11-21T21:11:57.098178Z"
    }
   }
  },
  {
   "cell_type": "code",
   "execution_count": 5,
   "outputs": [],
   "source": [
    "ACTION_TO_LABEL = {\n",
    "    0: '←',\n",
    "    1: '↓',\n",
    "    2: '→',\n",
    "    3: '↑'\n",
    "}"
   ],
   "metadata": {
    "collapsed": false,
    "ExecuteTime": {
     "end_time": "2023-11-21T21:11:57.105558Z",
     "start_time": "2023-11-21T21:11:57.104139Z"
    }
   }
  },
  {
   "cell_type": "code",
   "execution_count": 6,
   "outputs": [],
   "source": [
    "MAIN_SIZE = 7\n",
    "STATES_SIZES = list(range(20, 21))\n",
    "\n",
    "importlib.reload(utils)\n",
    "\n",
    "\n",
    "def problem_foo(sz: int):\n",
    "    np.random.seed(1220)\n",
    "    env = gym.make('FrozenLakeCustom', desc=generate_random_map(size=sz, p=0.9, seed=122))\n",
    "    p, r = utils.convert_p_r(env)\n",
    "    return p, r\n"
   ],
   "metadata": {
    "collapsed": false,
    "ExecuteTime": {
     "end_time": "2023-11-21T21:11:57.114023Z",
     "start_time": "2023-11-21T21:11:57.108133Z"
    }
   }
  },
  {
   "cell_type": "code",
   "execution_count": 7,
   "outputs": [
    {
     "data": {
      "text/plain": "['SFFFFFFF',\n 'FFFFFFFF',\n 'FFFFFFFH',\n 'FFFFFFFF',\n 'FFFFHFFF',\n 'FFFFFHFF',\n 'FHFHFFFF',\n 'HFFFFFFG']"
     },
     "execution_count": 7,
     "metadata": {},
     "output_type": "execute_result"
    }
   ],
   "source": [
    "generate_random_map(size=8, p=0.9, seed=122)"
   ],
   "metadata": {
    "collapsed": false,
    "ExecuteTime": {
     "end_time": "2023-11-21T21:11:57.117619Z",
     "start_time": "2023-11-21T21:11:57.115233Z"
    }
   }
  },
  {
   "cell_type": "code",
   "execution_count": 9,
   "outputs": [
    {
     "name": "stdout",
     "output_type": "stream",
     "text": [
      "Value iteration: starting...\n",
      "Value iteration: finished runs!\n",
      "Value iteration: saved!\n",
      "Policy iteration: starting...\n",
      "Policy iteration: finished runs!\n",
      "Policy iteration: saved!\n"
     ]
    }
   ],
   "source": [
    "importlib.reload(utils)\n",
    "\n",
    "if regenerate_runs_mdp:\n",
    "    print('Value iteration: starting...')\n",
    "    frozen_lake_df_vi, policies_vi = utils.write_stats_for_problem_sizes(\n",
    "        algo_class=hiive.mdptoolbox.mdp.ValueIteration,\n",
    "        main_size=MAIN_SIZE,\n",
    "        state_sizes=STATES_SIZES,\n",
    "        problem_function=problem_foo,\n",
    "        not_use_span_vi=False,\n",
    "    )\n",
    "    print('Value iteration: finished runs!')\n",
    "    utils.save_df_as_csv(frozen_lake_df_vi, PATH_ARTEFACTS, VI_RUNS_CSV)\n",
    "    utils.save_policies(policies_vi, PATH_ARTEFACTS, VI_POLICIES_JSON)\n",
    "    print('Value iteration: saved!')\n",
    "\n",
    "    print('Policy iteration: starting...')\n",
    "    frozen_lake_df_pi, policies_pi = utils.write_stats_for_problem_sizes(\n",
    "        algo_class=PolicyIterationCustom,\n",
    "        main_size=MAIN_SIZE,\n",
    "        state_sizes=STATES_SIZES,\n",
    "        problem_function=problem_foo,\n",
    "        not_use_span_vi=False,\n",
    "        collect_changes=True,\n",
    "        policies0={size: [(1 if (i + j) % 2 == 0 else 2) for i in range(size) for j in range(size)] for size in\n",
    "                   STATES_SIZES},\n",
    "        max_iter=1e3,\n",
    "    )\n",
    "    print('Policy iteration: finished runs!')\n",
    "    utils.save_df_as_csv(frozen_lake_df_pi, PATH_ARTEFACTS, PI_RUNS_CSV)\n",
    "    utils.save_policies(policies_pi, PATH_ARTEFACTS, PI_POLICIES_JSON)\n",
    "    print('Policy iteration: saved!')"
   ],
   "metadata": {
    "collapsed": false,
    "ExecuteTime": {
     "end_time": "2023-11-21T21:20:17.745131Z",
     "start_time": "2023-11-21T21:20:08.509174Z"
    }
   }
  },
  {
   "cell_type": "code",
   "execution_count": 10,
   "outputs": [],
   "source": [
    "frozen_lake_df_vi = utils.read_csv(PATH_ARTEFACTS, VI_RUNS_CSV)\n",
    "frozen_lake_policies_vi = utils.read_policies(PATH_ARTEFACTS, VI_POLICIES_JSON)\n",
    "frozen_lake_df_pi = utils.read_csv(PATH_ARTEFACTS, PI_RUNS_CSV)\n",
    "frozen_lake_policies_pi = utils.read_policies(PATH_ARTEFACTS, PI_POLICIES_JSON)"
   ],
   "metadata": {
    "collapsed": false,
    "ExecuteTime": {
     "end_time": "2023-11-21T21:20:27.810978Z",
     "start_time": "2023-11-21T21:20:27.793990Z"
    }
   }
  },
  {
   "cell_type": "code",
   "execution_count": 13,
   "outputs": [
    {
     "name": "stderr",
     "output_type": "stream",
     "text": [
      "No artists with labels found to put in legend.  Note that artists whose label start with an underscore are ignored when legend() is called with no argument.\n",
      "No artists with labels found to put in legend.  Note that artists whose label start with an underscore are ignored when legend() is called with no argument.\n"
     ]
    }
   ],
   "source": [
    "importlib.reload(plots)\n",
    "plots.create_convergence_and_state_plots(MAIN_SIZE, frozen_lake_df_vi, folder_path=PATH_FIGURES, algo=\"vi\",\n",
    "                                         marker_size=5)\n",
    "plots.create_convergence_and_state_plots(20, frozen_lake_df_pi, folder_path=PATH_FIGURES, algo=\"pi\",\n",
    "                                         marker_size=5, plot_changes=True, log_scale_y_one=True, log_scale_x_one=True)"
   ],
   "metadata": {
    "collapsed": false,
    "ExecuteTime": {
     "end_time": "2023-11-21T21:23:26.882181Z",
     "start_time": "2023-11-21T21:23:24.777520Z"
    }
   }
  },
  {
   "cell_type": "code",
   "execution_count": 8,
   "outputs": [],
   "source": [],
   "metadata": {
    "collapsed": false,
    "ExecuteTime": {
     "end_time": "2023-11-21T18:17:38.361671Z",
     "start_time": "2023-11-21T18:17:38.360016Z"
    }
   }
  },
  {
   "cell_type": "code",
   "execution_count": null,
   "outputs": [],
   "source": [],
   "metadata": {
    "collapsed": false
   }
  }
 ],
 "metadata": {
  "kernelspec": {
   "display_name": "Python 3",
   "language": "python",
   "name": "python3"
  },
  "language_info": {
   "codemirror_mode": {
    "name": "ipython",
    "version": 2
   },
   "file_extension": ".py",
   "mimetype": "text/x-python",
   "name": "python",
   "nbconvert_exporter": "python",
   "pygments_lexer": "ipython2",
   "version": "2.7.6"
  }
 },
 "nbformat": 4,
 "nbformat_minor": 0
}
