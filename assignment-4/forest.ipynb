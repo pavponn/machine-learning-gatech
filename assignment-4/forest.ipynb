{
 "cells": [
  {
   "cell_type": "code",
   "execution_count": 1,
   "metadata": {
    "collapsed": true,
    "ExecuteTime": {
     "end_time": "2023-11-22T18:30:06.574603Z",
     "start_time": "2023-11-22T18:30:02.967738Z"
    }
   },
   "outputs": [
    {
     "name": "stdout",
     "output_type": "stream",
     "text": [
      "Intel MKL WARNING: Support of Intel(R) Streaming SIMD Extensions 4.2 (Intel(R) SSE4.2) enabled only processors has been deprecated. Intel oneAPI Math Kernel Library 2025.0 will require Intel(R) Advanced Vector Extensions (Intel(R) AVX) instructions.\n",
      "Intel MKL WARNING: Support of Intel(R) Streaming SIMD Extensions 4.2 (Intel(R) SSE4.2) enabled only processors has been deprecated. Intel oneAPI Math Kernel Library 2025.0 will require Intel(R) Advanced Vector Extensions (Intel(R) AVX) instructions.\n"
     ]
    }
   ],
   "source": [
    "import os\n",
    "\n",
    "import numpy as np\n",
    "import pandas as pd\n",
    "import importlib\n",
    "import warnings\n",
    "\n",
    "import hiive.mdptoolbox\n",
    "import hiive.mdptoolbox.mdp\n",
    "import hiive.mdptoolbox.example\n",
    "from matplotlib import pyplot as plt\n",
    "\n",
    "import utils\n",
    "import plots\n",
    "from policy_iteration_custom import PolicyIterationCustom\n",
    "\n",
    "warnings.filterwarnings(\"ignore\")"
   ]
  },
  {
   "cell_type": "code",
   "execution_count": 2,
   "outputs": [],
   "source": [
    "PATH_FIGURES = f'{os.getcwd()}/figures/forest'\n",
    "PATH_ARTEFACTS = f'{os.getcwd()}/artefacts/forest'\n",
    "VI_RUNS_CSV = 'vi_runs.csv'\n",
    "PI_RUNS_CSV = 'pi_runs.csv'\n",
    "\n",
    "VI_POLICIES_JSON = 'vi_policies.json'\n",
    "PI_POLICIES_JSON = 'pi_policies.json'\n",
    "\n",
    "regenerate_runs_mdp = True"
   ],
   "metadata": {
    "collapsed": false,
    "ExecuteTime": {
     "end_time": "2023-11-22T18:30:06.580071Z",
     "start_time": "2023-11-22T18:30:06.577937Z"
    }
   }
  },
  {
   "cell_type": "code",
   "execution_count": 3,
   "outputs": [],
   "source": [
    "plots.setup_plots()"
   ],
   "metadata": {
    "collapsed": false,
    "ExecuteTime": {
     "end_time": "2023-11-22T18:30:06.590439Z",
     "start_time": "2023-11-22T18:30:06.580312Z"
    }
   }
  },
  {
   "cell_type": "code",
   "execution_count": 4,
   "outputs": [],
   "source": [
    "ACTION_TO_LABEL = {\n",
    "    0: 'W',\n",
    "    1: 'C',\n",
    "    None: '',\n",
    "}\n",
    "ACTION_TO_COLOR = {\n",
    "    0: 'g',\n",
    "    1: 'b',\n",
    "    None: 'b'\n",
    "}"
   ],
   "metadata": {
    "collapsed": false,
    "ExecuteTime": {
     "end_time": "2023-11-22T18:30:06.594032Z",
     "start_time": "2023-11-22T18:30:06.592403Z"
    }
   }
  },
  {
   "cell_type": "code",
   "execution_count": 5,
   "outputs": [],
   "source": [
    "MAIN_SIZE = 100\n",
    "STATES_SIZES = list(range(2, MAIN_SIZE + 1))\n",
    "\n",
    "importlib.reload(utils)\n",
    "\n",
    "\n",
    "def problem_foo(sz: int):\n",
    "    return hiive.mdptoolbox.example.forest(sz)\n"
   ],
   "metadata": {
    "collapsed": false,
    "ExecuteTime": {
     "end_time": "2023-11-22T18:30:06.603021Z",
     "start_time": "2023-11-22T18:30:06.597757Z"
    }
   }
  },
  {
   "cell_type": "code",
   "execution_count": 6,
   "outputs": [
    {
     "name": "stdout",
     "output_type": "stream",
     "text": [
      "Value iteration: starting...\n",
      "Processing size 2\n",
      "Processing size 3\n",
      "Processing size 4\n",
      "Processing size 5\n",
      "Processing size 6\n",
      "Processing size 7\n",
      "Processing size 8\n",
      "Processing size 9\n",
      "Processing size 10\n",
      "Processing size 11\n",
      "Processing size 12\n",
      "Processing size 13\n",
      "Processing size 14\n",
      "Processing size 15\n",
      "Processing size 16\n",
      "Processing size 17\n",
      "Processing size 18\n",
      "Processing size 19\n",
      "Processing size 20\n",
      "Processing size 21\n",
      "Processing size 22\n",
      "Processing size 23\n",
      "Processing size 24\n",
      "Processing size 25\n",
      "Processing size 26\n",
      "Processing size 27\n",
      "Processing size 28\n",
      "Processing size 29\n",
      "Processing size 30\n",
      "Processing size 31\n",
      "Processing size 32\n",
      "Processing size 33\n",
      "Processing size 34\n",
      "Processing size 35\n",
      "Processing size 36\n",
      "Processing size 37\n",
      "Processing size 38\n",
      "Processing size 39\n",
      "Processing size 40\n",
      "Processing size 41\n",
      "Processing size 42\n",
      "Processing size 43\n",
      "Processing size 44\n",
      "Processing size 45\n",
      "Processing size 46\n",
      "Processing size 47\n",
      "Processing size 48\n",
      "Processing size 49\n",
      "Processing size 50\n",
      "Processing size 51\n",
      "Processing size 52\n",
      "Processing size 53\n",
      "Processing size 54\n",
      "Processing size 55\n",
      "Processing size 56\n",
      "Processing size 57\n",
      "Processing size 58\n",
      "Processing size 59\n",
      "Processing size 60\n",
      "Processing size 61\n",
      "Processing size 62\n",
      "Processing size 63\n",
      "Processing size 64\n",
      "Processing size 65\n",
      "Processing size 66\n",
      "Processing size 67\n",
      "Processing size 68\n",
      "Processing size 69\n",
      "Processing size 70\n",
      "Processing size 71\n",
      "Processing size 72\n",
      "Processing size 73\n",
      "Processing size 74\n",
      "Processing size 75\n",
      "Processing size 76\n",
      "Processing size 77\n",
      "Processing size 78\n",
      "Processing size 79\n",
      "Processing size 80\n",
      "Processing size 81\n",
      "Processing size 82\n",
      "Processing size 83\n",
      "Processing size 84\n",
      "Processing size 85\n",
      "Processing size 86\n",
      "Processing size 87\n",
      "Processing size 88\n",
      "Processing size 89\n",
      "Processing size 90\n",
      "Processing size 91\n",
      "Processing size 92\n",
      "Processing size 93\n",
      "Processing size 94\n",
      "Processing size 95\n",
      "Processing size 96\n",
      "Processing size 97\n",
      "Processing size 98\n",
      "Processing size 99\n",
      "Processing size 100\n",
      "Value iteration: finished runs!\n",
      "Value iteration: saved!\n",
      "Policy iteration: starting...\n",
      "Processing size 2\n",
      "Processing size 3\n",
      "Processing size 4\n",
      "Processing size 5\n",
      "Processing size 6\n",
      "Processing size 7\n",
      "Processing size 8\n",
      "Processing size 9\n",
      "Processing size 10\n",
      "Processing size 11\n",
      "Processing size 12\n",
      "Processing size 13\n",
      "Processing size 14\n",
      "Processing size 15\n",
      "Processing size 16\n",
      "Processing size 17\n",
      "Processing size 18\n",
      "Processing size 19\n",
      "Processing size 20\n",
      "Processing size 21\n",
      "Processing size 22\n",
      "Processing size 23\n",
      "Processing size 24\n",
      "Processing size 25\n",
      "Processing size 26\n",
      "Processing size 27\n",
      "Processing size 28\n",
      "Processing size 29\n",
      "Processing size 30\n",
      "Processing size 31\n",
      "Processing size 32\n",
      "Processing size 33\n",
      "Processing size 34\n",
      "Processing size 35\n",
      "Processing size 36\n",
      "Processing size 37\n",
      "Processing size 38\n",
      "Processing size 39\n",
      "Processing size 40\n",
      "Processing size 41\n",
      "Processing size 42\n",
      "Processing size 43\n",
      "Processing size 44\n",
      "Processing size 45\n",
      "Processing size 46\n",
      "Processing size 47\n",
      "Processing size 48\n",
      "Processing size 49\n",
      "Processing size 50\n",
      "Processing size 51\n",
      "Processing size 52\n",
      "Processing size 53\n",
      "Processing size 54\n",
      "Processing size 55\n",
      "Processing size 56\n",
      "Processing size 57\n",
      "Processing size 58\n",
      "Processing size 59\n",
      "Processing size 60\n",
      "Processing size 61\n",
      "Processing size 62\n",
      "Processing size 63\n",
      "Processing size 64\n",
      "Processing size 65\n",
      "Processing size 66\n",
      "Processing size 67\n",
      "Processing size 68\n",
      "Processing size 69\n",
      "Processing size 70\n",
      "Processing size 71\n",
      "Processing size 72\n",
      "Processing size 73\n",
      "Processing size 74\n",
      "Processing size 75\n",
      "Processing size 76\n",
      "Processing size 77\n",
      "Processing size 78\n",
      "Processing size 79\n",
      "Processing size 80\n",
      "Processing size 81\n",
      "Processing size 82\n",
      "Processing size 83\n",
      "Processing size 84\n",
      "Processing size 85\n",
      "Processing size 86\n",
      "Processing size 87\n",
      "Processing size 88\n",
      "Processing size 89\n",
      "Processing size 90\n",
      "Processing size 91\n",
      "Processing size 92\n",
      "Processing size 93\n",
      "Processing size 94\n",
      "Processing size 95\n",
      "Processing size 96\n",
      "Processing size 97\n",
      "Processing size 98\n",
      "Processing size 99\n",
      "Processing size 100\n",
      "Policy iteration: finished runs!\n",
      "Policy iteration: saved!\n"
     ]
    }
   ],
   "source": [
    "if regenerate_runs_mdp:\n",
    "    print('Value iteration: starting...')\n",
    "    forest_df_vi, policies_vi = utils.write_stats_for_problem_sizes(\n",
    "        algo_class=hiive.mdptoolbox.mdp.ValueIteration,\n",
    "        main_size=MAIN_SIZE,\n",
    "        state_sizes=STATES_SIZES,\n",
    "        problem_function=problem_foo,\n",
    "        not_use_span_vi=True,\n",
    "    )\n",
    "    print('Value iteration: finished runs!')\n",
    "    utils.save_df_as_csv(forest_df_vi, PATH_ARTEFACTS, VI_RUNS_CSV)\n",
    "    utils.save_policies(policies_vi, PATH_ARTEFACTS, VI_POLICIES_JSON)\n",
    "    print('Value iteration: saved!')\n",
    "\n",
    "    print('Policy iteration: starting...')\n",
    "    forest_df_pi, policies_pi = utils.write_stats_for_problem_sizes(\n",
    "        algo_class=PolicyIterationCustom,\n",
    "        main_size=MAIN_SIZE,\n",
    "        state_sizes=STATES_SIZES,\n",
    "        problem_function=problem_foo,\n",
    "        not_use_span_vi=False,\n",
    "        collect_changes=True,\n",
    "    )\n",
    "    print('Policy iteration: finished runs!')\n",
    "    utils.save_df_as_csv(forest_df_pi, PATH_ARTEFACTS, PI_RUNS_CSV)\n",
    "    utils.save_policies(policies_pi, PATH_ARTEFACTS, PI_POLICIES_JSON)\n",
    "    print('Policy iteration: saved!')"
   ],
   "metadata": {
    "collapsed": false,
    "ExecuteTime": {
     "end_time": "2023-11-22T18:30:27.552552Z",
     "start_time": "2023-11-22T18:30:06.604845Z"
    }
   }
  },
  {
   "cell_type": "code",
   "execution_count": 7,
   "outputs": [],
   "source": [
    "forest_df_vi = utils.read_csv(PATH_ARTEFACTS, VI_RUNS_CSV)\n",
    "forest_policies_vi = utils.read_policies(PATH_ARTEFACTS, VI_POLICIES_JSON)\n",
    "forest_df_pi = utils.read_csv(PATH_ARTEFACTS, PI_RUNS_CSV)\n",
    "forest_policies_pi = utils.read_policies(PATH_ARTEFACTS, PI_POLICIES_JSON)"
   ],
   "metadata": {
    "collapsed": false,
    "ExecuteTime": {
     "end_time": "2023-11-22T18:30:27.619474Z",
     "start_time": "2023-11-22T18:30:27.554172Z"
    }
   }
  },
  {
   "cell_type": "code",
   "execution_count": 8,
   "outputs": [],
   "source": [
    "importlib.reload(plots)\n",
    "plots.create_convergence_and_state_plots(MAIN_SIZE, forest_df_vi, folder_path=PATH_FIGURES, algo=\"vi\", marker_size=5)\n",
    "plots.create_convergence_and_state_plots(MAIN_SIZE, forest_df_pi, folder_path=PATH_FIGURES, algo=\"pi\", marker_size=5,\n",
    "                                         plot_changes=True)"
   ],
   "metadata": {
    "collapsed": false,
    "ExecuteTime": {
     "end_time": "2023-11-22T18:30:29.696310Z",
     "start_time": "2023-11-22T18:30:27.621120Z"
    }
   }
  },
  {
   "cell_type": "code",
   "execution_count": 9,
   "outputs": [],
   "source": [
    "def plot_policy(policy, file_name: str, title: str, folder=PATH_FIGURES, color_mapping=ACTION_TO_COLOR,\n",
    "                name_map=ACTION_TO_LABEL,\n",
    "                num_columns=10):\n",
    "    # Determine the number of rows based on the length of lst and num_columns\n",
    "    num_rows = -(-len(policy) // num_columns)\n",
    "\n",
    "    # Reshape the list into a grid\n",
    "    grid = np.array(policy + [None] * (num_rows * num_columns - len(policy))).reshape(num_rows, num_columns)\n",
    "\n",
    "    fig = plt.figure()\n",
    "    ax = fig.add_subplot(111, xlim=(-.01, num_columns + 0.01), ylim=(-.01, num_rows + 0.01))\n",
    "\n",
    "    for i in range(num_rows):\n",
    "        for j in range(num_columns):\n",
    "            y = i\n",
    "            x = j\n",
    "            p = plt.Rectangle([x, y], 1, 1, linewidth=1, edgecolor='k')\n",
    "            p.set_facecolor(color_mapping.get(grid[i, j], 'b'))\n",
    "            ax.add_patch(p)\n",
    "            ax.text(x + 0.5, y + 0.5, name_map.get(grid[i, j], ''), ha='center', va='center', size=9, color='w')\n",
    "    ax.set_xticks(np.arange(0, num_columns, 1))\n",
    "    ax.set_yticks(np.arange(0, num_rows, 1))\n",
    "    ax.set_xticklabels(np.arange(0, num_columns, 1))\n",
    "    ax.set_yticklabels(np.arange(0, num_rows * num_columns, num_columns))\n",
    "    ax.set_title(title)\n",
    "\n",
    "    os.makedirs(folder, exist_ok=True)\n",
    "    save_path = os.path.join(folder, file_name)\n",
    "    plt.savefig(save_path)\n",
    "    plt.close()"
   ],
   "metadata": {
    "collapsed": false,
    "ExecuteTime": {
     "end_time": "2023-11-22T18:30:29.702426Z",
     "start_time": "2023-11-22T18:30:29.700762Z"
    }
   }
  },
  {
   "cell_type": "code",
   "execution_count": 10,
   "outputs": [],
   "source": [
    "plot_policy(list(forest_policies_vi[str(0.99)]), file_name='vi_policy_g_099.png',\n",
    "            title='Forest Management, VI Policy (gamma=0.99)')\n",
    "\n",
    "plot_policy(list(forest_policies_vi[str(0.5)]), file_name='vi_policy_g_05.png',\n",
    "            title='Forest Management, VI Policy (gamma=0.50)')\n",
    "\n",
    "plot_policy(list(forest_policies_vi[str(0.1)]), file_name='vi_policy_g_01.png',\n",
    "            title='Forest Management, VI Policy (gamma=0.1)')"
   ],
   "metadata": {
    "collapsed": false,
    "ExecuteTime": {
     "end_time": "2023-11-22T18:30:30.498439Z",
     "start_time": "2023-11-22T18:30:29.703698Z"
    }
   }
  },
  {
   "cell_type": "code",
   "execution_count": 11,
   "outputs": [],
   "source": [
    "plot_policy(list(forest_policies_pi[str(0.99)]), file_name='pi_policy_g_099.png',\n",
    "            title='Forest Management, PI Policy (gamma=0.99)')\n",
    "\n",
    "plot_policy(list(forest_policies_pi[str(0.5)]), file_name='pi_policy_g_05.png',\n",
    "            title='Forest Management, PI Policy (gamma=0.50)')\n",
    "\n",
    "plot_policy(list(forest_policies_pi[str(0.1)]), file_name='pi_policy_g_01.png',\n",
    "            title='Forest Management, PI Policy (gamma=0.1)')"
   ],
   "metadata": {
    "collapsed": false,
    "ExecuteTime": {
     "end_time": "2023-11-22T18:30:31.300660Z",
     "start_time": "2023-11-22T18:30:30.503627Z"
    }
   }
  },
  {
   "cell_type": "code",
   "execution_count": null,
   "outputs": [],
   "source": [],
   "metadata": {
    "collapsed": false
   }
  }
 ],
 "metadata": {
  "kernelspec": {
   "display_name": "Python 3",
   "language": "python",
   "name": "python3"
  },
  "language_info": {
   "codemirror_mode": {
    "name": "ipython",
    "version": 2
   },
   "file_extension": ".py",
   "mimetype": "text/x-python",
   "name": "python",
   "nbconvert_exporter": "python",
   "pygments_lexer": "ipython2",
   "version": "2.7.6"
  }
 },
 "nbformat": 4,
 "nbformat_minor": 0
}
