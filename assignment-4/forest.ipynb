{
 "cells": [
  {
   "cell_type": "code",
   "execution_count": 1,
   "metadata": {
    "collapsed": true,
    "ExecuteTime": {
     "end_time": "2023-11-22T18:30:06.574603Z",
     "start_time": "2023-11-22T18:30:02.967738Z"
    }
   },
   "outputs": [
    {
     "name": "stdout",
     "output_type": "stream",
     "text": [
      "Intel MKL WARNING: Support of Intel(R) Streaming SIMD Extensions 4.2 (Intel(R) SSE4.2) enabled only processors has been deprecated. Intel oneAPI Math Kernel Library 2025.0 will require Intel(R) Advanced Vector Extensions (Intel(R) AVX) instructions.\n",
      "Intel MKL WARNING: Support of Intel(R) Streaming SIMD Extensions 4.2 (Intel(R) SSE4.2) enabled only processors has been deprecated. Intel oneAPI Math Kernel Library 2025.0 will require Intel(R) Advanced Vector Extensions (Intel(R) AVX) instructions.\n"
     ]
    }
   ],
   "source": [
    "import os\n",
    "\n",
    "import numpy as np\n",
    "import pandas as pd\n",
    "import importlib\n",
    "import warnings\n",
    "\n",
    "import hiive.mdptoolbox\n",
    "import hiive.mdptoolbox.mdp\n",
    "import hiive.mdptoolbox.example\n",
    "from matplotlib import pyplot as plt\n",
    "\n",
    "import utils\n",
    "import plots\n",
    "from policy_iteration_custom import PolicyIterationCustom\n",
    "\n",
    "warnings.filterwarnings(\"ignore\")"
   ]
  },
  {
   "cell_type": "code",
   "execution_count": 2,
   "outputs": [],
   "source": [
    "PATH_FIGURES = f'{os.getcwd()}/figures/forest'\n",
    "PATH_ARTEFACTS = f'{os.getcwd()}/artefacts/forest'\n",
    "VI_RUNS_CSV = 'vi_runs.csv'\n",
    "PI_RUNS_CSV = 'pi_runs.csv'\n",
    "\n",
    "VI_POLICIES_JSON = 'vi_policies.json'\n",
    "PI_POLICIES_JSON = 'pi_policies.json'\n",
    "\n",
    "regenerate_runs_mdp = False"
   ],
   "metadata": {
    "collapsed": false,
    "ExecuteTime": {
     "end_time": "2023-11-22T18:30:06.580071Z",
     "start_time": "2023-11-22T18:30:06.577937Z"
    }
   }
  },
  {
   "cell_type": "code",
   "execution_count": 3,
   "outputs": [],
   "source": [
    "plots.setup_plots()"
   ],
   "metadata": {
    "collapsed": false,
    "ExecuteTime": {
     "end_time": "2023-11-22T18:30:06.590439Z",
     "start_time": "2023-11-22T18:30:06.580312Z"
    }
   }
  },
  {
   "cell_type": "code",
   "execution_count": 4,
   "outputs": [],
   "source": [
    "ACTION_TO_LABEL = {\n",
    "    0: 'W',\n",
    "    1: 'C',\n",
    "    None: '',\n",
    "}\n",
    "ACTION_TO_COLOR = {\n",
    "    0: 'g',\n",
    "    1: 'b',\n",
    "    None: 'b'\n",
    "}"
   ],
   "metadata": {
    "collapsed": false,
    "ExecuteTime": {
     "end_time": "2023-11-22T18:30:06.594032Z",
     "start_time": "2023-11-22T18:30:06.592403Z"
    }
   }
  },
  {
   "cell_type": "code",
   "execution_count": 5,
   "outputs": [],
   "source": [
    "MAIN_SIZE = 100\n",
    "STATES_SIZES = list(range(2, MAIN_SIZE + 1))\n",
    "\n",
    "importlib.reload(utils)\n",
    "\n",
    "\n",
    "def problem_foo(sz: int):\n",
    "    return hiive.mdptoolbox.example.forest(sz)\n"
   ],
   "metadata": {
    "collapsed": false,
    "ExecuteTime": {
     "end_time": "2023-11-22T18:30:06.603021Z",
     "start_time": "2023-11-22T18:30:06.597757Z"
    }
   }
  },
  {
   "cell_type": "code",
   "execution_count": 6,
   "outputs": [
    {
     "name": "stdout",
     "output_type": "stream",
     "text": [
      "Value iteration: starting...\n",
      "Processing size 2\n",
      "Processing size 3\n",
      "Processing size 4\n",
      "Processing size 5\n",
      "Processing size 6\n",
      "Processing size 7\n",
      "Processing size 8\n",
      "Processing size 9\n",
      "Processing size 10\n",
      "Processing size 11\n",
      "Processing size 12\n",
      "Processing size 13\n",
      "Processing size 14\n",
      "Processing size 15\n",
      "Processing size 16\n",
      "Processing size 17\n",
      "Processing size 18\n",
      "Processing size 19\n",
      "Processing size 20\n",
      "Processing size 21\n",
      "Processing size 22\n",
      "Processing size 23\n",
      "Processing size 24\n",
      "Processing size 25\n",
      "Processing size 26\n",
      "Processing size 27\n",
      "Processing size 28\n",
      "Processing size 29\n",
      "Processing size 30\n",
      "Processing size 31\n",
      "Processing size 32\n",
      "Processing size 33\n",
      "Processing size 34\n",
      "Processing size 35\n",
      "Processing size 36\n",
      "Processing size 37\n",
      "Processing size 38\n",
      "Processing size 39\n",
      "Processing size 40\n",
      "Processing size 41\n",
      "Processing size 42\n",
      "Processing size 43\n",
      "Processing size 44\n",
      "Processing size 45\n",
      "Processing size 46\n",
      "Processing size 47\n",
      "Processing size 48\n",
      "Processing size 49\n",
      "Processing size 50\n",
      "Processing size 51\n",
      "Processing size 52\n",
      "Processing size 53\n",
      "Processing size 54\n",
      "Processing size 55\n",
      "Processing size 56\n",
      "Processing size 57\n",
      "Processing size 58\n",
      "Processing size 59\n",
      "Processing size 60\n",
      "Processing size 61\n",
      "Processing size 62\n",
      "Processing size 63\n",
      "Processing size 64\n",
      "Processing size 65\n",
      "Processing size 66\n",
      "Processing size 67\n",
      "Processing size 68\n",
      "Processing size 69\n",
      "Processing size 70\n",
      "Processing size 71\n",
      "Processing size 72\n",
      "Processing size 73\n",
      "Processing size 74\n",
      "Processing size 75\n",
      "Processing size 76\n",
      "Processing size 77\n",
      "Processing size 78\n",
      "Processing size 79\n",
      "Processing size 80\n",
      "Processing size 81\n",
      "Processing size 82\n",
      "Processing size 83\n",
      "Processing size 84\n",
      "Processing size 85\n",
      "Processing size 86\n",
      "Processing size 87\n",
      "Processing size 88\n",
      "Processing size 89\n",
      "Processing size 90\n",
      "Processing size 91\n",
      "Processing size 92\n",
      "Processing size 93\n",
      "Processing size 94\n",
      "Processing size 95\n",
      "Processing size 96\n",
      "Processing size 97\n",
      "Processing size 98\n",
      "Processing size 99\n",
      "Processing size 100\n",
      "Value iteration: finished runs!\n",
      "Value iteration: saved!\n",
      "Policy iteration: starting...\n",
      "Processing size 2\n",
      "Processing size 3\n",
      "Processing size 4\n",
      "Processing size 5\n",
      "Processing size 6\n",
      "Processing size 7\n",
      "Processing size 8\n",
      "Processing size 9\n",
      "Processing size 10\n",
      "Processing size 11\n",
      "Processing size 12\n",
      "Processing size 13\n",
      "Processing size 14\n",
      "Processing size 15\n",
      "Processing size 16\n",
      "Processing size 17\n",
      "Processing size 18\n",
      "Processing size 19\n",
      "Processing size 20\n",
      "Processing size 21\n",
      "Processing size 22\n",
      "Processing size 23\n",
      "Processing size 24\n",
      "Processing size 25\n",
      "Processing size 26\n",
      "Processing size 27\n",
      "Processing size 28\n",
      "Processing size 29\n",
      "Processing size 30\n",
      "Processing size 31\n",
      "Processing size 32\n",
      "Processing size 33\n",
      "Processing size 34\n",
      "Processing size 35\n",
      "Processing size 36\n",
      "Processing size 37\n",
      "Processing size 38\n",
      "Processing size 39\n",
      "Processing size 40\n",
      "Processing size 41\n",
      "Processing size 42\n",
      "Processing size 43\n",
      "Processing size 44\n",
      "Processing size 45\n",
      "Processing size 46\n",
      "Processing size 47\n",
      "Processing size 48\n",
      "Processing size 49\n",
      "Processing size 50\n",
      "Processing size 51\n",
      "Processing size 52\n",
      "Processing size 53\n",
      "Processing size 54\n",
      "Processing size 55\n",
      "Processing size 56\n",
      "Processing size 57\n",
      "Processing size 58\n",
      "Processing size 59\n",
      "Processing size 60\n",
      "Processing size 61\n",
      "Processing size 62\n",
      "Processing size 63\n",
      "Processing size 64\n",
      "Processing size 65\n",
      "Processing size 66\n",
      "Processing size 67\n",
      "Processing size 68\n",
      "Processing size 69\n",
      "Processing size 70\n",
      "Processing size 71\n",
      "Processing size 72\n",
      "Processing size 73\n",
      "Processing size 74\n",
      "Processing size 75\n",
      "Processing size 76\n",
      "Processing size 77\n",
      "Processing size 78\n",
      "Processing size 79\n",
      "Processing size 80\n",
      "Processing size 81\n",
      "Processing size 82\n",
      "Processing size 83\n",
      "Processing size 84\n",
      "Processing size 85\n",
      "Processing size 86\n",
      "Processing size 87\n",
      "Processing size 88\n",
      "Processing size 89\n",
      "Processing size 90\n",
      "Processing size 91\n",
      "Processing size 92\n",
      "Processing size 93\n",
      "Processing size 94\n",
      "Processing size 95\n",
      "Processing size 96\n",
      "Processing size 97\n",
      "Processing size 98\n",
      "Processing size 99\n",
      "Processing size 100\n",
      "Policy iteration: finished runs!\n",
      "Policy iteration: saved!\n"
     ]
    }
   ],
   "source": [
    "if regenerate_runs_mdp:\n",
    "    print('Value iteration: starting...')\n",
    "    forest_df_vi, policies_vi = utils.write_stats_for_problem_sizes(\n",
    "        algo_class=hiive.mdptoolbox.mdp.ValueIteration,\n",
    "        main_size=MAIN_SIZE,\n",
    "        state_sizes=STATES_SIZES,\n",
    "        problem_function=problem_foo,\n",
    "        not_use_span_vi=True,\n",
    "    )\n",
    "    print('Value iteration: finished runs!')\n",
    "    utils.save_df_as_csv(forest_df_vi, PATH_ARTEFACTS, VI_RUNS_CSV)\n",
    "    utils.save_policies(policies_vi, PATH_ARTEFACTS, VI_POLICIES_JSON)\n",
    "    print('Value iteration: saved!')\n",
    "\n",
    "    print('Policy iteration: starting...')\n",
    "    forest_df_pi, policies_pi = utils.write_stats_for_problem_sizes(\n",
    "        algo_class=PolicyIterationCustom,\n",
    "        main_size=MAIN_SIZE,\n",
    "        state_sizes=STATES_SIZES,\n",
    "        problem_function=problem_foo,\n",
    "        not_use_span_vi=False,\n",
    "        collect_changes=True,\n",
    "    )\n",
    "    print('Policy iteration: finished runs!')\n",
    "    utils.save_df_as_csv(forest_df_pi, PATH_ARTEFACTS, PI_RUNS_CSV)\n",
    "    utils.save_policies(policies_pi, PATH_ARTEFACTS, PI_POLICIES_JSON)\n",
    "    print('Policy iteration: saved!')"
   ],
   "metadata": {
    "collapsed": false,
    "ExecuteTime": {
     "end_time": "2023-11-22T18:30:27.552552Z",
     "start_time": "2023-11-22T18:30:06.604845Z"
    }
   }
  },
  {
   "cell_type": "code",
   "execution_count": 7,
   "outputs": [],
   "source": [
    "forest_df_vi = utils.read_csv(PATH_ARTEFACTS, VI_RUNS_CSV)\n",
    "forest_policies_vi = utils.read_policies(PATH_ARTEFACTS, VI_POLICIES_JSON)\n",
    "forest_df_pi = utils.read_csv(PATH_ARTEFACTS, PI_RUNS_CSV)\n",
    "forest_policies_pi = utils.read_policies(PATH_ARTEFACTS, PI_POLICIES_JSON)"
   ],
   "metadata": {
    "collapsed": false,
    "ExecuteTime": {
     "end_time": "2023-11-22T18:30:27.619474Z",
     "start_time": "2023-11-22T18:30:27.554172Z"
    }
   }
  },
  {
   "cell_type": "code",
   "execution_count": 8,
   "outputs": [],
   "source": [
    "importlib.reload(plots)\n",
    "plots.create_convergence_and_state_plots(MAIN_SIZE, forest_df_vi, folder_path=PATH_FIGURES, algo=\"vi\", marker_size=5)\n",
    "plots.create_convergence_and_state_plots(MAIN_SIZE, forest_df_pi, folder_path=PATH_FIGURES, algo=\"pi\", marker_size=5,\n",
    "                                         plot_changes=True)"
   ],
   "metadata": {
    "collapsed": false,
    "ExecuteTime": {
     "end_time": "2023-11-22T18:30:29.696310Z",
     "start_time": "2023-11-22T18:30:27.621120Z"
    }
   }
  },
  {
   "cell_type": "code",
   "execution_count": 9,
   "outputs": [],
   "source": [
    "def plot_policy(policy, file_name: str, title: str, folder=PATH_FIGURES, color_mapping=ACTION_TO_COLOR,\n",
    "                name_map=ACTION_TO_LABEL,\n",
    "                num_columns=10):\n",
    "    # Determine the number of rows based on the length of lst and num_columns\n",
    "    num_rows = -(-len(policy) // num_columns)\n",
    "\n",
    "    # Reshape the list into a grid\n",
    "    grid = np.array(policy + [None] * (num_rows * num_columns - len(policy))).reshape(num_rows, num_columns)\n",
    "\n",
    "    fig = plt.figure()\n",
    "    ax = fig.add_subplot(111, xlim=(-.01, num_columns + 0.01), ylim=(-.01, num_rows + 0.01))\n",
    "\n",
    "    for i in range(num_rows):\n",
    "        for j in range(num_columns):\n",
    "            y = i\n",
    "            x = j\n",
    "            p = plt.Rectangle([x, y], 1, 1, linewidth=1, edgecolor='k')\n",
    "            p.set_facecolor(color_mapping.get(grid[i, j], 'b'))\n",
    "            ax.add_patch(p)\n",
    "            ax.text(x + 0.5, y + 0.5, name_map.get(grid[i, j], ''), ha='center', va='center', size=9, color='w')\n",
    "    ax.set_xticks(np.arange(0, num_columns, 1))\n",
    "    ax.set_yticks(np.arange(0, num_rows, 1))\n",
    "    ax.set_xticklabels(np.arange(0, num_columns, 1))\n",
    "    ax.set_yticklabels(np.arange(0, num_rows * num_columns, num_columns))\n",
    "    ax.set_title(title)\n",
    "\n",
    "    os.makedirs(folder, exist_ok=True)\n",
    "    save_path = os.path.join(folder, file_name)\n",
    "    plt.savefig(save_path)\n",
    "    plt.close()"
   ],
   "metadata": {
    "collapsed": false,
    "ExecuteTime": {
     "end_time": "2023-11-22T18:30:29.702426Z",
     "start_time": "2023-11-22T18:30:29.700762Z"
    }
   }
  },
  {
   "cell_type": "code",
   "execution_count": 10,
   "outputs": [],
   "source": [
    "plot_policy(list(forest_policies_vi[str(0.99)]), file_name='vi_policy_g_099.png',\n",
    "            title='Forest Management (size=100), VI Policy (gamma=0.99)')\n",
    "\n",
    "plot_policy(list(forest_policies_vi[str(0.5)]), file_name='vi_policy_g_05.png',\n",
    "            title='Forest Management (size=100), VI Policy (gamma=0.50)')\n",
    "\n",
    "plot_policy(list(forest_policies_vi[str(0.1)]), file_name='vi_policy_g_01.png',\n",
    "            title='Forest Management (size=100), VI Policy (gamma=0.1)')"
   ],
   "metadata": {
    "collapsed": false,
    "ExecuteTime": {
     "end_time": "2023-11-22T18:30:30.498439Z",
     "start_time": "2023-11-22T18:30:29.703698Z"
    }
   }
  },
  {
   "cell_type": "code",
   "execution_count": 11,
   "outputs": [],
   "source": [
    "plot_policy(list(forest_policies_pi[str(0.99)]), file_name='pi_policy_g_099.png',\n",
    "            title='Forest Management (size=100), PI Policy (gamma=0.99)')\n",
    "\n",
    "plot_policy(list(forest_policies_pi[str(0.5)]), file_name='pi_policy_g_05.png',\n",
    "            title='Forest Management (size=100), PI Policy (gamma=0.50)')\n",
    "\n",
    "plot_policy(list(forest_policies_pi[str(0.1)]), file_name='pi_policy_g_01.png',\n",
    "            title='Forest Management (size=100), PI Policy (gamma=0.1)')"
   ],
   "metadata": {
    "collapsed": false,
    "ExecuteTime": {
     "end_time": "2023-11-22T18:30:31.300660Z",
     "start_time": "2023-11-22T18:30:30.503627Z"
    }
   }
  },
  {
   "cell_type": "code",
   "execution_count": 271,
   "outputs": [],
   "source": [
    "def forest_iter_callback(s, a, s_new):\n",
    "    if s == 0:\n",
    "        return False\n",
    "\n",
    "    if s_new == 0 and a == 0:\n",
    "        return True\n",
    "    else:\n",
    "        return False\n"
   ],
   "metadata": {
    "collapsed": false,
    "ExecuteTime": {
     "end_time": "2023-11-23T02:19:37.516547Z",
     "start_time": "2023-11-23T02:19:37.510376Z"
    }
   }
  },
  {
   "cell_type": "code",
   "execution_count": 383,
   "outputs": [
    {
     "name": "stdout",
     "output_type": "stream",
     "text": [
      "Running for gamma=0.1\n",
      "Running for gamma=0.3\n",
      "Running for gamma=0.5\n",
      "Running for gamma=0.7\n",
      "Running for gamma=0.9\n",
      "Running for gamma=0.95\n",
      "Running for gamma=0.99\n"
     ]
    }
   ],
   "source": [
    "import qlearning_utils\n",
    "import qlearning_plots\n",
    "import qlearning_custom\n",
    "\n",
    "importlib.reload(qlearning_utils)\n",
    "importlib.reload(qlearning_custom)\n",
    "\n",
    "p_100, r_100 = problem_foo(100)\n",
    "np.random.seed(42)\n",
    "df_ql_100, df_ql_100_2, policies_ql_100 = qlearning_utils.q_learning_stats_gammas(\n",
    "    p=p_100,\n",
    "    r=r_100,\n",
    "    epsilon=0.5,\n",
    "    epsilon_decay=0.9999,\n",
    "    epsilon_min=0.5,\n",
    "    alpha=1,\n",
    "    alpha_decay=0.9999,\n",
    "    alpha_min=1e-4,\n",
    "    n_iter=100000,\n",
    "    episode_length=10,\n",
    "    td_error_threshold=5 * 1e-5,\n",
    "    overall_stat_freq=1000,\n",
    "    iter_callback=forest_iter_callback,\n",
    ")"
   ],
   "metadata": {
    "collapsed": false,
    "ExecuteTime": {
     "end_time": "2023-11-23T10:47:42.581515Z",
     "start_time": "2023-11-23T10:47:11.696996Z"
    }
   }
  },
  {
   "cell_type": "code",
   "execution_count": 384,
   "outputs": [],
   "source": [
    "importlib.reload(qlearning_plots)\n",
    "qlearning_plots.create_stat_plot(df=df_ql_100_2, folder_path=PATH_FIGURES, file_name='ql_td_error_100.png',\n",
    "                                 log_scale_y=True, title_additional='(Forest Management (size=100))')"
   ],
   "metadata": {
    "collapsed": false,
    "ExecuteTime": {
     "end_time": "2023-11-23T10:47:43.098889Z",
     "start_time": "2023-11-23T10:47:42.584098Z"
    }
   }
  },
  {
   "cell_type": "code",
   "execution_count": 385,
   "outputs": [],
   "source": [
    "qlearning_plots.create_stat_plot(df=df_ql_100, folder_path=PATH_FIGURES, file_name='ql_td_mean_v_100.png',\n",
    "                                 y_axis='Mean V', title_additional='(Forest Management (size=100))')"
   ],
   "metadata": {
    "collapsed": false,
    "ExecuteTime": {
     "end_time": "2023-11-23T10:47:43.518924Z",
     "start_time": "2023-11-23T10:47:43.101252Z"
    }
   }
  },
  {
   "cell_type": "code",
   "execution_count": 386,
   "outputs": [],
   "source": [
    "plot_policy(list(policies_ql_100[0.99]), file_name='ql_policy_100_g_099.png',\n",
    "            title='Forest Management (size=100), QL Policy (gamma=0.99)')\n",
    "\n",
    "plot_policy(list(policies_ql_100[0.50]), file_name='ql_policy_100_g_050.png',\n",
    "            title='Forest Management (size=100), QL Policy (gamma=0.5)')\n",
    "\n",
    "plot_policy(list(policies_ql_100[0.1]), file_name='ql_policy_100_g_01.png',\n",
    "            title='Forest Management (size=100), QL Policy (gamma=0.1)')"
   ],
   "metadata": {
    "collapsed": false,
    "ExecuteTime": {
     "end_time": "2023-11-23T10:48:54.016830Z",
     "start_time": "2023-11-23T10:48:52.852670Z"
    }
   }
  },
  {
   "cell_type": "code",
   "execution_count": 390,
   "outputs": [
    {
     "name": "stdout",
     "output_type": "stream",
     "text": [
      "Running for epsilon=0.001\n",
      "Running for epsilon=0.05\n",
      "Running for epsilon=0.1\n",
      "Running for epsilon=0.3\n",
      "Running for epsilon=0.5\n",
      "Running for epsilon=0.8\n",
      "Running for epsilon=0.9\n"
     ]
    }
   ],
   "source": [
    "importlib.reload(qlearning_utils)\n",
    "df_ql_100_eps, df_ql_100_2_eps, policies_ql_100_eps = qlearning_utils.q_learning_stats_epsilons(\n",
    "    p=p_100,\n",
    "    r=r_100,\n",
    "    epsilons=[0.001, 0.05, 0.1, 0.3, 0.5, 0.8, 0.9],\n",
    "    alpha=1,\n",
    "    alpha_decay=0.9999,\n",
    "    alpha_min=1e-4,\n",
    "    n_iter=100000,\n",
    "    episode_length=10,\n",
    "    td_error_threshold=5 * 1e-5,\n",
    "    overall_stat_freq=1000,\n",
    "    iter_callback=forest_iter_callback,\n",
    "    gamma=0.99,\n",
    ")"
   ],
   "metadata": {
    "collapsed": false,
    "ExecuteTime": {
     "end_time": "2023-11-23T11:06:25.537973Z",
     "start_time": "2023-11-23T11:05:42.082898Z"
    }
   }
  },
  {
   "cell_type": "code",
   "execution_count": 391,
   "outputs": [],
   "source": [
    "importlib.reload(qlearning_plots)\n",
    "qlearning_plots.create_stat_plot(df=df_ql_100_2_eps, folder_path=PATH_FIGURES, hue_col='Epsilon',\n",
    "                                 file_name='ql_td_error_100_epsilon_g099.png')"
   ],
   "metadata": {
    "collapsed": false,
    "ExecuteTime": {
     "end_time": "2023-11-23T11:06:27.938292Z",
     "start_time": "2023-11-23T11:06:27.613423Z"
    }
   }
  },
  {
   "cell_type": "code",
   "execution_count": 393,
   "outputs": [],
   "source": [
    "qlearning_plots.create_stat_plot(df=df_ql_100_eps, folder_path=PATH_FIGURES, hue_col='Epsilon',\n",
    "                                 file_name='ql_td_mean_v_100_epsilon_g099.png', y_axis='Mean V',\n",
    "                                 title_additional='(Forest Management (size=100, g=0.99))')"
   ],
   "metadata": {
    "collapsed": false,
    "ExecuteTime": {
     "end_time": "2023-11-23T11:06:37.786034Z",
     "start_time": "2023-11-23T11:06:37.249558Z"
    }
   }
  },
  {
   "cell_type": "code",
   "execution_count": 409,
   "outputs": [
    {
     "name": "stdout",
     "output_type": "stream",
     "text": [
      "Processing size 5\n",
      "Running for gamma=0.99\n",
      "Processing size 15\n",
      "Running for gamma=0.99\n",
      "Processing size 25\n",
      "Running for gamma=0.99\n",
      "Processing size 35\n",
      "Running for gamma=0.99\n",
      "Processing size 45\n",
      "Running for gamma=0.99\n",
      "Processing size 55\n",
      "Running for gamma=0.99\n",
      "Processing size 65\n",
      "Running for gamma=0.99\n",
      "Processing size 75\n",
      "Running for gamma=0.99\n",
      "Processing size 85\n",
      "Running for gamma=0.99\n",
      "Processing size 95\n",
      "Running for gamma=0.99\n"
     ]
    }
   ],
   "source": [
    "importlib.reload(qlearning_utils)\n",
    "states_ql_df = qlearning_utils.q_learning_stats_gammas_problem_sizes(\n",
    "    problem_function=problem_foo,\n",
    "    state_sizes=(list(range(5, 100, 10))),\n",
    "    epsilon=0.5,\n",
    "    epsilon_decay=1,\n",
    "    epsilon_min=0.5,\n",
    "    alpha=1,\n",
    "    alpha_decay=0.9999,\n",
    "    alpha_min=1e-4,\n",
    "    n_iter=100000,\n",
    "    episode_length=10,\n",
    "    td_error_threshold=5 * 1e-5,\n",
    "    overall_stat_freq=1000,\n",
    "    iter_callback=forest_iter_callback,\n",
    "    gammas=[0.99],\n",
    ")"
   ],
   "metadata": {
    "collapsed": false,
    "ExecuteTime": {
     "end_time": "2023-11-23T11:54:53.652077Z",
     "start_time": "2023-11-23T11:54:01.781442Z"
    }
   }
  },
  {
   "cell_type": "code",
   "execution_count": 410,
   "outputs": [],
   "source": [
    "importlib.reload(qlearning_plots)\n",
    "qlearning_plots.create_stat_plot(df=states_ql_df, folder_path=PATH_FIGURES, hue_col='Gamma', x_axis='States',\n",
    "                                 y_axis='Total Time',\n",
    "                                 file_name='ql_time_by_states.png')"
   ],
   "metadata": {
    "collapsed": false,
    "ExecuteTime": {
     "end_time": "2023-11-23T11:54:54.008966Z",
     "start_time": "2023-11-23T11:54:53.651897Z"
    }
   }
  },
  {
   "cell_type": "code",
   "execution_count": 411,
   "outputs": [
    {
     "name": "stdout",
     "output_type": "stream",
     "text": [
      "Running for gamma=0.1\n",
      "Running for gamma=0.3\n",
      "Running for gamma=0.5\n",
      "Running for gamma=0.7\n",
      "Running for gamma=0.9\n",
      "Running for gamma=0.95\n",
      "Running for gamma=0.99\n"
     ]
    }
   ],
   "source": [
    "## Bad alpha choice\n",
    "df_ql_100_bad_alpha, df_ql_100_2_bad_alpha, _ = qlearning_utils.q_learning_stats_gammas(\n",
    "    p=p_100,\n",
    "    r=r_100,\n",
    "    epsilon=0.5,\n",
    "    epsilon_decay=0.9999,\n",
    "    epsilon_min=0.5,\n",
    "    alpha=1,\n",
    "    alpha_decay=0.99,\n",
    "    alpha_min=0.01,\n",
    "    n_iter=100000,\n",
    "    episode_length=10,\n",
    "    td_error_threshold=5 * 1e-5,\n",
    "    overall_stat_freq=1000,\n",
    "    iter_callback=forest_iter_callback,\n",
    ")"
   ],
   "metadata": {
    "collapsed": false,
    "ExecuteTime": {
     "end_time": "2023-11-23T11:55:31.598874Z",
     "start_time": "2023-11-23T11:54:54.011823Z"
    }
   }
  },
  {
   "cell_type": "code",
   "execution_count": 412,
   "outputs": [],
   "source": [
    "importlib.reload(qlearning_plots)\n",
    "qlearning_plots.create_stat_plot(df=df_ql_100_2_bad_alpha, folder_path=PATH_FIGURES,\n",
    "                                 file_name='ql_td_error_100_bad_alpha.png',\n",
    "                                 log_scale_y=True, title_additional='(Forest Management (size=100), bad alpha setup)')\n",
    "qlearning_plots.create_stat_plot(df=df_ql_100_bad_alpha, folder_path=PATH_FIGURES,\n",
    "                                 file_name='ql_td_mean_v_100_bad_alpha.png',\n",
    "                                 y_axis='Mean V', title_additional='(Forest Management (size=100), bad alpha setup)')"
   ],
   "metadata": {
    "collapsed": false,
    "ExecuteTime": {
     "end_time": "2023-11-23T11:55:41.440582Z",
     "start_time": "2023-11-23T11:55:40.513003Z"
    }
   }
  },
  {
   "cell_type": "code",
   "execution_count": null,
   "outputs": [],
   "source": [],
   "metadata": {
    "collapsed": false
   }
  }
 ],
 "metadata": {
  "kernelspec": {
   "display_name": "Python 3",
   "language": "python",
   "name": "python3"
  },
  "language_info": {
   "codemirror_mode": {
    "name": "ipython",
    "version": 2
   },
   "file_extension": ".py",
   "mimetype": "text/x-python",
   "name": "python",
   "nbconvert_exporter": "python",
   "pygments_lexer": "ipython2",
   "version": "2.7.6"
  }
 },
 "nbformat": 4,
 "nbformat_minor": 0
}
