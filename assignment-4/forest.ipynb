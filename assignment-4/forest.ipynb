{
 "cells": [
  {
   "cell_type": "code",
   "execution_count": 1,
   "metadata": {
    "collapsed": true,
    "ExecuteTime": {
     "end_time": "2023-11-24T20:15:03.873074Z",
     "start_time": "2023-11-24T20:14:52.852469Z"
    }
   },
   "outputs": [
    {
     "name": "stdout",
     "output_type": "stream",
     "text": [
      "Intel MKL WARNING: Support of Intel(R) Streaming SIMD Extensions 4.2 (Intel(R) SSE4.2) enabled only processors has been deprecated. Intel oneAPI Math Kernel Library 2025.0 will require Intel(R) Advanced Vector Extensions (Intel(R) AVX) instructions.\n",
      "Intel MKL WARNING: Support of Intel(R) Streaming SIMD Extensions 4.2 (Intel(R) SSE4.2) enabled only processors has been deprecated. Intel oneAPI Math Kernel Library 2025.0 will require Intel(R) Advanced Vector Extensions (Intel(R) AVX) instructions.\n"
     ]
    }
   ],
   "source": [
    "import os\n",
    "\n",
    "import numpy as np\n",
    "import pandas as pd\n",
    "import importlib\n",
    "import warnings\n",
    "\n",
    "import hiive.mdptoolbox\n",
    "import hiive.mdptoolbox.mdp\n",
    "import hiive.mdptoolbox.example\n",
    "from matplotlib import pyplot as plt\n",
    "\n",
    "import utils\n",
    "import plots\n",
    "from policy_iteration_custom import PolicyIterationCustom\n",
    "\n",
    "warnings.filterwarnings(\"ignore\")"
   ]
  },
  {
   "cell_type": "code",
   "execution_count": 2,
   "outputs": [],
   "source": [
    "PATH_FIGURES = f'{os.getcwd()}/figures/forest'\n",
    "PATH_ARTEFACTS = f'{os.getcwd()}/artefacts/forest'\n",
    "VI_RUNS_CSV = 'vi_runs.csv'\n",
    "PI_RUNS_CSV = 'pi_runs.csv'\n",
    "\n",
    "VI_POLICIES_JSON = 'vi_policies.json'\n",
    "PI_POLICIES_JSON = 'pi_policies.json'\n",
    "\n",
    "regenerate_runs_mdp = False"
   ],
   "metadata": {
    "collapsed": false,
    "ExecuteTime": {
     "end_time": "2023-11-24T20:15:08.877632Z",
     "start_time": "2023-11-24T20:15:08.871483Z"
    }
   }
  },
  {
   "cell_type": "code",
   "execution_count": 3,
   "outputs": [],
   "source": [
    "plots.setup_plots()"
   ],
   "metadata": {
    "collapsed": false,
    "ExecuteTime": {
     "end_time": "2023-11-24T20:15:10.248262Z",
     "start_time": "2023-11-24T20:15:10.242612Z"
    }
   }
  },
  {
   "cell_type": "code",
   "execution_count": 4,
   "outputs": [],
   "source": [
    "ACTION_TO_LABEL = {\n",
    "    0: 'W',\n",
    "    1: 'C',\n",
    "    None: '',\n",
    "}\n",
    "ACTION_TO_COLOR = {\n",
    "    0: 'g',\n",
    "    1: 'b',\n",
    "    None: 'b'\n",
    "}"
   ],
   "metadata": {
    "collapsed": false,
    "ExecuteTime": {
     "end_time": "2023-11-24T20:15:12.886013Z",
     "start_time": "2023-11-24T20:15:12.878602Z"
    }
   }
  },
  {
   "cell_type": "code",
   "execution_count": 5,
   "outputs": [],
   "source": [
    "MAIN_SIZE = 100\n",
    "STATES_SIZES = list(range(2, MAIN_SIZE + 1))\n",
    "\n",
    "importlib.reload(utils)\n",
    "\n",
    "\n",
    "def problem_foo(sz: int):\n",
    "    return hiive.mdptoolbox.example.forest(sz)\n"
   ],
   "metadata": {
    "collapsed": false,
    "ExecuteTime": {
     "end_time": "2023-11-24T20:15:25.206979Z",
     "start_time": "2023-11-24T20:15:25.202563Z"
    }
   }
  },
  {
   "cell_type": "code",
   "execution_count": 6,
   "outputs": [],
   "source": [
    "if regenerate_runs_mdp:\n",
    "    print('Value iteration: starting...')\n",
    "    forest_df_vi, policies_vi = utils.write_stats_for_problem_sizes(\n",
    "        algo_class=hiive.mdptoolbox.mdp.ValueIteration,\n",
    "        main_size=MAIN_SIZE,\n",
    "        state_sizes=STATES_SIZES,\n",
    "        problem_function=problem_foo,\n",
    "        not_use_span_vi=True,\n",
    "    )\n",
    "    print('Value iteration: finished runs!')\n",
    "    utils.save_df_as_csv(forest_df_vi, PATH_ARTEFACTS, VI_RUNS_CSV)\n",
    "    utils.save_policies(policies_vi, PATH_ARTEFACTS, VI_POLICIES_JSON)\n",
    "    print('Value iteration: saved!')\n",
    "\n",
    "    print('Policy iteration: starting...')\n",
    "    forest_df_pi, policies_pi = utils.write_stats_for_problem_sizes(\n",
    "        algo_class=PolicyIterationCustom,\n",
    "        main_size=MAIN_SIZE,\n",
    "        state_sizes=STATES_SIZES,\n",
    "        problem_function=problem_foo,\n",
    "        not_use_span_vi=False,\n",
    "        collect_changes=True,\n",
    "    )\n",
    "    print('Policy iteration: finished runs!')\n",
    "    utils.save_df_as_csv(forest_df_pi, PATH_ARTEFACTS, PI_RUNS_CSV)\n",
    "    utils.save_policies(policies_pi, PATH_ARTEFACTS, PI_POLICIES_JSON)\n",
    "    print('Policy iteration: saved!')"
   ],
   "metadata": {
    "collapsed": false,
    "ExecuteTime": {
     "end_time": "2023-11-24T20:15:27.694908Z",
     "start_time": "2023-11-24T20:15:27.687739Z"
    }
   }
  },
  {
   "cell_type": "code",
   "execution_count": 7,
   "outputs": [],
   "source": [
    "forest_df_vi = utils.read_csv(PATH_ARTEFACTS, VI_RUNS_CSV)\n",
    "forest_policies_vi = utils.read_policies(PATH_ARTEFACTS, VI_POLICIES_JSON)\n",
    "forest_df_pi = utils.read_csv(PATH_ARTEFACTS, PI_RUNS_CSV)\n",
    "forest_policies_pi = utils.read_policies(PATH_ARTEFACTS, PI_POLICIES_JSON)"
   ],
   "metadata": {
    "collapsed": false,
    "ExecuteTime": {
     "end_time": "2023-11-24T20:15:33.155769Z",
     "start_time": "2023-11-24T20:15:33.083239Z"
    }
   }
  },
  {
   "cell_type": "code",
   "execution_count": 8,
   "outputs": [],
   "source": [
    "importlib.reload(plots)\n",
    "plots.create_convergence_and_state_plots(MAIN_SIZE, forest_df_vi, folder_path=PATH_FIGURES, algo=\"vi\", marker_size=5)\n",
    "plots.create_convergence_and_state_plots(MAIN_SIZE, forest_df_pi, folder_path=PATH_FIGURES, algo=\"pi\", marker_size=5,\n",
    "                                         plot_changes=True)"
   ],
   "metadata": {
    "collapsed": false,
    "ExecuteTime": {
     "end_time": "2023-11-24T20:15:39.564053Z",
     "start_time": "2023-11-24T20:15:37.393711Z"
    }
   }
  },
  {
   "cell_type": "code",
   "execution_count": 9,
   "outputs": [],
   "source": [
    "def plot_policy(policy, file_name: str, title: str, folder=PATH_FIGURES, color_mapping=ACTION_TO_COLOR,\n",
    "                name_map=ACTION_TO_LABEL,\n",
    "                num_columns=10):\n",
    "    # Determine the number of rows based on the length of lst and num_columns\n",
    "    num_rows = -(-len(policy) // num_columns)\n",
    "\n",
    "    # Reshape the list into a grid\n",
    "    grid = np.array(policy + [None] * (num_rows * num_columns - len(policy))).reshape(num_rows, num_columns)\n",
    "\n",
    "    fig = plt.figure()\n",
    "    ax = fig.add_subplot(111, xlim=(-.01, num_columns + 0.01), ylim=(-.01, num_rows + 0.01))\n",
    "\n",
    "    for i in range(num_rows):\n",
    "        for j in range(num_columns):\n",
    "            y = i\n",
    "            x = j\n",
    "            p = plt.Rectangle([x, y], 1, 1, linewidth=1, edgecolor='k')\n",
    "            p.set_facecolor(color_mapping.get(grid[i, j], 'b'))\n",
    "            ax.add_patch(p)\n",
    "            ax.text(x + 0.5, y + 0.5, name_map.get(grid[i, j], ''), ha='center', va='center', size=9, color='w')\n",
    "    ax.set_xticks(np.arange(0, num_columns, 1))\n",
    "    ax.set_yticks(np.arange(0, num_rows, 1))\n",
    "    ax.set_xticklabels(np.arange(0, num_columns, 1))\n",
    "    ax.set_yticklabels(np.arange(0, num_rows * num_columns, num_columns))\n",
    "    ax.set_title(title)\n",
    "\n",
    "    os.makedirs(folder, exist_ok=True)\n",
    "    save_path = os.path.join(folder, file_name)\n",
    "    plt.savefig(save_path)\n",
    "    plt.close()"
   ],
   "metadata": {
    "collapsed": false,
    "ExecuteTime": {
     "end_time": "2023-11-24T20:15:48.425530Z",
     "start_time": "2023-11-24T20:15:48.417768Z"
    }
   }
  },
  {
   "cell_type": "code",
   "execution_count": 10,
   "outputs": [],
   "source": [
    "plot_policy(list(forest_policies_vi[str(0.99)]), file_name='vi_policy_g_099.png',\n",
    "            title='Forest Management (size=100), VI Policy (gamma=0.99)')\n",
    "\n",
    "plot_policy(list(forest_policies_vi[str(0.5)]), file_name='vi_policy_g_05.png',\n",
    "            title='Forest Management (size=100), VI Policy (gamma=0.50)')\n",
    "\n",
    "plot_policy(list(forest_policies_vi[str(0.1)]), file_name='vi_policy_g_01.png',\n",
    "            title='Forest Management (size=100), VI Policy (gamma=0.1)')"
   ],
   "metadata": {
    "collapsed": false,
    "ExecuteTime": {
     "end_time": "2023-11-24T20:15:50.114550Z",
     "start_time": "2023-11-24T20:15:49.253577Z"
    }
   }
  },
  {
   "cell_type": "code",
   "execution_count": 11,
   "outputs": [],
   "source": [
    "plot_policy(list(forest_policies_pi[str(0.99)]), file_name='pi_policy_g_099.png',\n",
    "            title='Forest Management (size=100), PI Policy (gamma=0.99)')\n",
    "\n",
    "plot_policy(list(forest_policies_pi[str(0.5)]), file_name='pi_policy_g_05.png',\n",
    "            title='Forest Management (size=100), PI Policy (gamma=0.50)')\n",
    "\n",
    "plot_policy(list(forest_policies_pi[str(0.1)]), file_name='pi_policy_g_01.png',\n",
    "            title='Forest Management (size=100), PI Policy (gamma=0.1)')"
   ],
   "metadata": {
    "collapsed": false,
    "ExecuteTime": {
     "end_time": "2023-11-24T20:15:50.871675Z",
     "start_time": "2023-11-24T20:15:50.117003Z"
    }
   }
  },
  {
   "cell_type": "code",
   "execution_count": 37,
   "outputs": [
    {
     "name": "stdout",
     "output_type": "stream",
     "text": [
      "Running for gamma=0.1\n",
      "Running for gamma=0.3\n",
      "Running for gamma=0.5\n",
      "Running for gamma=0.7\n",
      "Running for gamma=0.9\n",
      "Running for gamma=0.95\n",
      "Running for gamma=0.99\n"
     ]
    }
   ],
   "source": [
    "import qlearning_utils\n",
    "import qlearning_plots\n",
    "import qlearning_custom\n",
    "\n",
    "importlib.reload(qlearning_utils)\n",
    "importlib.reload(qlearning_custom)\n",
    "importlib.reload(qlearning_plots)\n",
    "\n",
    "\n",
    "def forest_iter_callback(s, a, s_new):\n",
    "    if s == 0:\n",
    "        return False\n",
    "\n",
    "    if s_new == 0 and a == 0:\n",
    "        return True\n",
    "    else:\n",
    "        return False\n",
    "\n",
    "\n",
    "p_100, r_100 = problem_foo(100)\n",
    "np.random.seed(42)\n",
    "df_ql_100, df_ql_100_2, policies_ql_100 = qlearning_utils.q_learning_stats_gammas(\n",
    "    p=p_100,\n",
    "    r=r_100,\n",
    "    epsilon=0.1,\n",
    "    epsilon_decay=0.9999,\n",
    "    epsilon_min=0.1,\n",
    "    alpha=1,\n",
    "    alpha_decay=0.9999,\n",
    "    alpha_min=1e-4,\n",
    "    n_iter=100000,\n",
    "    episode_length=10,\n",
    "    td_error_threshold=5 * 1e-5,\n",
    "    overall_stat_freq=1000,\n",
    "    iter_callback=forest_iter_callback,\n",
    ")\n",
    "\n",
    "qlearning_plots.create_stat_plot(df=df_ql_100_2, folder_path=PATH_FIGURES, file_name='ql_td_error_100.png',\n",
    "                                 log_scale_y=True, title_additional='(Forest Management (size=100)), v0')\n",
    "\n",
    "qlearning_plots.create_stat_plot(df=df_ql_100, folder_path=PATH_FIGURES, file_name='ql_td_mean_v_100.png',\n",
    "                                 y_axis='Mean V', title_additional='(Forest Management (size=100)), v0')\n",
    "\n",
    "plot_policy(list(policies_ql_100[0.99]), file_name='ql_policy_100_g_099.png',\n",
    "            title='Forest Management (size=100), QL Policy (gamma=0.99), v0')\n",
    "\n",
    "plot_policy(list(policies_ql_100[0.50]), file_name='ql_policy_100_g_050.png',\n",
    "            title='Forest Management (size=100), QL Policy (gamma=0.5), v0')\n",
    "\n",
    "plot_policy(list(policies_ql_100[0.1]), file_name='ql_policy_100_g_01.png',\n",
    "            title='Forest Management (size=100), QL Policy (gamma=0.1), v0')\n"
   ],
   "metadata": {
    "collapsed": false,
    "ExecuteTime": {
     "end_time": "2023-11-26T00:21:10.191502Z",
     "start_time": "2023-11-26T00:20:56.014199Z"
    }
   }
  },
  {
   "cell_type": "code",
   "execution_count": 26,
   "outputs": [
    {
     "name": "stdout",
     "output_type": "stream",
     "text": [
      "Running for gamma=0.1\n",
      "Running for gamma=0.3\n",
      "Running for gamma=0.5\n",
      "Running for gamma=0.7\n",
      "Running for gamma=0.9\n",
      "Running for gamma=0.95\n",
      "Running for gamma=0.99\n"
     ]
    }
   ],
   "source": [
    "import qlearning_utils\n",
    "import qlearning_plots\n",
    "import qlearning_custom\n",
    "\n",
    "importlib.reload(qlearning_utils)\n",
    "importlib.reload(qlearning_custom)\n",
    "importlib.reload(qlearning_plots)\n",
    "\n",
    "\n",
    "def forest_iter_callback_good(s, a, s_new):\n",
    "    if s == 0:\n",
    "        return False\n",
    "    if s_new == 0:\n",
    "        return True\n",
    "    else:\n",
    "        return False\n",
    "\n",
    "\n",
    "p_100, r_100 = problem_foo(100)\n",
    "np.random.seed(42)\n",
    "df_ql_100_good, df_ql_100_2_good, policies_ql_100_good = qlearning_utils.q_learning_stats_gammas(\n",
    "    p=p_100,\n",
    "    r=r_100,\n",
    "    epsilon=0.5,\n",
    "    epsilon_decay=0.9999,\n",
    "    epsilon_min=0.5,\n",
    "    alpha=1,\n",
    "    alpha_decay=0.9999,\n",
    "    alpha_min=1e-4,\n",
    "    n_iter=100000,\n",
    "    episode_length=10,\n",
    "    td_error_threshold=5 * 1e-5,\n",
    "    overall_stat_freq=1000,\n",
    "    iter_callback=forest_iter_callback_good,\n",
    ")\n",
    "\n",
    "qlearning_plots.create_stat_plot(df=df_ql_100_2_good, folder_path=PATH_FIGURES, file_name='ql_td_error_100_good.png',\n",
    "                                 log_scale_y=True, title_additional='(Forest Management (size=100))')\n",
    "\n",
    "qlearning_plots.create_stat_plot(df=df_ql_100_good, folder_path=PATH_FIGURES, file_name='ql_td_mean_v_100_good.png',\n",
    "                                 y_axis='Mean V', title_additional='(Forest Management (size=100))')\n",
    "\n",
    "plot_policy(list(policies_ql_100_good[0.99]), file_name='ql_policy_100_g_099_good.png',\n",
    "            title='Forest Management (size=100), QL Policy (gamma=0.99)')\n",
    "\n",
    "plot_policy(list(policies_ql_100_good[0.50]), file_name='ql_policy_100_g_050_good.png',\n",
    "            title='Forest Management (size=100), QL Policy (gamma=0.5)')\n",
    "\n",
    "plot_policy(list(policies_ql_100_good[0.1]), file_name='ql_policy_100_g_01_good.png',\n",
    "            title='Forest Management (size=100), QL Policy (gamma=0.1)')\n"
   ],
   "metadata": {
    "collapsed": false,
    "ExecuteTime": {
     "end_time": "2023-11-24T20:30:40.524942Z",
     "start_time": "2023-11-24T20:30:20.424782Z"
    }
   }
  },
  {
   "cell_type": "code",
   "execution_count": 38,
   "outputs": [
    {
     "name": "stdout",
     "output_type": "stream",
     "text": [
      "Running for epsilon=0.001\n",
      "Running for epsilon=0.05\n",
      "Running for epsilon=0.1\n",
      "Running for epsilon=0.3\n",
      "Running for epsilon=0.5\n",
      "Running for epsilon=0.8\n",
      "Running for epsilon=0.9\n"
     ]
    }
   ],
   "source": [
    "importlib.reload(qlearning_utils)\n",
    "df_ql_100_eps, df_ql_100_2_eps, policies_ql_100_eps = qlearning_utils.q_learning_stats_epsilons(\n",
    "    p=p_100,\n",
    "    r=r_100,\n",
    "    epsilons=[0.001, 0.05, 0.1, 0.3, 0.5, 0.8, 0.9],\n",
    "    alpha=1,\n",
    "    alpha_decay=0.9999,\n",
    "    alpha_min=1e-4,\n",
    "    n_iter=100000,\n",
    "    episode_length=10,\n",
    "    td_error_threshold=5 * 1e-5,\n",
    "    overall_stat_freq=1000,\n",
    "    iter_callback=forest_iter_callback,\n",
    "    gamma=0.99,\n",
    ")\n",
    "\n",
    "importlib.reload(qlearning_plots)\n",
    "qlearning_plots.create_stat_plot(df=df_ql_100_2_eps, folder_path=PATH_FIGURES, hue_col='Epsilon',\n",
    "                                 file_name='ql_td_error_100_epsilon_g099.png')\n",
    "qlearning_plots.create_stat_plot(df=df_ql_100_eps, folder_path=PATH_FIGURES, hue_col='Epsilon',\n",
    "                                 file_name='ql_td_mean_v_100_epsilon_g099.png', y_axis='Mean V',\n",
    "                                 title_additional='(Forest Management (size=100, g=0.99))')"
   ],
   "metadata": {
    "collapsed": false,
    "ExecuteTime": {
     "end_time": "2023-11-26T00:26:46.102846Z",
     "start_time": "2023-11-26T00:26:27.832315Z"
    }
   }
  },
  {
   "cell_type": "code",
   "execution_count": 33,
   "outputs": [
    {
     "name": "stdout",
     "output_type": "stream",
     "text": [
      "Processing size 5\n",
      "Running for gamma=0.99\n",
      "Processing size 15\n",
      "Running for gamma=0.99\n",
      "Processing size 25\n",
      "Running for gamma=0.99\n",
      "Processing size 35\n",
      "Running for gamma=0.99\n",
      "Processing size 45\n",
      "Running for gamma=0.99\n",
      "Processing size 55\n",
      "Running for gamma=0.99\n",
      "Processing size 65\n",
      "Running for gamma=0.99\n",
      "Processing size 75\n",
      "Running for gamma=0.99\n",
      "Processing size 85\n",
      "Running for gamma=0.99\n",
      "Processing size 95\n",
      "Running for gamma=0.99\n"
     ]
    }
   ],
   "source": [
    "importlib.reload(qlearning_utils)\n",
    "states_ql_df = qlearning_utils.q_learning_stats_gammas_problem_sizes(\n",
    "    problem_function=problem_foo,\n",
    "    state_sizes=(list(range(5, 100, 10))),\n",
    "    epsilon=0.5,\n",
    "    epsilon_decay=1,\n",
    "    epsilon_min=0.5,\n",
    "    alpha=1,\n",
    "    alpha_decay=0.9999,\n",
    "    alpha_min=1e-4,\n",
    "    n_iter=100000,\n",
    "    episode_length=10,\n",
    "    td_error_threshold=5 * 1e-5,\n",
    "    overall_stat_freq=1000,\n",
    "    iter_callback=forest_iter_callback_good,\n",
    "    gammas=[0.99],\n",
    ")"
   ],
   "metadata": {
    "collapsed": false,
    "ExecuteTime": {
     "end_time": "2023-11-24T20:37:13.036979Z",
     "start_time": "2023-11-24T20:36:41.651766Z"
    }
   }
  },
  {
   "cell_type": "code",
   "execution_count": 34,
   "outputs": [],
   "source": [
    "importlib.reload(qlearning_plots)\n",
    "qlearning_plots.create_stat_plot(df=states_ql_df, folder_path=PATH_FIGURES, hue_col='Gamma', x_axis='States',\n",
    "                                 y_axis='Total Time',\n",
    "                                 file_name='ql_time_by_states.png')"
   ],
   "metadata": {
    "collapsed": false,
    "ExecuteTime": {
     "end_time": "2023-11-24T20:37:22.363891Z",
     "start_time": "2023-11-24T20:37:22.018451Z"
    }
   }
  },
  {
   "cell_type": "code",
   "execution_count": 35,
   "outputs": [
    {
     "name": "stdout",
     "output_type": "stream",
     "text": [
      "Running for gamma=0.1\n",
      "Running for gamma=0.3\n",
      "Running for gamma=0.5\n",
      "Running for gamma=0.7\n",
      "Running for gamma=0.9\n",
      "Running for gamma=0.95\n",
      "Running for gamma=0.99\n"
     ]
    }
   ],
   "source": [
    "## Bad alpha choice\n",
    "df_ql_100_bad_alpha, df_ql_100_2_bad_alpha, _ = qlearning_utils.q_learning_stats_gammas(\n",
    "    p=p_100,\n",
    "    r=r_100,\n",
    "    epsilon=0.5,\n",
    "    epsilon_decay=0.9999,\n",
    "    epsilon_min=0.5,\n",
    "    alpha=1,\n",
    "    alpha_decay=0.99,\n",
    "    alpha_min=0.01,\n",
    "    n_iter=100000,\n",
    "    episode_length=10,\n",
    "    td_error_threshold=5 * 1e-5,\n",
    "    overall_stat_freq=1000,\n",
    "    iter_callback=forest_iter_callback_good,\n",
    ")"
   ],
   "metadata": {
    "collapsed": false,
    "ExecuteTime": {
     "end_time": "2023-11-24T20:37:49.134973Z",
     "start_time": "2023-11-24T20:37:25.422171Z"
    }
   }
  },
  {
   "cell_type": "code",
   "execution_count": 36,
   "outputs": [],
   "source": [
    "importlib.reload(qlearning_plots)\n",
    "qlearning_plots.create_stat_plot(df=df_ql_100_2_bad_alpha, folder_path=PATH_FIGURES,\n",
    "                                 file_name='ql_td_error_100_bad_alpha.png',\n",
    "                                 log_scale_y=True, title_additional='(Forest Management (size=100), bad alpha setup)')\n",
    "qlearning_plots.create_stat_plot(df=df_ql_100_bad_alpha, folder_path=PATH_FIGURES,\n",
    "                                 file_name='ql_td_mean_v_100_bad_alpha.png',\n",
    "                                 y_axis='Mean V', title_additional='(Forest Management (size=100), bad alpha setup)')"
   ],
   "metadata": {
    "collapsed": false,
    "ExecuteTime": {
     "end_time": "2023-11-24T20:37:53.855839Z",
     "start_time": "2023-11-24T20:37:53.194620Z"
    }
   }
  },
  {
   "cell_type": "code",
   "execution_count": null,
   "outputs": [],
   "source": [],
   "metadata": {
    "collapsed": false
   }
  }
 ],
 "metadata": {
  "kernelspec": {
   "display_name": "Python 3",
   "language": "python",
   "name": "python3"
  },
  "language_info": {
   "codemirror_mode": {
    "name": "ipython",
    "version": 2
   },
   "file_extension": ".py",
   "mimetype": "text/x-python",
   "name": "python",
   "nbconvert_exporter": "python",
   "pygments_lexer": "ipython2",
   "version": "2.7.6"
  }
 },
 "nbformat": 4,
 "nbformat_minor": 0
}
