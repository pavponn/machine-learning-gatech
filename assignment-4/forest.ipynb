{
 "cells": [
  {
   "cell_type": "code",
   "execution_count": 12,
   "metadata": {
    "collapsed": true,
    "ExecuteTime": {
     "end_time": "2023-11-22T16:37:42.947136Z",
     "start_time": "2023-11-22T16:37:42.944118Z"
    }
   },
   "outputs": [],
   "source": [
    "import os\n",
    "\n",
    "import numpy as np\n",
    "import pandas as pd\n",
    "import importlib\n",
    "import warnings\n",
    "\n",
    "import hiive.mdptoolbox\n",
    "import hiive.mdptoolbox.mdp\n",
    "import hiive.mdptoolbox.example\n",
    "from matplotlib import pyplot as plt\n",
    "\n",
    "import utils\n",
    "import plots\n",
    "from policy_iteration_custom import PolicyIterationCustom\n",
    "\n",
    "warnings.filterwarnings(\"ignore\")"
   ]
  },
  {
   "cell_type": "code",
   "execution_count": 2,
   "outputs": [],
   "source": [
    "PATH_FIGURES = f'{os.getcwd()}/figures/forest'\n",
    "PATH_ARTEFACTS = f'{os.getcwd()}/artefacts/forest'\n",
    "VI_RUNS_CSV = 'vi_runs.csv'\n",
    "PI_RUNS_CSV = 'pi_runs.csv'\n",
    "\n",
    "VI_POLICIES_JSON = 'vi_policies.json'\n",
    "PI_POLICIES_JSON = 'pi_policies.json'\n",
    "\n",
    "regenerate_runs_mdp = True"
   ],
   "metadata": {
    "collapsed": false,
    "ExecuteTime": {
     "end_time": "2023-11-22T16:17:22.537763Z",
     "start_time": "2023-11-22T16:17:22.534795Z"
    }
   }
  },
  {
   "cell_type": "code",
   "execution_count": 14,
   "outputs": [],
   "source": [
    "plots.setup_plots()"
   ],
   "metadata": {
    "collapsed": false,
    "ExecuteTime": {
     "end_time": "2023-11-22T16:37:46.788812Z",
     "start_time": "2023-11-22T16:37:46.786351Z"
    }
   }
  },
  {
   "cell_type": "code",
   "execution_count": 13,
   "outputs": [],
   "source": [
    "ACTION_TO_LABEL = {\n",
    "    0: 'W',\n",
    "    1: 'C',\n",
    "    None: '',\n",
    "}\n",
    "ACTION_TO_COLOR = {\n",
    "    0: 'g',\n",
    "    1: 'b',\n",
    "    None: 'b'\n",
    "}"
   ],
   "metadata": {
    "collapsed": false,
    "ExecuteTime": {
     "end_time": "2023-11-22T16:37:44.999878Z",
     "start_time": "2023-11-22T16:37:44.995904Z"
    }
   }
  },
  {
   "cell_type": "code",
   "execution_count": 5,
   "outputs": [],
   "source": [
    "MAIN_SIZE = 100\n",
    "STATES_SIZES = list(range(2, MAIN_SIZE + 1))\n",
    "\n",
    "importlib.reload(utils)\n",
    "\n",
    "\n",
    "def problem_foo(sz: int):\n",
    "    return hiive.mdptoolbox.example.forest(sz)\n"
   ],
   "metadata": {
    "collapsed": false,
    "ExecuteTime": {
     "end_time": "2023-11-22T16:20:15.368490Z",
     "start_time": "2023-11-22T16:20:15.362516Z"
    }
   }
  },
  {
   "cell_type": "code",
   "execution_count": 6,
   "outputs": [
    {
     "name": "stdout",
     "output_type": "stream",
     "text": [
      "Value iteration: starting...\n",
      "Value iteration: finished runs!\n",
      "Value iteration: saved!\n",
      "Policy iteration: starting...\n",
      "Policy iteration: finished runs!\n",
      "Policy iteration: saved!\n"
     ]
    }
   ],
   "source": [
    "if regenerate_runs_mdp:\n",
    "    print('Value iteration: starting...')\n",
    "    forest_df_vi, policies_vi = utils.write_stats_for_problem_sizes(\n",
    "        algo_class=hiive.mdptoolbox.mdp.ValueIteration,\n",
    "        main_size=MAIN_SIZE,\n",
    "        state_sizes=STATES_SIZES,\n",
    "        problem_function=problem_foo,\n",
    "        not_use_span_vi=True,\n",
    "    )\n",
    "    print('Value iteration: finished runs!')\n",
    "    utils.save_df_as_csv(forest_df_vi, PATH_ARTEFACTS, VI_RUNS_CSV)\n",
    "    utils.save_policies(policies_vi, PATH_ARTEFACTS, VI_POLICIES_JSON)\n",
    "    print('Value iteration: saved!')\n",
    "\n",
    "    print('Policy iteration: starting...')\n",
    "    forest_df_pi, policies_pi = utils.write_stats_for_problem_sizes(\n",
    "        algo_class=PolicyIterationCustom,\n",
    "        main_size=MAIN_SIZE,\n",
    "        state_sizes=STATES_SIZES,\n",
    "        problem_function=problem_foo,\n",
    "        not_use_span_vi=False,\n",
    "        collect_changes=True,\n",
    "    )\n",
    "    print('Policy iteration: finished runs!')\n",
    "    utils.save_df_as_csv(forest_df_pi, PATH_ARTEFACTS, PI_RUNS_CSV)\n",
    "    utils.save_policies(policies_pi, PATH_ARTEFACTS, PI_POLICIES_JSON)\n",
    "    print('Policy iteration: saved!')"
   ],
   "metadata": {
    "collapsed": false,
    "ExecuteTime": {
     "end_time": "2023-11-22T16:20:19.923115Z",
     "start_time": "2023-11-22T16:20:16.016660Z"
    }
   }
  },
  {
   "cell_type": "code",
   "execution_count": 7,
   "outputs": [],
   "source": [
    "forest_df_vi = utils.read_csv(PATH_ARTEFACTS, VI_RUNS_CSV)\n",
    "forest_policies_vi = utils.read_policies(PATH_ARTEFACTS, VI_POLICIES_JSON)\n",
    "forest_df_pi = utils.read_csv(PATH_ARTEFACTS, PI_RUNS_CSV)\n",
    "forest_policies_pi = utils.read_policies(PATH_ARTEFACTS, PI_POLICIES_JSON)"
   ],
   "metadata": {
    "collapsed": false,
    "ExecuteTime": {
     "end_time": "2023-11-22T16:20:21.356358Z",
     "start_time": "2023-11-22T16:20:21.269294Z"
    }
   }
  },
  {
   "cell_type": "code",
   "execution_count": 8,
   "outputs": [],
   "source": [
    "importlib.reload(plots)\n",
    "plots.create_convergence_and_state_plots(MAIN_SIZE, forest_df_vi, folder_path=PATH_FIGURES, algo=\"vi\", marker_size=5)\n",
    "plots.create_convergence_and_state_plots(MAIN_SIZE, forest_df_pi, folder_path=PATH_FIGURES, algo=\"pi\", marker_size=5,\n",
    "                                         plot_changes=True)"
   ],
   "metadata": {
    "collapsed": false,
    "ExecuteTime": {
     "end_time": "2023-11-22T16:20:24.422783Z",
     "start_time": "2023-11-22T16:20:22.187570Z"
    }
   }
  },
  {
   "cell_type": "code",
   "execution_count": 64,
   "outputs": [],
   "source": [
    "from matplotlib.ticker import FuncFormatter\n",
    "\n",
    "\n",
    "def plot_policy(policy, file_name: str, title: str, folder=PATH_FIGURES, color_mapping=ACTION_TO_COLOR,\n",
    "                name_map=ACTION_TO_LABEL,\n",
    "                num_columns=10):\n",
    "    # Determine the number of rows based on the length of lst and num_columns\n",
    "    num_rows = -(-len(policy) // num_columns)\n",
    "\n",
    "    # Reshape the list into a grid\n",
    "    grid = np.array(policy + [None] * (num_rows * num_columns - len(policy))).reshape(num_rows, num_columns)\n",
    "\n",
    "    fig = plt.figure()\n",
    "    ax = fig.add_subplot(111, xlim=(-.01, num_columns + 0.01), ylim=(-.01, num_rows + 0.01))\n",
    "\n",
    "    for i in range(num_rows):\n",
    "        for j in range(num_columns):\n",
    "            y = i\n",
    "            x = j\n",
    "            p = plt.Rectangle([x, y], 1, 1, linewidth=1, edgecolor='k')\n",
    "            p.set_facecolor(color_mapping.get(grid[i, j], 'b'))\n",
    "            ax.add_patch(p)\n",
    "            ax.text(x + 0.5, y + 0.5, name_map.get(grid[i, j], ''), ha='center', va='center', size=9, color='w')\n",
    "    ax.set_xticks(np.arange(0, num_columns, 1))\n",
    "    ax.set_yticks(np.arange(0, num_rows, 1))\n",
    "    ax.set_xticklabels(np.arange(0, num_columns, 1))\n",
    "    ax.set_yticklabels(np.arange(0, num_rows * num_columns, num_columns))\n",
    "    ax.set_title(title)\n",
    "\n",
    "    os.makedirs(PATH_FIGURES, exist_ok=True)\n",
    "    save_path = os.path.join(PATH_FIGURES, file_name)\n",
    "    plt.savefig(save_path)\n",
    "    plt.close()\n",
    "    # plt.show()"
   ],
   "metadata": {
    "collapsed": false,
    "ExecuteTime": {
     "end_time": "2023-11-22T17:15:11.754484Z",
     "start_time": "2023-11-22T17:15:11.749124Z"
    }
   }
  },
  {
   "cell_type": "code",
   "execution_count": 65,
   "outputs": [],
   "source": [
    "plot_policy(list(forest_policies_vi[str(0.99)]), file_name='vi_policy_g_099.png',\n",
    "            title='Forest Management, VI Policy (gamma=0.99)')\n",
    "\n",
    "plot_policy(list(forest_policies_vi[str(0.5)]), file_name='vi_policy_g_05.png',\n",
    "            title='Forest Management, VI Policy (gamma=0.50)')\n",
    "\n",
    "plot_policy(list(forest_policies_vi[str(0.1)]), file_name='vi_policy_g_01.png',\n",
    "            title='Forest Management, VI Policy (gamma=0.1)')"
   ],
   "metadata": {
    "collapsed": false,
    "ExecuteTime": {
     "end_time": "2023-11-22T17:15:12.955495Z",
     "start_time": "2023-11-22T17:15:12.157498Z"
    }
   }
  },
  {
   "cell_type": "code",
   "execution_count": 66,
   "outputs": [],
   "source": [
    "plot_policy(list(forest_policies_pi[str(0.99)]), file_name='pi_policy_g_099.png',\n",
    "            title='Forest Management, PI Policy (gamma=0.99)')\n",
    "\n",
    "plot_policy(list(forest_policies_pi[str(0.5)]), file_name='pi_policy_g_05.png',\n",
    "            title='Forest Management, PI Policy (gamma=0.50)')\n",
    "\n",
    "plot_policy(list(forest_policies_pi[str(0.1)]), file_name='pi_policy_g_01.png',\n",
    "            title='Forest Management, PI Policy (gamma=0.1)')"
   ],
   "metadata": {
    "collapsed": false,
    "ExecuteTime": {
     "end_time": "2023-11-22T17:15:13.724487Z",
     "start_time": "2023-11-22T17:15:12.957169Z"
    }
   }
  },
  {
   "cell_type": "code",
   "execution_count": 63,
   "outputs": [],
   "source": [],
   "metadata": {
    "collapsed": false,
    "ExecuteTime": {
     "end_time": "2023-11-22T17:14:19.040092Z",
     "start_time": "2023-11-22T17:14:18.830807Z"
    }
   }
  },
  {
   "cell_type": "code",
   "execution_count": null,
   "outputs": [],
   "source": [],
   "metadata": {
    "collapsed": false
   }
  }
 ],
 "metadata": {
  "kernelspec": {
   "display_name": "Python 3",
   "language": "python",
   "name": "python3"
  },
  "language_info": {
   "codemirror_mode": {
    "name": "ipython",
    "version": 2
   },
   "file_extension": ".py",
   "mimetype": "text/x-python",
   "name": "python",
   "nbconvert_exporter": "python",
   "pygments_lexer": "ipython2",
   "version": "2.7.6"
  }
 },
 "nbformat": 4,
 "nbformat_minor": 0
}
