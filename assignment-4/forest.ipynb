{
 "cells": [
  {
   "cell_type": "code",
   "execution_count": 9,
   "metadata": {
    "collapsed": true,
    "ExecuteTime": {
     "end_time": "2023-11-21T22:18:41.211027Z",
     "start_time": "2023-11-21T22:18:41.207548Z"
    }
   },
   "outputs": [],
   "source": [
    "import os\n",
    "\n",
    "import pandas as pd\n",
    "import importlib\n",
    "import warnings\n",
    "\n",
    "import hiive.mdptoolbox\n",
    "import hiive.mdptoolbox.mdp\n",
    "import hiive.mdptoolbox.example\n",
    "\n",
    "import utils\n",
    "import plots\n",
    "from policy_iteration_custom import PolicyIterationCustom\n",
    "\n",
    "warnings.filterwarnings(\"ignore\")"
   ]
  },
  {
   "cell_type": "code",
   "execution_count": 10,
   "outputs": [],
   "source": [
    "PATH_FIGURES = f'{os.getcwd()}/figures/forest'\n",
    "PATH_ARTEFACTS = f'{os.getcwd()}/artefacts/forest'\n",
    "VI_RUNS_CSV = 'vi_runs.csv'\n",
    "PI_RUNS_CSV = 'pi_runs.csv'\n",
    "\n",
    "VI_POLICIES_JSON = 'vi_policies.json'\n",
    "PI_POLICIES_JSON = 'pi_policies.json'\n",
    "\n",
    "regenerate_runs_mdp = True"
   ],
   "metadata": {
    "collapsed": false,
    "ExecuteTime": {
     "end_time": "2023-11-21T22:18:41.407384Z",
     "start_time": "2023-11-21T22:18:41.403612Z"
    }
   }
  },
  {
   "cell_type": "code",
   "execution_count": 11,
   "outputs": [],
   "source": [
    "plots.setup_plots()"
   ],
   "metadata": {
    "collapsed": false,
    "ExecuteTime": {
     "end_time": "2023-11-21T22:18:41.605049Z",
     "start_time": "2023-11-21T22:18:41.601534Z"
    }
   }
  },
  {
   "cell_type": "code",
   "execution_count": 12,
   "outputs": [],
   "source": [
    "ACTION_TO_LABEL = {\n",
    "    0: 'W',\n",
    "    1: 'C'\n",
    "}"
   ],
   "metadata": {
    "collapsed": false,
    "ExecuteTime": {
     "end_time": "2023-11-21T22:18:41.797987Z",
     "start_time": "2023-11-21T22:18:41.793163Z"
    }
   }
  },
  {
   "cell_type": "code",
   "execution_count": 13,
   "outputs": [],
   "source": [
    "MAIN_SIZE = 30\n",
    "STATES_SIZES = list(range(2, 75))\n",
    "\n",
    "importlib.reload(utils)\n",
    "\n",
    "\n",
    "def problem_foo(sz: int):\n",
    "    return hiive.mdptoolbox.example.forest(sz)\n"
   ],
   "metadata": {
    "collapsed": false,
    "ExecuteTime": {
     "end_time": "2023-11-21T22:18:41.995535Z",
     "start_time": "2023-11-21T22:18:41.989832Z"
    }
   }
  },
  {
   "cell_type": "code",
   "execution_count": 14,
   "outputs": [
    {
     "name": "stdout",
     "output_type": "stream",
     "text": [
      "Value iteration: starting...\n",
      "Value iteration: finished runs!\n",
      "Value iteration: saved!\n",
      "Policy iteration: starting...\n",
      "Policy iteration: finished runs!\n",
      "Policy iteration: saved!\n"
     ]
    }
   ],
   "source": [
    "if regenerate_runs_mdp:\n",
    "    print('Value iteration: starting...')\n",
    "    forest_df_vi, policies_vi = utils.write_stats_for_problem_sizes(\n",
    "        algo_class=hiive.mdptoolbox.mdp.ValueIteration,\n",
    "        main_size=MAIN_SIZE,\n",
    "        state_sizes=STATES_SIZES,\n",
    "        problem_function=problem_foo,\n",
    "        not_use_span_vi=True,\n",
    "    )\n",
    "    print('Value iteration: finished runs!')\n",
    "    utils.save_df_as_csv(forest_df_vi, PATH_ARTEFACTS, VI_RUNS_CSV)\n",
    "    utils.save_policies(policies_vi, PATH_ARTEFACTS, VI_POLICIES_JSON)\n",
    "    print('Value iteration: saved!')\n",
    "\n",
    "    print('Policy iteration: starting...')\n",
    "    forest_df_pi, policies_pi = utils.write_stats_for_problem_sizes(\n",
    "        algo_class=PolicyIterationCustom,\n",
    "        main_size=MAIN_SIZE,\n",
    "        state_sizes=STATES_SIZES,\n",
    "        problem_function=problem_foo,\n",
    "        not_use_span_vi=False,\n",
    "        collect_changes=True,\n",
    "    )\n",
    "    print('Policy iteration: finished runs!')\n",
    "    utils.save_df_as_csv(forest_df_pi, PATH_ARTEFACTS, PI_RUNS_CSV)\n",
    "    utils.save_policies(policies_pi, PATH_ARTEFACTS, PI_POLICIES_JSON)\n",
    "    print('Policy iteration: saved!')"
   ],
   "metadata": {
    "collapsed": false,
    "ExecuteTime": {
     "end_time": "2023-11-21T22:18:44.944753Z",
     "start_time": "2023-11-21T22:18:42.204733Z"
    }
   }
  },
  {
   "cell_type": "code",
   "execution_count": 15,
   "outputs": [],
   "source": [
    "forest_df_vi = utils.read_csv(PATH_ARTEFACTS, VI_RUNS_CSV)\n",
    "forest_policies_vi = utils.read_policies(PATH_ARTEFACTS, VI_POLICIES_JSON)\n",
    "forest_df_pi = utils.read_csv(PATH_ARTEFACTS, PI_RUNS_CSV)\n",
    "forest_policies_pi = utils.read_policies(PATH_ARTEFACTS, PI_POLICIES_JSON)"
   ],
   "metadata": {
    "collapsed": false,
    "ExecuteTime": {
     "end_time": "2023-11-21T22:18:45.000108Z",
     "start_time": "2023-11-21T22:18:44.946181Z"
    }
   }
  },
  {
   "cell_type": "code",
   "execution_count": 16,
   "outputs": [],
   "source": [
    "importlib.reload(plots)\n",
    "plots.create_convergence_and_state_plots(MAIN_SIZE, forest_df_vi, folder_path=PATH_FIGURES, algo=\"vi\", marker_size=5)\n",
    "plots.create_convergence_and_state_plots(MAIN_SIZE, forest_df_pi, folder_path=PATH_FIGURES, algo=\"pi\", marker_size=5, plot_changes=True)"
   ],
   "metadata": {
    "collapsed": false,
    "ExecuteTime": {
     "end_time": "2023-11-21T22:18:47.008539Z",
     "start_time": "2023-11-21T22:18:45.001179Z"
    }
   }
  },
  {
   "cell_type": "code",
   "execution_count": 8,
   "outputs": [],
   "source": [],
   "metadata": {
    "collapsed": false,
    "ExecuteTime": {
     "end_time": "2023-11-21T18:17:38.361671Z",
     "start_time": "2023-11-21T18:17:38.360016Z"
    }
   }
  },
  {
   "cell_type": "code",
   "execution_count": null,
   "outputs": [],
   "source": [],
   "metadata": {
    "collapsed": false
   }
  }
 ],
 "metadata": {
  "kernelspec": {
   "display_name": "Python 3",
   "language": "python",
   "name": "python3"
  },
  "language_info": {
   "codemirror_mode": {
    "name": "ipython",
    "version": 2
   },
   "file_extension": ".py",
   "mimetype": "text/x-python",
   "name": "python",
   "nbconvert_exporter": "python",
   "pygments_lexer": "ipython2",
   "version": "2.7.6"
  }
 },
 "nbformat": 4,
 "nbformat_minor": 0
}
