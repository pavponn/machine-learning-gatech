{
 "cells": [
  {
   "cell_type": "code",
   "execution_count": 1,
   "metadata": {
    "collapsed": true,
    "ExecuteTime": {
     "end_time": "2023-11-22T18:30:57.958147Z",
     "start_time": "2023-11-22T18:30:55.002052Z"
    }
   },
   "outputs": [
    {
     "name": "stdout",
     "output_type": "stream",
     "text": [
      "Intel MKL WARNING: Support of Intel(R) Streaming SIMD Extensions 4.2 (Intel(R) SSE4.2) enabled only processors has been deprecated. Intel oneAPI Math Kernel Library 2025.0 will require Intel(R) Advanced Vector Extensions (Intel(R) AVX) instructions.\n",
      "Intel MKL WARNING: Support of Intel(R) Streaming SIMD Extensions 4.2 (Intel(R) SSE4.2) enabled only processors has been deprecated. Intel oneAPI Math Kernel Library 2025.0 will require Intel(R) Advanced Vector Extensions (Intel(R) AVX) instructions.\n"
     ]
    }
   ],
   "source": [
    "import os\n",
    "\n",
    "import gym\n",
    "import numpy as np\n",
    "import pandas as pd\n",
    "import importlib\n",
    "import warnings\n",
    "\n",
    "import hiive.mdptoolbox\n",
    "import hiive.mdptoolbox.example\n",
    "from matplotlib import pyplot as plt\n",
    "\n",
    "from policy_iteration_custom import PolicyIterationCustom\n",
    "\n",
    "import utils\n",
    "import plots\n",
    "from taxi_custom import TaxiCustomEnv\n",
    "\n",
    "warnings.filterwarnings(\"ignore\")"
   ]
  },
  {
   "cell_type": "code",
   "execution_count": 2,
   "outputs": [],
   "source": [
    "PATH_FIGURES = f'{os.getcwd()}/figures/taxi'\n",
    "PATH_ARTEFACTS = f'{os.getcwd()}/artefacts/taxi'\n",
    "VI_RUNS_CSV = 'vi_runs.csv'\n",
    "PI_RUNS_CSV = 'pi_runs.csv'\n",
    "\n",
    "VI_POLICIES_JSON = 'vi_policies.json'\n",
    "PI_POLICIES_JSON = 'pi_policies.json'\n",
    "\n",
    "regenerate_runs_mdp = False"
   ],
   "metadata": {
    "collapsed": false,
    "ExecuteTime": {
     "end_time": "2023-11-22T18:30:57.962920Z",
     "start_time": "2023-11-22T18:30:57.958967Z"
    }
   }
  },
  {
   "cell_type": "code",
   "execution_count": 3,
   "outputs": [],
   "source": [
    "gym.envs.register('TaxiCustom', TaxiCustomEnv)"
   ],
   "metadata": {
    "collapsed": false,
    "ExecuteTime": {
     "end_time": "2023-11-22T18:30:57.965882Z",
     "start_time": "2023-11-22T18:30:57.963524Z"
    }
   }
  },
  {
   "cell_type": "code",
   "execution_count": 4,
   "outputs": [],
   "source": [
    "plots.setup_plots()"
   ],
   "metadata": {
    "collapsed": false,
    "ExecuteTime": {
     "end_time": "2023-11-22T18:30:57.980977Z",
     "start_time": "2023-11-22T18:30:57.966452Z"
    }
   }
  },
  {
   "cell_type": "code",
   "execution_count": 5,
   "outputs": [],
   "source": [
    "ACTION_TO_LABEL = {\n",
    "    0: '↓',\n",
    "    1: '↑',\n",
    "    2: '←',\n",
    "    3: '→',\n",
    "    4: 'P',\n",
    "    5: 'D'\n",
    "}\n",
    "ACTION_TO_COLOR = {\n",
    "    0: '#876161',\n",
    "    1: '#d7e4f5',\n",
    "    2: '#91ccff',\n",
    "    3: '#f27272',\n",
    "    4: '#02bf1e',\n",
    "    5: '#ad031a'\n",
    "}"
   ],
   "metadata": {
    "collapsed": false,
    "ExecuteTime": {
     "end_time": "2023-11-22T18:30:57.985586Z",
     "start_time": "2023-11-22T18:30:57.982432Z"
    }
   }
  },
  {
   "cell_type": "code",
   "execution_count": 6,
   "outputs": [],
   "source": [
    "MAIN_SIZE = 10\n",
    "\n",
    "MAP_TO_ACTUAL_STATE_SIZE = {\n",
    "    3: 3 * 3 * 5 * 4,\n",
    "    4: 4 * 4 * 5 * 4,\n",
    "    5: 5 * 5 * 5 * 4,\n",
    "    6: 6 * 6 * 5 * 4,\n",
    "    7: 7 * 7 * 5 * 4,\n",
    "    8: 8 * 8 * 5 * 4,\n",
    "    9: 9 * 9 * 5 * 4,\n",
    "    10: 10 * 10 * 5 * 4,\n",
    "}\n",
    "\n",
    "importlib.reload(utils)\n",
    "\n",
    "\n",
    "def problem_foo(sz: int):\n",
    "    this_env = gym.make('TaxiCustom', size=sz)\n",
    "    this_env.reset(seed=42)\n",
    "    p, r = utils.convert_p_r_v2(this_env)\n",
    "    return p, r\n"
   ],
   "metadata": {
    "collapsed": false,
    "ExecuteTime": {
     "end_time": "2023-11-22T18:30:57.990658Z",
     "start_time": "2023-11-22T18:30:57.987390Z"
    }
   }
  },
  {
   "cell_type": "code",
   "execution_count": 7,
   "outputs": [],
   "source": [
    "# from matplotlib import pyplot as plt\n",
    "#\n",
    "# env = gym.make('TaxiCustom', size=MAIN_SIZE, render_mode='rgb_array')\n",
    "# env.reset()\n",
    "# plt.imshow(env.render())\n"
   ],
   "metadata": {
    "collapsed": false,
    "ExecuteTime": {
     "end_time": "2023-11-22T18:30:57.993103Z",
     "start_time": "2023-11-22T18:30:57.991485Z"
    }
   }
  },
  {
   "cell_type": "code",
   "execution_count": 8,
   "outputs": [
    {
     "name": "stdout",
     "output_type": "stream",
     "text": [
      "Policy iteration: starting...\n",
      "Processing size 3\n",
      "Processing size 4\n",
      "Processing size 5\n",
      "Processing size 6\n",
      "Processing size 7\n",
      "Processing size 8\n",
      "Processing size 9\n",
      "Processing size 10\n",
      "Policy iteration: finished runs!\n",
      "Policy iteration: saved!\n"
     ]
    }
   ],
   "source": [
    "importlib.reload(utils)\n",
    "\n",
    "if regenerate_runs_mdp:\n",
    "    # print('Value iteration: starting...')\n",
    "    grid_size = sorted(list(MAP_TO_ACTUAL_STATE_SIZE.keys()))\n",
    "    # taxi_df_vi, policies_vi = utils.write_stats_for_problem_sizes(\n",
    "    #     algo_class=hiive.mdptoolbox.mdp.ValueIteration,\n",
    "    #     main_size=MAIN_SIZE,\n",
    "    #     state_sizes=grid_size,\n",
    "    #     problem_function=problem_foo,\n",
    "    #     not_use_span_vi=True,\n",
    "    # )\n",
    "    # print('Value iteration: finished runs!')\n",
    "    # utils.save_df_as_csv(taxi_df_vi, PATH_ARTEFACTS, VI_RUNS_CSV)\n",
    "    # utils.save_policies(policies_vi, PATH_ARTEFACTS, VI_POLICIES_JSON)\n",
    "    # print('Value iteration: saved!')\n",
    "\n",
    "    print('Policy iteration: starting...')\n",
    "    taxi_df_pi, policies_pi = utils.write_stats_for_problem_sizes(\n",
    "        algo_class=PolicyIterationCustom,\n",
    "        main_size=MAIN_SIZE,\n",
    "        state_sizes=grid_size,\n",
    "        problem_function=problem_foo,\n",
    "        not_use_span_vi=False,\n",
    "        collect_changes=True,\n",
    "        max_iter=1e3,\n",
    "    )\n",
    "    print('Policy iteration: finished runs!')\n",
    "    utils.save_df_as_csv(taxi_df_pi, PATH_ARTEFACTS, PI_RUNS_CSV)\n",
    "    utils.save_policies(policies_pi, PATH_ARTEFACTS, PI_POLICIES_JSON)\n",
    "    print('Policy iteration: saved!')"
   ],
   "metadata": {
    "collapsed": false,
    "ExecuteTime": {
     "end_time": "2023-11-22T18:32:02.424480Z",
     "start_time": "2023-11-22T18:30:57.995918Z"
    }
   }
  },
  {
   "cell_type": "code",
   "execution_count": 9,
   "outputs": [],
   "source": [
    "taxi_df_vi = utils.read_csv(PATH_ARTEFACTS, VI_RUNS_CSV)\n",
    "taxi_policies_vi = utils.read_policies(PATH_ARTEFACTS, VI_POLICIES_JSON)\n",
    "taxi_df_pi = utils.read_csv(PATH_ARTEFACTS, PI_RUNS_CSV)\n",
    "taxi_policies_pi = utils.read_policies(PATH_ARTEFACTS, PI_POLICIES_JSON)"
   ],
   "metadata": {
    "collapsed": false,
    "ExecuteTime": {
     "end_time": "2023-11-22T18:32:02.472038Z",
     "start_time": "2023-11-22T18:32:02.425413Z"
    }
   }
  },
  {
   "cell_type": "code",
   "execution_count": 10,
   "outputs": [],
   "source": [
    "importlib.reload(plots)\n",
    "plots.create_convergence_and_state_plots(MAIN_SIZE, taxi_df_vi, folder_path=PATH_FIGURES, algo=\"vi\",\n",
    "                                         marker_size=5, actual_sizes=MAP_TO_ACTUAL_STATE_SIZE)\n",
    "plots.create_convergence_and_state_plots(MAIN_SIZE, taxi_df_pi, folder_path=PATH_FIGURES, algo=\"pi\",\n",
    "                                         marker_size=5, actual_sizes=MAP_TO_ACTUAL_STATE_SIZE, plot_changes=True)"
   ],
   "metadata": {
    "collapsed": false,
    "ExecuteTime": {
     "end_time": "2023-11-22T18:32:04.540262Z",
     "start_time": "2023-11-22T18:32:02.473032Z"
    }
   }
  },
  {
   "cell_type": "code",
   "execution_count": 11,
   "outputs": [],
   "source": [
    "def plot_policy(policy, file_name: str, title: str, folder=PATH_FIGURES, color_mapping=ACTION_TO_COLOR,\n",
    "                name_map=ACTION_TO_LABEL,\n",
    "                num_columns=5 * 4):\n",
    "    # Determine the number of rows based on the length of lst and num_columns\n",
    "    num_rows = -(-len(policy) // num_columns)\n",
    "\n",
    "    # Reshape the list into a grid\n",
    "    grid = np.array(policy + [None] * (num_rows * num_columns - len(policy))).reshape(num_rows, num_columns)\n",
    "\n",
    "    fig = plt.figure()\n",
    "    ax = fig.add_subplot(111, xlim=(-.01, num_columns + 0.01), ylim=(-.01, num_rows + 0.01))\n",
    "\n",
    "    for i in range(num_rows):\n",
    "        for j in range(num_columns):\n",
    "            y = i\n",
    "            x = j\n",
    "            p = plt.Rectangle([x, y], 1, 1, linewidth=1, edgecolor='k')\n",
    "            p.set_facecolor(color_mapping.get(grid[i, j], 'b'))\n",
    "            ax.add_patch(p)\n",
    "            ax.text(x + 0.5, y + 0.5, name_map.get(grid[i, j], ''), ha='center', va='center', size=2, color='w')\n",
    "    ax.set_xticks(np.arange(0, num_columns, 1))\n",
    "    ax.set_yticks(np.arange(0, num_rows, 10))\n",
    "    ax.set_xticklabels(np.arange(0, num_columns, 1))\n",
    "    ax.set_yticklabels(np.arange(0, num_rows, 10))\n",
    "    ax.set_title(title)\n",
    "\n",
    "    os.makedirs(folder, exist_ok=True)\n",
    "    save_path = os.path.join(folder, file_name)\n",
    "    plt.savefig(save_path)\n",
    "    plt.close()"
   ],
   "metadata": {
    "collapsed": false,
    "ExecuteTime": {
     "end_time": "2023-11-22T18:32:04.545795Z",
     "start_time": "2023-11-22T18:32:04.543588Z"
    }
   }
  },
  {
   "cell_type": "code",
   "execution_count": 12,
   "outputs": [],
   "source": [
    "plot_policy(list(taxi_policies_vi[str(0.99)]), file_name='vi_policy_g_099.png',\n",
    "            title='Taxi, VI Policy (gamma=0.99)')\n",
    "\n",
    "plot_policy(list(taxi_policies_vi[str(0.5)]), file_name='vi_policy_g_05.png',\n",
    "            title='Taxi, VI Policy (gamma=0.50)')\n",
    "\n",
    "plot_policy(list(taxi_policies_vi[str(0.1)]), file_name='vi_policy_g_01.png',\n",
    "            title='Taxi, VI Policy (gamma=0.1)')"
   ],
   "metadata": {
    "collapsed": false,
    "ExecuteTime": {
     "end_time": "2023-11-22T18:32:10.858388Z",
     "start_time": "2023-11-22T18:32:04.548788Z"
    }
   }
  },
  {
   "cell_type": "code",
   "execution_count": 13,
   "outputs": [],
   "source": [
    "plot_policy(list(taxi_policies_pi[str(0.99)]), file_name='pi_policy_g_099.png',\n",
    "            title='Taxi, PI Policy (gamma=0.99)')\n",
    "\n",
    "plot_policy(list(taxi_policies_pi[str(0.5)]), file_name='pi_policy_g_05.png',\n",
    "            title='Taxi, PI Policy (gamma=0.50)')\n",
    "\n",
    "plot_policy(list(taxi_policies_pi[str(0.1)]), file_name='pi_policy_g_01.png',\n",
    "            title='Taxi, PI Policy (gamma=0.1)')"
   ],
   "metadata": {
    "collapsed": false,
    "ExecuteTime": {
     "end_time": "2023-11-22T18:32:17.365033Z",
     "start_time": "2023-11-22T18:32:10.864407Z"
    }
   }
  },
  {
   "cell_type": "code",
   "execution_count": null,
   "outputs": [],
   "source": [],
   "metadata": {
    "collapsed": false
   }
  },
  {
   "cell_type": "code",
   "execution_count": null,
   "outputs": [],
   "source": [],
   "metadata": {
    "collapsed": false
   }
  }
 ],
 "metadata": {
  "kernelspec": {
   "display_name": "Python 3",
   "language": "python",
   "name": "python3"
  },
  "language_info": {
   "codemirror_mode": {
    "name": "ipython",
    "version": 2
   },
   "file_extension": ".py",
   "mimetype": "text/x-python",
   "name": "python",
   "nbconvert_exporter": "python",
   "pygments_lexer": "ipython2",
   "version": "2.7.6"
  }
 },
 "nbformat": 4,
 "nbformat_minor": 0
}
