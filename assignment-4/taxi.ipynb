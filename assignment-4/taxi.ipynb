{
 "cells": [
  {
   "cell_type": "code",
   "execution_count": 1,
   "metadata": {
    "collapsed": true,
    "ExecuteTime": {
     "end_time": "2023-11-24T00:04:41.562309Z",
     "start_time": "2023-11-24T00:04:37.837548Z"
    }
   },
   "outputs": [
    {
     "name": "stdout",
     "output_type": "stream",
     "text": [
      "Intel MKL WARNING: Support of Intel(R) Streaming SIMD Extensions 4.2 (Intel(R) SSE4.2) enabled only processors has been deprecated. Intel oneAPI Math Kernel Library 2025.0 will require Intel(R) Advanced Vector Extensions (Intel(R) AVX) instructions.\n",
      "Intel MKL WARNING: Support of Intel(R) Streaming SIMD Extensions 4.2 (Intel(R) SSE4.2) enabled only processors has been deprecated. Intel oneAPI Math Kernel Library 2025.0 will require Intel(R) Advanced Vector Extensions (Intel(R) AVX) instructions.\n"
     ]
    }
   ],
   "source": [
    "import os\n",
    "\n",
    "import gym\n",
    "import numpy as np\n",
    "import pandas as pd\n",
    "import importlib\n",
    "import warnings\n",
    "\n",
    "import hiive.mdptoolbox\n",
    "import hiive.mdptoolbox.example\n",
    "from matplotlib import pyplot as plt\n",
    "\n",
    "from policy_iteration_custom import PolicyIterationCustom\n",
    "\n",
    "import utils\n",
    "import plots\n",
    "from taxi_custom import TaxiCustomEnv\n",
    "\n",
    "warnings.filterwarnings(\"ignore\")"
   ]
  },
  {
   "cell_type": "code",
   "execution_count": 2,
   "outputs": [],
   "source": [
    "PATH_FIGURES = f'{os.getcwd()}/figures/taxi'\n",
    "PATH_ARTEFACTS = f'{os.getcwd()}/artefacts/taxi'\n",
    "VI_RUNS_CSV = 'vi_runs.csv'\n",
    "PI_RUNS_CSV = 'pi_runs.csv'\n",
    "\n",
    "VI_POLICIES_JSON = 'vi_policies.json'\n",
    "PI_POLICIES_JSON = 'pi_policies.json'\n",
    "\n",
    "regenerate_runs_mdp = True"
   ],
   "metadata": {
    "collapsed": false,
    "ExecuteTime": {
     "end_time": "2023-11-24T00:04:41.569073Z",
     "start_time": "2023-11-24T00:04:41.563313Z"
    }
   }
  },
  {
   "cell_type": "code",
   "execution_count": 3,
   "outputs": [],
   "source": [
    "gym.envs.register('TaxiCustom', TaxiCustomEnv)"
   ],
   "metadata": {
    "collapsed": false,
    "ExecuteTime": {
     "end_time": "2023-11-24T00:04:41.573178Z",
     "start_time": "2023-11-24T00:04:41.570472Z"
    }
   }
  },
  {
   "cell_type": "code",
   "execution_count": 4,
   "outputs": [],
   "source": [
    "plots.setup_plots()"
   ],
   "metadata": {
    "collapsed": false,
    "ExecuteTime": {
     "end_time": "2023-11-24T00:04:41.582434Z",
     "start_time": "2023-11-24T00:04:41.573932Z"
    }
   }
  },
  {
   "cell_type": "code",
   "execution_count": 5,
   "outputs": [],
   "source": [
    "ACTION_TO_LABEL = {\n",
    "    0: '↓',\n",
    "    1: '↑',\n",
    "    2: '←',\n",
    "    3: '→',\n",
    "    4: 'P',\n",
    "    5: 'D'\n",
    "}\n",
    "ACTION_TO_COLOR = {\n",
    "    0: '#876161',\n",
    "    1: '#d7e4f5',\n",
    "    2: '#91ccff',\n",
    "    3: '#f27272',\n",
    "    4: '#02bf1e',\n",
    "    5: '#ad031a'\n",
    "}"
   ],
   "metadata": {
    "collapsed": false,
    "ExecuteTime": {
     "end_time": "2023-11-24T00:04:41.590302Z",
     "start_time": "2023-11-24T00:04:41.585683Z"
    }
   }
  },
  {
   "cell_type": "code",
   "execution_count": 24,
   "outputs": [],
   "source": [
    "MAIN_SIZE = 10\n",
    "\n",
    "MAP_TO_ACTUAL_STATE_SIZE = {\n",
    "    3: 3 * 3 * 5 * 4,\n",
    "    4: 4 * 4 * 5 * 4,\n",
    "    5: 5 * 5 * 5 * 4,\n",
    "    6: 6 * 6 * 5 * 4,\n",
    "    7: 7 * 7 * 5 * 4,\n",
    "    8: 8 * 8 * 5 * 4,\n",
    "    9: 9 * 9 * 5 * 4,\n",
    "    10: 10 * 10 * 5 * 4,\n",
    "}\n",
    "\n",
    "importlib.reload(utils)\n",
    "\n",
    "\n",
    "def problem_foo(sz: int):\n",
    "    this_env = gym.make('TaxiCustom', size=sz)\n",
    "    this_env.reset(seed=42)\n",
    "    p, r = utils.convert_p_r_v2(this_env)\n",
    "    return p, r\n"
   ],
   "metadata": {
    "collapsed": false,
    "ExecuteTime": {
     "end_time": "2023-11-24T20:42:09.564693Z",
     "start_time": "2023-11-24T20:42:09.554036Z"
    }
   }
  },
  {
   "cell_type": "code",
   "execution_count": 7,
   "outputs": [],
   "source": [
    "# from matplotlib import pyplot as plt\n",
    "#\n",
    "# env = gym.make('TaxiCustom', size=MAIN_SIZE, render_mode='rgb_array')\n",
    "# env.reset()\n",
    "# plt.imshow(env.render())\n"
   ],
   "metadata": {
    "collapsed": false,
    "ExecuteTime": {
     "end_time": "2023-11-24T00:04:41.599051Z",
     "start_time": "2023-11-24T00:04:41.594650Z"
    }
   }
  },
  {
   "cell_type": "code",
   "execution_count": 8,
   "outputs": [
    {
     "name": "stdout",
     "output_type": "stream",
     "text": [
      "Processing size 3\n",
      "Processing size 4\n",
      "Processing size 5\n",
      "Processing size 6\n",
      "Processing size 7\n",
      "Processing size 8\n",
      "Processing size 9\n",
      "Processing size 10\n",
      "Value iteration: finished runs!\n",
      "Value iteration: saved!\n",
      "Policy iteration: starting...\n",
      "Processing size 3\n",
      "Processing size 4\n",
      "Processing size 5\n",
      "Processing size 6\n",
      "Processing size 7\n",
      "Processing size 8\n",
      "Processing size 9\n",
      "Processing size 10\n",
      "Policy iteration: finished runs!\n",
      "Policy iteration: saved!\n"
     ]
    }
   ],
   "source": [
    "importlib.reload(utils)\n",
    "\n",
    "if regenerate_runs_mdp:\n",
    "    # print('Value iteration: starting...')\n",
    "    grid_size = sorted(list(MAP_TO_ACTUAL_STATE_SIZE.keys()))\n",
    "    taxi_df_vi, policies_vi = utils.write_stats_for_problem_sizes(\n",
    "        algo_class=hiive.mdptoolbox.mdp.ValueIteration,\n",
    "        main_size=MAIN_SIZE,\n",
    "        state_sizes=grid_size,\n",
    "        problem_function=problem_foo,\n",
    "        not_use_span_vi=True,\n",
    "    )\n",
    "    print('Value iteration: finished runs!')\n",
    "    utils.save_df_as_csv(taxi_df_vi, PATH_ARTEFACTS, VI_RUNS_CSV)\n",
    "    utils.save_policies(policies_vi, PATH_ARTEFACTS, VI_POLICIES_JSON)\n",
    "    print('Value iteration: saved!')\n",
    "\n",
    "    print('Policy iteration: starting...')\n",
    "    taxi_df_pi, policies_pi = utils.write_stats_for_problem_sizes(\n",
    "        algo_class=PolicyIterationCustom,\n",
    "        main_size=MAIN_SIZE,\n",
    "        state_sizes=grid_size,\n",
    "        problem_function=problem_foo,\n",
    "        not_use_span_vi=False,\n",
    "        collect_changes=True,\n",
    "        max_iter=1e3,\n",
    "    )\n",
    "    print('Policy iteration: finished runs!')\n",
    "    utils.save_df_as_csv(taxi_df_pi, PATH_ARTEFACTS, PI_RUNS_CSV)\n",
    "    utils.save_policies(policies_pi, PATH_ARTEFACTS, PI_POLICIES_JSON)\n",
    "    print('Policy iteration: saved!')"
   ],
   "metadata": {
    "collapsed": false,
    "ExecuteTime": {
     "end_time": "2023-11-24T00:06:07.636878Z",
     "start_time": "2023-11-24T00:04:41.600475Z"
    }
   }
  },
  {
   "cell_type": "code",
   "execution_count": 85,
   "outputs": [
    {
     "name": "stdout",
     "output_type": "stream",
     "text": [
      "Processing size 3\n",
      "Processing size 4\n",
      "Processing size 5\n",
      "Processing size 6\n",
      "Processing size 7\n",
      "Processing size 8\n",
      "Processing size 9\n",
      "Processing size 10\n",
      "Value iteration: finished runs!\n",
      "Value iteration: saved!\n",
      "Policy iteration: starting...\n",
      "Processing size 3\n",
      "Processing size 4\n",
      "Processing size 5\n",
      "Processing size 6\n",
      "Processing size 7\n",
      "Processing size 8\n",
      "Processing size 9\n",
      "Processing size 10\n",
      "Policy iteration: finished runs!\n",
      "Policy iteration: saved!\n"
     ]
    }
   ],
   "source": [
    "if regenerate_runs_mdp:\n",
    "    # print('Value iteration: starting...')\n",
    "    grid_size = sorted(list(MAP_TO_ACTUAL_STATE_SIZE.keys()))\n",
    "    _, policies_vi_3 = utils.write_stats_for_problem_sizes(\n",
    "        algo_class=hiive.mdptoolbox.mdp.ValueIteration,\n",
    "        main_size=3,\n",
    "        state_sizes=grid_size,\n",
    "        problem_function=problem_foo,\n",
    "        not_use_span_vi=True,\n",
    "    )\n",
    "    print('Value iteration: finished runs!')\n",
    "    utils.save_policies(policies_vi_3, PATH_ARTEFACTS, 'vi_policies_3.json')\n",
    "    print('Value iteration: saved!')\n",
    "\n",
    "    print('Policy iteration: starting...')\n",
    "    _, policies_pi_3 = utils.write_stats_for_problem_sizes(\n",
    "        algo_class=PolicyIterationCustom,\n",
    "        main_size=MAIN_SIZE,\n",
    "        state_sizes=grid_size,\n",
    "        problem_function=problem_foo,\n",
    "        not_use_span_vi=False,\n",
    "        collect_changes=True,\n",
    "        max_iter=1e3,\n",
    "    )\n",
    "    print('Policy iteration: finished runs!')\n",
    "    utils.save_policies(policies_pi_3, PATH_ARTEFACTS, 'pi_policies_3.json')\n",
    "    print('Policy iteration: saved!')"
   ],
   "metadata": {
    "collapsed": false,
    "ExecuteTime": {
     "end_time": "2023-11-24T23:34:49.640284Z",
     "start_time": "2023-11-24T23:33:15.770653Z"
    }
   }
  },
  {
   "cell_type": "code",
   "execution_count": 9,
   "outputs": [],
   "source": [
    "taxi_df_vi = utils.read_csv(PATH_ARTEFACTS, VI_RUNS_CSV)\n",
    "taxi_policies_vi = utils.read_policies(PATH_ARTEFACTS, VI_POLICIES_JSON)\n",
    "taxi_df_pi = utils.read_csv(PATH_ARTEFACTS, PI_RUNS_CSV)\n",
    "taxi_policies_pi = utils.read_policies(PATH_ARTEFACTS, PI_POLICIES_JSON)"
   ],
   "metadata": {
    "collapsed": false,
    "ExecuteTime": {
     "end_time": "2023-11-24T00:06:07.660203Z",
     "start_time": "2023-11-24T00:06:07.638194Z"
    }
   }
  },
  {
   "cell_type": "code",
   "execution_count": 10,
   "outputs": [],
   "source": [
    "importlib.reload(plots)\n",
    "plots.create_convergence_and_state_plots(MAIN_SIZE, taxi_df_vi, folder_path=PATH_FIGURES, algo=\"vi\",\n",
    "                                         marker_size=5, actual_sizes=MAP_TO_ACTUAL_STATE_SIZE)\n",
    "plots.create_convergence_and_state_plots(MAIN_SIZE, taxi_df_pi, folder_path=PATH_FIGURES, algo=\"pi\",\n",
    "                                         marker_size=5, actual_sizes=MAP_TO_ACTUAL_STATE_SIZE, plot_changes=True)"
   ],
   "metadata": {
    "collapsed": false,
    "ExecuteTime": {
     "end_time": "2023-11-24T00:06:09.799729Z",
     "start_time": "2023-11-24T00:06:07.659625Z"
    }
   }
  },
  {
   "cell_type": "code",
   "execution_count": 11,
   "outputs": [],
   "source": [
    "## Let's compare for the small size\n",
    "if regenerate_runs_mdp:\n",
    "    plots.create_convergence_and_state_plots(3, taxi_df_vi, folder_path=PATH_FIGURES, algo=\"vi_3\",\n",
    "                                             marker_size=5, actual_sizes=MAP_TO_ACTUAL_STATE_SIZE, plot_states=False)\n",
    "    plots.create_convergence_and_state_plots(3, taxi_df_pi, folder_path=PATH_FIGURES, algo=\"pi_3\",\n",
    "                                             marker_size=5, actual_sizes=MAP_TO_ACTUAL_STATE_SIZE, plot_changes=False,\n",
    "                                             plot_states=False)"
   ],
   "metadata": {
    "collapsed": false,
    "ExecuteTime": {
     "end_time": "2023-11-24T00:06:10.715178Z",
     "start_time": "2023-11-24T00:06:09.800593Z"
    }
   }
  },
  {
   "cell_type": "code",
   "execution_count": 12,
   "outputs": [],
   "source": [
    "def plot_policy(policy, file_name: str, title: str, folder=PATH_FIGURES, color_mapping=ACTION_TO_COLOR,\n",
    "                name_map=ACTION_TO_LABEL,\n",
    "                num_columns=5 * 4):\n",
    "    # Determine the number of rows based on the length of lst and num_columns\n",
    "    num_rows = -(-len(policy) // num_columns)\n",
    "\n",
    "    # Reshape the list into a grid\n",
    "    grid = np.array(policy + [None] * (num_rows * num_columns - len(policy))).reshape(num_rows, num_columns)\n",
    "\n",
    "    fig = plt.figure()\n",
    "    ax = fig.add_subplot(111, xlim=(-.01, num_columns + 0.01), ylim=(-.01, num_rows + 0.01))\n",
    "\n",
    "    for i in range(num_rows):\n",
    "        for j in range(num_columns):\n",
    "            y = i\n",
    "            x = j\n",
    "            p = plt.Rectangle([x, y], 1, 1, linewidth=1, edgecolor='k')\n",
    "            p.set_facecolor(color_mapping.get(grid[i, j], 'b'))\n",
    "            ax.add_patch(p)\n",
    "            ax.text(x + 0.5, y + 0.5, name_map.get(grid[i, j], ''), ha='center', va='center', size=2, color='w')\n",
    "    ax.set_xticks(np.arange(0, num_columns, 1))\n",
    "    ax.set_yticks(np.arange(0, num_rows, 10))\n",
    "    ax.set_xticklabels(np.arange(0, num_columns, 1))\n",
    "    ax.set_yticklabels(np.arange(0, num_rows, 10))\n",
    "    ax.set_title(title)\n",
    "\n",
    "    os.makedirs(folder, exist_ok=True)\n",
    "    save_path = os.path.join(folder, file_name)\n",
    "    plt.savefig(save_path)\n",
    "    plt.close()"
   ],
   "metadata": {
    "collapsed": false,
    "ExecuteTime": {
     "end_time": "2023-11-24T00:06:10.720976Z",
     "start_time": "2023-11-24T00:06:10.718714Z"
    }
   }
  },
  {
   "cell_type": "code",
   "execution_count": 13,
   "outputs": [],
   "source": [
    "plot_policy(list(taxi_policies_vi[str(0.99)]), file_name='vi_policy_g_099.png',\n",
    "            title='Taxi (size=2000), VI Policy (gamma=0.99)')\n",
    "\n",
    "plot_policy(list(taxi_policies_vi[str(0.5)]), file_name='vi_policy_g_05.png',\n",
    "            title='Taxi (size=2000), VI Policy (gamma=0.50)')\n",
    "\n",
    "plot_policy(list(taxi_policies_vi[str(0.1)]), file_name='vi_policy_g_01.png',\n",
    "            title='Taxi (size=2000), VI Policy (gamma=0.1)')"
   ],
   "metadata": {
    "collapsed": false,
    "ExecuteTime": {
     "end_time": "2023-11-24T00:06:17.355900Z",
     "start_time": "2023-11-24T00:06:10.721783Z"
    }
   }
  },
  {
   "cell_type": "code",
   "execution_count": 14,
   "outputs": [],
   "source": [
    "plot_policy(list(taxi_policies_pi[str(0.99)]), file_name='pi_policy_g_099.png',\n",
    "            title='Taxi (size=2000), PI Policy (gamma=0.99)')\n",
    "\n",
    "plot_policy(list(taxi_policies_pi[str(0.5)]), file_name='pi_policy_g_05.png',\n",
    "            title='Taxi (size=2000), PI Policy (gamma=0.50)')\n",
    "\n",
    "plot_policy(list(taxi_policies_pi[str(0.1)]), file_name='pi_policy_g_01.png',\n",
    "            title='Taxi (size=2000), PI Policy (gamma=0.1)')"
   ],
   "metadata": {
    "collapsed": false,
    "ExecuteTime": {
     "end_time": "2023-11-24T00:06:24.179042Z",
     "start_time": "2023-11-24T00:06:17.364207Z"
    }
   }
  },
  {
   "cell_type": "code",
   "execution_count": 14,
   "outputs": [],
   "source": [],
   "metadata": {
    "collapsed": false,
    "ExecuteTime": {
     "end_time": "2023-11-24T00:06:24.180972Z",
     "start_time": "2023-11-24T00:06:24.179416Z"
    }
   }
  },
  {
   "cell_type": "code",
   "execution_count": 15,
   "outputs": [
    {
     "name": "stdout",
     "output_type": "stream",
     "text": [
      "Running for gamma=0.1\n",
      "Running for gamma=0.3\n",
      "Running for gamma=0.5\n",
      "Running for gamma=0.7\n",
      "Running for gamma=0.9\n",
      "Running for gamma=0.95\n",
      "Running for gamma=0.99\n"
     ]
    }
   ],
   "source": [
    "import qlearning_utils\n",
    "import qlearning_plots\n",
    "import qlearning_custom\n",
    "\n",
    "importlib.reload(qlearning_utils)\n",
    "importlib.reload(qlearning_custom)\n",
    "\n",
    "p_3, r_3 = problem_foo(3)\n",
    "np.random.seed(42)\n",
    "df_ql_3, df_ql_3_2, policies_ql_3 = qlearning_utils.q_learning_stats_gammas(\n",
    "    p=p_3,\n",
    "    r=r_3,\n",
    "    epsilon=0.5,\n",
    "    epsilon_decay=0.9999,\n",
    "    epsilon_min=0.01,\n",
    "    alpha=1,\n",
    "    alpha_decay=0.9999,\n",
    "    alpha_min=1e-4,\n",
    "    n_iter=100000,\n",
    "    episode_length=10,\n",
    "    td_error_threshold=5 * 1e-5,\n",
    "    overall_stat_freq=1000,\n",
    "    iter_callback=None,\n",
    ")"
   ],
   "metadata": {
    "collapsed": false,
    "ExecuteTime": {
     "end_time": "2023-11-24T00:06:49.516482Z",
     "start_time": "2023-11-24T00:06:24.183275Z"
    }
   }
  },
  {
   "cell_type": "code",
   "execution_count": 16,
   "outputs": [],
   "source": [
    "importlib.reload(qlearning_plots)\n",
    "qlearning_plots.create_stat_plot(df=df_ql_3_2, folder_path=PATH_FIGURES, file_name='ql_td_error_3.png',\n",
    "                                 log_scale_y=True, title_additional='(Taxi (size=180))')\n",
    "qlearning_plots.create_stat_plot(df=df_ql_3, folder_path=PATH_FIGURES, file_name='ql_td_mean_v_3.png',\n",
    "                                 y_axis='Mean V', title_additional='(Taxi (size=180))')"
   ],
   "metadata": {
    "collapsed": false,
    "ExecuteTime": {
     "end_time": "2023-11-24T00:06:50.377676Z",
     "start_time": "2023-11-24T00:06:49.517476Z"
    }
   }
  },
  {
   "cell_type": "code",
   "execution_count": 147,
   "outputs": [
    {
     "name": "stdout",
     "output_type": "stream",
     "text": [
      "Running for gamma=0.1\n",
      "Running for gamma=0.3\n",
      "Running for gamma=0.5\n",
      "Running for gamma=0.7\n",
      "Running for gamma=0.9\n",
      "Running for gamma=0.95\n",
      "Running for gamma=0.99\n"
     ]
    }
   ],
   "source": [
    "p_10, r_10 = problem_foo(10)\n",
    "np.random.seed(42)\n",
    "\n",
    "df_ql_10_bad, df_ql_10_2_bad, policies_ql_10_bad = qlearning_utils.q_learning_stats_gammas(\n",
    "    p=p_10,\n",
    "    r=r_10,\n",
    "    epsilon=0.01,\n",
    "    epsilon_decay=0.9999,\n",
    "    epsilon_min=0.01,\n",
    "    alpha=1,\n",
    "    alpha_decay=0.9999,\n",
    "    alpha_min=1e-4,\n",
    "    n_iter=100000,\n",
    "    episode_length=10,\n",
    "    td_error_threshold=5 * 1e-5,\n",
    "    overall_stat_freq=1000,\n",
    "    iter_callback=None,\n",
    "    # gammas=[0.99]\n",
    ")\n",
    "importlib.reload(qlearning_plots)\n",
    "qlearning_plots.create_stat_plot(df=df_ql_10_2_bad, folder_path=PATH_FIGURES, file_name='ql_td_error_10_bad.png',\n",
    "                                 log_scale_y=True, title_additional='(Taxi (size=2000))')\n",
    "qlearning_plots.create_stat_plot(df=df_ql_10_bad, folder_path=PATH_FIGURES, file_name='ql_td_mean_v_10_bad.png',\n",
    "                                 y_axis='Mean V', title_additional='(Taxi (size=2000))', )"
   ],
   "metadata": {
    "collapsed": false,
    "ExecuteTime": {
     "end_time": "2023-11-26T02:22:53.821962Z",
     "start_time": "2023-11-26T02:18:24.889945Z"
    }
   }
  },
  {
   "cell_type": "code",
   "execution_count": 162,
   "outputs": [
    {
     "name": "stdout",
     "output_type": "stream",
     "text": [
      "Running for gamma=0.1\n",
      "Running for gamma=0.3\n",
      "Running for gamma=0.5\n",
      "Running for gamma=0.7\n",
      "Running for gamma=0.9\n",
      "Running for gamma=0.95\n",
      "Running for gamma=0.99\n"
     ]
    }
   ],
   "source": [
    "p_10, r_10 = problem_foo(10)\n",
    "np.random.seed(42)\n",
    "\n",
    "df_ql_10, df_ql_10_2, policies_ql_10 = qlearning_utils.q_learning_stats_gammas(\n",
    "    p=p_10,\n",
    "    r=r_10,\n",
    "    epsilon=0.01,\n",
    "    epsilon_decay=0.9999,\n",
    "    epsilon_min=0.0001,\n",
    "    alpha=1,\n",
    "    alpha_decay=0.9999,\n",
    "    alpha_min=1,\n",
    "    n_iter=500000,\n",
    "    episode_length=100,\n",
    "    td_error_threshold=1e-2,\n",
    "    overall_stat_freq=1000,\n",
    "    iter_callback=None,\n",
    "    # gammas=[0.3, 0.7, 0.9, 0.95, 0.99]\n",
    ")\n",
    "importlib.reload(qlearning_plots)\n",
    "qlearning_plots.create_stat_plot(df=df_ql_10_2, folder_path=PATH_FIGURES, file_name='ql_td_error_10.png',\n",
    "                                 log_scale_y=True, title_additional='(Taxi (size=2000))')\n",
    "qlearning_plots.create_stat_plot(df=df_ql_10, folder_path=PATH_FIGURES, file_name='ql_td_mean_v_10.png',\n",
    "                                 y_axis='Mean V', title_additional='(Taxi (size=2000))', )"
   ],
   "metadata": {
    "collapsed": false,
    "ExecuteTime": {
     "end_time": "2023-11-26T03:00:38.071642Z",
     "start_time": "2023-11-26T02:52:39.289280Z"
    }
   }
  },
  {
   "cell_type": "code",
   "execution_count": 19,
   "outputs": [],
   "source": [
    "plot_policy(list(policies_ql_10[0.99]), file_name='ql_policy_10_g_099.png',\n",
    "            title='Taxi (size=2000), QL Policy (gamma=0.99)')\n",
    "\n",
    "plot_policy(list(policies_ql_10[0.50]), file_name='ql_policy_10_g_050.png',\n",
    "            title='Taxi (size=2000), QL Policy (gamma=0.5)')\n",
    "\n",
    "plot_policy(list(policies_ql_10[0.1]), file_name='ql_policy_10_g_01.png',\n",
    "            title='Taxi (size=2000), QL Policy (gamma=0.1)')"
   ],
   "metadata": {
    "collapsed": false,
    "ExecuteTime": {
     "end_time": "2023-11-24T00:11:31.271565Z",
     "start_time": "2023-11-24T00:11:24.697827Z"
    }
   }
  },
  {
   "cell_type": "code",
   "execution_count": 20,
   "outputs": [
    {
     "name": "stdout",
     "output_type": "stream",
     "text": [
      "Running for epsilon=0.001\n",
      "Running for epsilon=0.05\n",
      "Running for epsilon=0.1\n",
      "Running for epsilon=0.3\n",
      "Running for epsilon=0.5\n",
      "Running for epsilon=0.8\n",
      "Running for epsilon=0.9\n"
     ]
    }
   ],
   "source": [
    "importlib.reload(qlearning_utils)\n",
    "df_ql_10_eps, df_ql_10_2_eps, policies_ql_10_eps = qlearning_utils.q_learning_stats_epsilons(\n",
    "    p=p_10,\n",
    "    r=r_10,\n",
    "    epsilons=[0.001, 0.05, 0.1, 0.3, 0.5, 0.8, 0.9],\n",
    "    alpha=1,\n",
    "    alpha_decay=0.9999,\n",
    "    alpha_min=1e-4,\n",
    "    n_iter=100000,\n",
    "    episode_length=10,\n",
    "    td_error_threshold=5 * 1e-5,\n",
    "    overall_stat_freq=1000,\n",
    "    gamma=0.99,\n",
    "    iter_callback=None,\n",
    ")"
   ],
   "metadata": {
    "collapsed": false,
    "ExecuteTime": {
     "end_time": "2023-11-24T00:16:04.855102Z",
     "start_time": "2023-11-24T00:11:31.272802Z"
    }
   }
  },
  {
   "cell_type": "code",
   "execution_count": 21,
   "outputs": [],
   "source": [
    "importlib.reload(qlearning_plots)\n",
    "qlearning_plots.create_stat_plot(df=df_ql_10_2_eps, folder_path=PATH_FIGURES, hue_col='Epsilon',\n",
    "                                 file_name='ql_td_error_10_epsilon_g099.png',\n",
    "                                 title_additional='(Taxi (size=2000, g=0.99))')\n",
    "qlearning_plots.create_stat_plot(df=df_ql_10_eps, folder_path=PATH_FIGURES, hue_col='Epsilon',\n",
    "                                 file_name='ql_td_mean_v_10_epsilon_g099.png', y_axis='Mean V',\n",
    "                                 title_additional='(Taxi (size=2000, g=0.99))')"
   ],
   "metadata": {
    "collapsed": false,
    "ExecuteTime": {
     "end_time": "2023-11-24T00:16:05.466349Z",
     "start_time": "2023-11-24T00:16:04.856783Z"
    }
   }
  },
  {
   "cell_type": "code",
   "execution_count": 22,
   "outputs": [
    {
     "name": "stdout",
     "output_type": "stream",
     "text": [
      "Running for epsilon=0.001\n",
      "Running for epsilon=0.05\n",
      "Running for epsilon=0.1\n",
      "Running for epsilon=0.3\n",
      "Running for epsilon=0.5\n",
      "Running for epsilon=0.8\n",
      "Running for epsilon=0.9\n"
     ]
    }
   ],
   "source": [
    "importlib.reload(qlearning_utils)\n",
    "df_ql_3_eps, df_ql_3_2_eps, policies_ql_3_eps = qlearning_utils.q_learning_stats_epsilons(\n",
    "    p=p_3,\n",
    "    r=r_3,\n",
    "    epsilons=[0.001, 0.05, 0.1, 0.3, 0.5, 0.8, 0.9],\n",
    "    alpha=1,\n",
    "    alpha_decay=0.9999,\n",
    "    alpha_min=1e-4,\n",
    "    n_iter=100000,\n",
    "    episode_length=10,\n",
    "    td_error_threshold=5 * 1e-5,\n",
    "    overall_stat_freq=1000,\n",
    "    gamma=0.99,\n",
    "    iter_callback=None,\n",
    ")"
   ],
   "metadata": {
    "collapsed": false,
    "ExecuteTime": {
     "end_time": "2023-11-24T00:16:46.729763Z",
     "start_time": "2023-11-24T00:16:05.467489Z"
    }
   }
  },
  {
   "cell_type": "code",
   "execution_count": 23,
   "outputs": [],
   "source": [
    "importlib.reload(qlearning_plots)\n",
    "qlearning_plots.create_stat_plot(df=df_ql_3_2_eps, folder_path=PATH_FIGURES, hue_col='Epsilon',\n",
    "                                 file_name='ql_td_error_3_epsilon_g099.png',\n",
    "                                 title_additional='(Taxi (size=180, g=0.99))')\n",
    "qlearning_plots.create_stat_plot(df=df_ql_3_eps, folder_path=PATH_FIGURES, hue_col='Epsilon',\n",
    "                                 file_name='ql_td_mean_v_3_epsilon_g099.png', y_axis='Mean V',\n",
    "                                 title_additional='(Taxi (size=180, g=0.99))')"
   ],
   "metadata": {
    "collapsed": false,
    "ExecuteTime": {
     "end_time": "2023-11-24T00:16:47.302408Z",
     "start_time": "2023-11-24T00:16:46.730390Z"
    }
   }
  },
  {
   "cell_type": "code",
   "execution_count": 68,
   "outputs": [],
   "source": [
    "SEEDS = [45, 1337, 42, 2991, 10232, 100, 23, 19999, 2935, 2323, 11, 13213, 2323, 4424, 211, 33, 5053, 100, 1320, 213,\n",
    "         240231, 3012, 2424, 23293, 2424, 44, 123, 9483, 933, 11112, 98]\n",
    "\n",
    "\n",
    "def run_episode(policy, env, seed):\n",
    "    s, _ = env.reset(seed=seed)\n",
    "    total_reward = 0\n",
    "    terminated = False\n",
    "    i = 0\n",
    "    while not terminated:\n",
    "        action = policy[s]\n",
    "        tup = env.step(action)\n",
    "        s_n, r, t, _a, _b = tup\n",
    "        total_reward += r\n",
    "        i += 1\n",
    "        terminated = t\n",
    "        s = s_n\n",
    "        if i == 100:\n",
    "            terminated = True\n",
    "    return total_reward\n",
    "\n",
    "\n",
    "def evaluate_policy(policy, size):\n",
    "    rewards = []\n",
    "    for seed in SEEDS:\n",
    "        cur_env = gym.make('TaxiCustom', size=size)\n",
    "        reward = run_episode(policy, cur_env, seed)\n",
    "        rewards.append(reward)\n",
    "    return rewards\n",
    "\n",
    "\n"
   ],
   "metadata": {
    "collapsed": false,
    "ExecuteTime": {
     "end_time": "2023-11-24T23:17:24.813630Z",
     "start_time": "2023-11-24T23:17:24.807073Z"
    }
   }
  },
  {
   "cell_type": "code",
   "execution_count": 69,
   "outputs": [],
   "source": [
    "# total_rewards_ql = evaluate_policy(list(policies_ql_10[0.99]), 10)"
   ],
   "metadata": {
    "collapsed": false,
    "ExecuteTime": {
     "end_time": "2023-11-24T23:17:26.695380Z",
     "start_time": "2023-11-24T23:17:26.683852Z"
    }
   }
  },
  {
   "cell_type": "code",
   "execution_count": 173,
   "outputs": [],
   "source": [
    "taxi_policies_vi_3 = utils.read_policies(PATH_ARTEFACTS, 'vi_policies_3.json')\n",
    "taxi_policies_pi_3 = utils.read_policies(PATH_ARTEFACTS, 'pi_policies_3.json')\n",
    "total_rewards_pi = {}\n",
    "total_rewards_vi = {}\n",
    "total_rewards_ql = {}\n",
    "difference_vi_pi = {}\n",
    "difference_vi_ql = {}\n",
    "difference_pi_ql = {}\n",
    "total_rewards_pi_3 = {}\n",
    "total_rewards_vi_3 = {}\n",
    "total_rewards_ql_3 = {}\n",
    "difference_vi_pi_3 = {}\n",
    "difference_vi_ql_3 = {}\n",
    "for gamma in taxi_policies_pi.keys():\n",
    "    # for gamma in [str(0.99)]:\n",
    "    total_rewards_vi[gamma] = evaluate_policy(list(taxi_policies_vi[gamma]), 10)\n",
    "    total_rewards_pi[gamma] = evaluate_policy(list(taxi_policies_pi[gamma]), 10)\n",
    "    total_rewards_ql[gamma] = evaluate_policy(list(policies_ql_10[float(gamma)]), 10)\n",
    "    total_rewards_vi_3[gamma] = evaluate_policy(list(taxi_policies_vi_3[gamma]), 3)\n",
    "    total_rewards_pi_3[gamma] = evaluate_policy(list(taxi_policies_pi_3[gamma]), 3)\n",
    "    total_rewards_ql_3[gamma] = evaluate_policy(list(policies_ql_3[float(gamma)]), 3)\n",
    "    difference_vi_pi[gamma] = [np.abs(list(total_rewards_vi[gamma])[i] - list(total_rewards_pi[gamma])[i]) for i in\n",
    "                               range(len(total_rewards_vi[gamma]))]\n",
    "    difference_vi_ql[gamma] = [np.abs(list(total_rewards_vi[gamma])[i] - list(total_rewards_ql[gamma])[i]) for i in\n",
    "                               range(len(total_rewards_vi[gamma]))]\n",
    "\n",
    "    difference_pi_ql[gamma] = [np.abs(list(total_rewards_pi[gamma])[i] - list(total_rewards_ql[gamma])[i]) for i in\n",
    "                               range(len(total_rewards_ql[gamma]))]\n",
    "\n",
    "    difference_vi_pi_3[gamma] = [np.abs(list(total_rewards_vi_3[gamma])[i] - list(total_rewards_pi_3[gamma])[i]) for i\n",
    "                                 in\n",
    "                                 range(len(total_rewards_vi_3[gamma]))]\n",
    "    difference_vi_ql_3[gamma] = [np.abs(list(total_rewards_vi_3[gamma])[i] - list(total_rewards_ql_3[gamma])[i]) for i\n",
    "                                 in\n",
    "                                 range(len(total_rewards_vi_3[gamma]))]"
   ],
   "metadata": {
    "collapsed": false,
    "ExecuteTime": {
     "end_time": "2023-11-26T03:11:42.260383Z",
     "start_time": "2023-11-26T03:11:24.979001Z"
    }
   }
  },
  {
   "cell_type": "code",
   "execution_count": 124,
   "outputs": [
    {
     "name": "stdout",
     "output_type": "stream",
     "text": [
      "{'0.99': [0, 0, 0, 0, 0, 0, 0, 0, 0, 0, 0, 0, 0, 0, 0, 0, 0, 0, 0, 0, 0, 2, 0, 0, 0, 0, 0, 0, 0, 0, 0]}\n"
     ]
    }
   ],
   "source": [
    "print(difference_vi_ql_3)"
   ],
   "metadata": {
    "collapsed": false,
    "ExecuteTime": {
     "end_time": "2023-11-26T01:24:46.987514Z",
     "start_time": "2023-11-26T01:24:46.981568Z"
    }
   }
  },
  {
   "cell_type": "code",
   "execution_count": 125,
   "outputs": [
    {
     "name": "stdout",
     "output_type": "stream",
     "text": [
      "{'0.99': [12, 16, 15, 12, 13, 16, 13, 14, 8, 15, 12, 13, 15, 11, 9, 14, 13, 16, 15, 16, 8, 14, 12, 15, 12, 12, 15, 15, 13, 17, 15]}\n"
     ]
    }
   ],
   "source": [
    "print(total_rewards_vi_3)"
   ],
   "metadata": {
    "collapsed": false,
    "ExecuteTime": {
     "end_time": "2023-11-26T01:24:57.914251Z",
     "start_time": "2023-11-26T01:24:57.890103Z"
    }
   }
  },
  {
   "cell_type": "code",
   "execution_count": 138,
   "outputs": [
    {
     "name": "stdout",
     "output_type": "stream",
     "text": [
      "{'0.99': [12, 16, 15, 12, 13, 16, 13, 14, 8, 15, 12, 13, 15, 11, 9, 14, 13, 16, 15, 16, 8, 12, 12, 15, 12, 12, 15, 15, 13, 17, 15]}\n"
     ]
    }
   ],
   "source": [
    "print(total_rewards_ql_3)"
   ],
   "metadata": {
    "collapsed": false,
    "ExecuteTime": {
     "end_time": "2023-11-26T01:54:58.721648Z",
     "start_time": "2023-11-26T01:54:58.717395Z"
    }
   }
  },
  {
   "cell_type": "code",
   "execution_count": 135,
   "outputs": [
    {
     "name": "stdout",
     "output_type": "stream",
     "text": [
      "{'0.99': [0, 0, 0, 0, 0, 0, 0, 0, 0, 0, 0, 0, 0, 0, 0, 0, 0, 0, 0, 0, 0, 0, 0, 0, 0, 0, 0, 0, 0, 0, 0]}\n"
     ]
    }
   ],
   "source": [
    "print(difference_vi_pi)"
   ],
   "metadata": {
    "collapsed": false,
    "ExecuteTime": {
     "end_time": "2023-11-26T01:39:26.617965Z",
     "start_time": "2023-11-26T01:39:26.612098Z"
    }
   }
  },
  {
   "cell_type": "code",
   "execution_count": 164,
   "outputs": [
    {
     "name": "stdout",
     "output_type": "stream",
     "text": [
      "{'0.1': [-100, -100, -100, -100, -100, -100, -100, -100, -100, -100, -100, -100, -100, -100, 13, -100, -100, -100, -100, -100, -100, -100, -100, -100, -100, -100, -100, -100, -100, -100, -100], '0.3': [-100, -100, -100, -100, -100, -100, -100, -100, -100, -100, -100, -100, -100, -100, -100, -100, -100, -100, -100, -100, -100, -100, -100, -100, -100, -100, -100, -100, -100, -100, -100], '0.5': [-100, -100, -100, -100, -100, -100, -100, -100, -100, -100, -100, -100, -100, -100, 13, -100, -100, -100, -100, -100, -100, -100, -100, -100, -100, -100, -100, -100, -100, -100, -100], '0.7': [-100, -100, -100, -100, -100, -100, 7, -100, -100, -100, -100, 10, -100, -100, 13, -100, -100, -100, -100, -100, -100, -100, -100, -100, -100, -100, -100, -100, -100, -100, -100], '0.9': [-1, 0, 4, -2, 2, -6, 7, 6, -100, -3, -100, 8, -3, 1, 13, 4, -100, -6, -3, -3, -2, 2, 6, -100, 6, -100, -11, 6, 4, -1, -100], '0.95': [-1, 0, 4, -2, 2, -100, 7, 6, -11, -3, -100, 10, -3, 1, 13, 4, -100, -100, -3, -1, -2, 2, 4, 3, 4, -8, -9, 6, 4, -100, -100], '0.99': [-1, 0, 4, -2, 2, -6, 7, 6, -100, -3, -100, 10, -3, 1, 13, 4, -100, -6, -3, -1, -2, -100, 6, -100, 6, -100, -7, 6, -100, -100, -100]}\n"
     ]
    }
   ],
   "source": [
    "print(total_rewards_ql)"
   ],
   "metadata": {
    "collapsed": false,
    "ExecuteTime": {
     "end_time": "2023-11-26T03:07:31.404260Z",
     "start_time": "2023-11-26T03:07:31.398980Z"
    }
   }
  },
  {
   "cell_type": "code",
   "execution_count": 169,
   "outputs": [
    {
     "name": "stdout",
     "output_type": "stream",
     "text": [
      "{'0.1': [0, 0, 0, 0, 0, 0, 0, 0, 0, 0, 0, 0, 0, 0, 113, 0, 0, 0, 0, 0, 0, 0, 0, 0, 0, 0, 0, 0, 0, 0, 0], '0.3': [0, 0, 0, 0, 0, 0, 0, 0, 0, 0, 0, 0, 0, 0, 113, 0, 0, 0, 0, 0, 0, 0, 0, 0, 0, 0, 0, 0, 0, 0, 0], '0.5': [0, 0, 0, 0, 0, 0, 0, 0, 0, 0, 0, 110, 0, 0, 0, 0, 0, 0, 0, 0, 0, 0, 0, 103, 0, 0, 0, 0, 0, 0, 0], '0.7': [99, 100, 104, 98, 102, 0, 0, 106, 0, 97, 97, 0, 97, 101, 0, 104, 0, 0, 97, 99, 98, 102, 106, 103, 106, 0, 0, 106, 104, 99, 99], '0.9': [0, 0, 0, 0, 0, 0, 0, 0, 91, 0, 97, 2, 0, 0, 0, 0, 89, 0, 0, 2, 0, 0, 0, 103, 0, 94, 4, 0, 0, 0, 99], '0.95': [0, 0, 0, 0, 0, 94, 0, 0, 2, 0, 97, 0, 0, 0, 0, 0, 89, 94, 0, 0, 0, 0, 2, 0, 2, 2, 2, 0, 0, 99, 99], '0.99': [0, 0, 0, 0, 0, 0, 0, 0, 91, 0, 97, 0, 0, 0, 0, 0, 89, 0, 0, 0, 0, 102, 0, 103, 0, 94, 0, 0, 104, 99, 99]}\n"
     ]
    }
   ],
   "source": [
    "print(difference_vi_ql)"
   ],
   "metadata": {
    "collapsed": false,
    "ExecuteTime": {
     "end_time": "2023-11-26T03:10:25.976040Z",
     "start_time": "2023-11-26T03:10:25.970261Z"
    }
   }
  },
  {
   "cell_type": "code",
   "execution_count": 99,
   "outputs": [
    {
     "name": "stdout",
     "output_type": "stream",
     "text": [
      "{'0.1': [-100, -100, -100, -100, -100, -100, -100, -100, -100, -100, -100, -100, -100, -100, -100, -100, -100, -100, -100, -100, -100, -100, -100, -100, -100, -100, -100, -100, -100, -100, -100], '0.3': [-100, -100, -100, -100, -100, -100, -100, -100, -100, -100, -100, -100, -100, -100, 13, -100, -100, -100, -100, -100, -100, -100, -100, -100, -100, -100, -100, -100, -100, -100, -100], '0.5': [-100, -100, -100, -100, -100, -100, -100, -100, -100, -100, -100, 10, -100, -100, 13, -100, -100, -100, -100, -100, -100, -100, -100, 3, -100, -100, -100, -100, -100, -100, -100], '0.7': [-1, 0, 4, -2, 2, -100, 7, 6, -100, -3, -3, 10, -3, 1, 13, 4, -100, -100, -3, -1, -2, 2, 6, 3, 6, -100, -100, 6, 4, -1, -1], '0.9': [-1, 0, 4, -2, 2, -6, 7, 6, -9, -3, -3, 10, -3, 1, 13, 4, -11, -6, -3, -1, -2, 2, 6, 3, 6, -6, -7, 6, 4, -1, -1], '0.95': [-1, 0, 4, -2, 2, -6, 7, 6, -9, -3, -3, 10, -3, 1, 13, 4, -11, -6, -3, -1, -2, 2, 6, 3, 6, -6, -7, 6, 4, -1, -1], '0.99': [-1, 0, 4, -2, 2, -6, 7, 6, -9, -3, -3, 10, -3, 1, 13, 4, -11, -6, -3, -1, -2, 2, 6, 3, 6, -6, -7, 6, 4, -1, -1]}\n"
     ]
    }
   ],
   "source": [
    "print(total_rewards_vi)"
   ],
   "metadata": {
    "collapsed": false,
    "ExecuteTime": {
     "end_time": "2023-11-24T23:52:34.085334Z",
     "start_time": "2023-11-24T23:52:34.073896Z"
    }
   }
  },
  {
   "cell_type": "code",
   "execution_count": 174,
   "outputs": [
    {
     "name": "stdout",
     "output_type": "stream",
     "text": [
      "{'0.1': 0.03225806451612903, '0.3': 0.03225806451612903, '0.5': 0.06451612903225806, '0.7': 0.7096774193548387, '0.9': 0.2903225806451613, '0.95': 0.3548387096774194, '0.99': 0.2903225806451613}\n"
     ]
    }
   ],
   "source": [
    "print({k: len(list(filter(lambda x: x != 0, v))) / 31.0 for k, v in difference_vi_ql.items()})"
   ],
   "metadata": {
    "collapsed": false,
    "ExecuteTime": {
     "end_time": "2023-11-26T03:12:06.537924Z",
     "start_time": "2023-11-26T03:12:06.533593Z"
    }
   }
  },
  {
   "cell_type": "code",
   "execution_count": 175,
   "outputs": [
    {
     "name": "stdout",
     "output_type": "stream",
     "text": [
      "{'0.1': 0.0, '0.3': 0.0967741935483871, '0.5': 0.5161290322580645, '0.7': 0.9032258064516129, '0.9': 0.2903225806451613, '0.95': 0.3548387096774194, '0.99': 0.2903225806451613}\n"
     ]
    }
   ],
   "source": [
    "print({k: len(list(filter(lambda x: x != 0, v))) /31.0 for k, v in difference_pi_ql.items()})"
   ],
   "metadata": {
    "collapsed": false,
    "ExecuteTime": {
     "end_time": "2023-11-26T03:12:12.717694Z",
     "start_time": "2023-11-26T03:12:12.713297Z"
    }
   }
  },
  {
   "cell_type": "code",
   "execution_count": 102,
   "outputs": [
    {
     "data": {
      "text/plain": "31"
     },
     "execution_count": 102,
     "metadata": {},
     "output_type": "execute_result"
    }
   ],
   "source": [
    "len(SEEDS)"
   ],
   "metadata": {
    "collapsed": false,
    "ExecuteTime": {
     "end_time": "2023-11-25T22:54:59.198722Z",
     "start_time": "2023-11-25T22:54:59.181430Z"
    }
   }
  },
  {
   "cell_type": "code",
   "execution_count": 111,
   "outputs": [
    {
     "name": "stdout",
     "output_type": "stream",
     "text": [
      "{'0.1': 113.0, '0.3': 106.5, '0.5': 102.85714285714286, '0.7': 92.5, '0.9': nan, '0.95': nan, '0.99': nan}\n"
     ]
    }
   ],
   "source": [
    "print({k: np.mean(list(filter(lambda x: x != 0, v))) for k, v in difference_vi_pi.items()})"
   ],
   "metadata": {
    "collapsed": false,
    "ExecuteTime": {
     "end_time": "2023-11-25T23:22:06.912836Z",
     "start_time": "2023-11-25T23:22:06.909410Z"
    }
   }
  },
  {
   "cell_type": "code",
   "execution_count": null,
   "outputs": [],
   "source": [],
   "metadata": {
    "collapsed": false
   }
  }
 ],
 "metadata": {
  "kernelspec": {
   "display_name": "Python 3",
   "language": "python",
   "name": "python3"
  },
  "language_info": {
   "codemirror_mode": {
    "name": "ipython",
    "version": 2
   },
   "file_extension": ".py",
   "mimetype": "text/x-python",
   "name": "python",
   "nbconvert_exporter": "python",
   "pygments_lexer": "ipython2",
   "version": "2.7.6"
  }
 },
 "nbformat": 4,
 "nbformat_minor": 0
}
