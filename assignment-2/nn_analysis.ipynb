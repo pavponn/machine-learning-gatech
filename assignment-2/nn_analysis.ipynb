{
 "cells": [
  {
   "cell_type": "code",
   "execution_count": 1,
   "metadata": {
    "collapsed": true,
    "ExecuteTime": {
     "end_time": "2023-10-15T20:13:59.335950Z",
     "start_time": "2023-10-15T20:13:41.019293Z"
    }
   },
   "outputs": [
    {
     "name": "stdout",
     "output_type": "stream",
     "text": [
      "Intel MKL WARNING: Support of Intel(R) Streaming SIMD Extensions 4.2 (Intel(R) SSE4.2) enabled only processors has been deprecated. Intel oneAPI Math Kernel Library 2025.0 will require Intel(R) Advanced Vector Extensions (Intel(R) AVX) instructions.\n",
      "Intel MKL WARNING: Support of Intel(R) Streaming SIMD Extensions 4.2 (Intel(R) SSE4.2) enabled only processors has been deprecated. Intel oneAPI Math Kernel Library 2025.0 will require Intel(R) Advanced Vector Extensions (Intel(R) AVX) instructions.\n"
     ]
    }
   ],
   "source": [
    "import os\n",
    "import time\n",
    "\n",
    "import numpy as np\n",
    "import pandas as pd\n",
    "import mlrose_hiive as ml_h\n",
    "from sklearn.model_selection import train_test_split\n",
    "from sklearn.preprocessing import MinMaxScaler, OneHotEncoder\n",
    "from sklearn.metrics import f1_score\n",
    "import matplotlib.pyplot as plt"
   ]
  },
  {
   "cell_type": "code",
   "execution_count": 2,
   "outputs": [
    {
     "data": {
      "text/plain": "mlrose_hiive.runners.nngs_runner.NNGSRunner"
     },
     "execution_count": 2,
     "metadata": {},
     "output_type": "execute_result"
    }
   ],
   "source": [
    "SEED = 42\n",
    "ml_h.NNGSRunner"
   ],
   "metadata": {
    "collapsed": false,
    "ExecuteTime": {
     "end_time": "2023-10-15T20:13:59.343845Z",
     "start_time": "2023-10-15T20:13:59.337542Z"
    }
   }
  },
  {
   "cell_type": "code",
   "execution_count": 3,
   "outputs": [],
   "source": [
    "df = pd.read_csv('datasets/wine-quality/wine-quality-all.csv', delimiter=';', encoding='utf-8')\n",
    "X = df.drop('quality', axis=1)\n",
    "y = df['quality']\n",
    "\n",
    "X_train, X_test, y_train, y_test = train_test_split(X, y, test_size=0.3, random_state=SEED)\n",
    "\n",
    "X_train_color = X_train['color'].values.reshape(-1, 1)\n",
    "X_test_color = X_test['color'].values.reshape(-1, 1)"
   ],
   "metadata": {
    "collapsed": false,
    "ExecuteTime": {
     "end_time": "2023-10-15T20:13:59.373760Z",
     "start_time": "2023-10-15T20:13:59.344336Z"
    }
   }
  },
  {
   "cell_type": "code",
   "execution_count": 4,
   "outputs": [],
   "source": [
    "encoder = OneHotEncoder(sparse=False, handle_unknown='ignore')\n",
    "\n",
    "X_train_encoded_color = encoder.fit_transform(X_train_color)\n",
    "X_test_encoded_color = encoder.transform(X_test_color)\n",
    "\n",
    "# Step 4: Concatenate the encoded 'color' column with the original data\n",
    "X_train_reset = X_train.drop(columns=['color']).reset_index(drop=True)\n",
    "X_train_encoded_color_reset = pd.DataFrame(X_train_encoded_color,\n",
    "                                           columns=encoder.get_feature_names_out(['color'])).reset_index(drop=True)\n",
    "X_train_e = pd.concat([X_train_reset, X_train_encoded_color_reset], axis=1)\n",
    "\n",
    "X_test_reset = X_test.drop(columns=['color']).reset_index(drop=True)\n",
    "X_test_encoded_color_reset = pd.DataFrame(X_test_encoded_color,\n",
    "                                          columns=encoder.get_feature_names_out(['color'])).reset_index(drop=True)\n",
    "X_test_e = pd.concat([X_test_reset, X_test_encoded_color_reset], axis=1)\n",
    "\n",
    "X_all_e = pd.concat((X_train_e, X_test_e), axis=0)\n",
    "\n",
    "#\n",
    "scaler = MinMaxScaler()\n",
    "\n",
    "X_train_n = scaler.fit_transform(X_train_e)\n",
    "X_test_n = scaler.transform(X_test_e)\n",
    "\n",
    "X_all_n = np.concatenate((X_train_n, X_test_n), axis=0)\n"
   ],
   "metadata": {
    "collapsed": false,
    "ExecuteTime": {
     "end_time": "2023-10-15T20:13:59.374276Z",
     "start_time": "2023-10-15T20:13:59.362112Z"
    }
   }
  },
  {
   "cell_type": "code",
   "execution_count": 5,
   "outputs": [],
   "source": [
    "X_val_n, X_test_n, y_val, y_test = train_test_split(X_test_n, y_test, test_size=0.5, random_state=SEED)\n",
    "\n",
    "# Encode labels\n",
    "one_hot = OneHotEncoder()\n",
    "\n",
    "y_train_hot = one_hot.fit_transform(y_train.values.reshape(-1, 1)).todense()\n",
    "y_val_hot = one_hot.transform(y_val.values.reshape(-1, 1)).todense()\n",
    "y_test_hot = one_hot.transform(y_test.values.reshape(-1, 1)).todense()\n"
   ],
   "metadata": {
    "collapsed": false,
    "ExecuteTime": {
     "end_time": "2023-10-15T20:13:59.380199Z",
     "start_time": "2023-10-15T20:13:59.374176Z"
    }
   }
  },
  {
   "cell_type": "code",
   "execution_count": 6,
   "outputs": [],
   "source": [
    "F1_SCORE = 'micro'"
   ],
   "metadata": {
    "collapsed": false,
    "ExecuteTime": {
     "end_time": "2023-10-15T20:13:59.382142Z",
     "start_time": "2023-10-15T20:13:59.379887Z"
    }
   }
  },
  {
   "cell_type": "code",
   "execution_count": 7,
   "outputs": [
    {
     "data": {
      "text/plain": "118"
     },
     "execution_count": 7,
     "metadata": {},
     "output_type": "execute_result"
    }
   ],
   "source": [
    "from itertools import product\n",
    "\n",
    "algorithms = [\n",
    "    'gradient_descent',\n",
    "    'simulated_annealing',\n",
    "    'random_hill_climb',\n",
    "    'genetic_alg',\n",
    "]\n",
    "learning_rates = [1e-1, 1e-2, 1e-3, 1e-4, 1e-5, 1e-7]\n",
    "mutation_probabilities = [0.1, 0.3, 0.5, 0.8]\n",
    "pop_sizes = [25, 50, 100, 150]\n",
    "restarts = [0, 1, 2, 4, 6, 8, 10, 15]\n",
    "schedules = [0.05, 0.1, 0.5, 1, 2, 5, 10, 20]\n",
    "\n",
    "grid_search_params = list(product(algorithms, learning_rates, mutation_probabilities, pop_sizes, restarts, schedules))\n",
    "\n",
    "filtered_grid_search_params = []\n",
    "for elem in grid_search_params:\n",
    "    algo, lr, mut_prob, pop_sz, rest, schedule = elem\n",
    "    if algo == 'gradient_descent' and mut_prob == 0.1 and pop_sz == 50 and rest == 0 and schedule == 0.1:\n",
    "        filtered_grid_search_params.append(elem)\n",
    "    elif algo == 'simulated_annealing' and mut_prob == 0.1 and pop_sz == 50 and rest == 0:\n",
    "        filtered_grid_search_params.append(elem)\n",
    "    elif algo == 'random_hill_climb' and mut_prob == 0.1 and pop_sz == 50 and schedule == 0.1:\n",
    "        filtered_grid_search_params.append(elem)\n",
    "    elif algo == 'genetic_alg' and schedule == 0.1 and rest == 0 and (lr == 1e-4):\n",
    "        filtered_grid_search_params.append(elem)\n",
    "\n",
    "# filtered_grid_search_params\n",
    "len(filtered_grid_search_params)"
   ],
   "metadata": {
    "collapsed": false,
    "ExecuteTime": {
     "end_time": "2023-10-15T20:13:59.398990Z",
     "start_time": "2023-10-15T20:13:59.395348Z"
    }
   }
  },
  {
   "cell_type": "code",
   "execution_count": 8,
   "outputs": [
    {
     "data": {
      "text/plain": "  0%|          | 0/118 [00:00<?, ?it/s]",
      "application/vnd.jupyter.widget-view+json": {
       "version_major": 2,
       "version_minor": 0,
       "model_id": "d18beca4a1674cc3b32f251bdfc3fb88"
      }
     },
     "metadata": {},
     "output_type": "display_data"
    }
   ],
   "source": [
    "from tqdm.notebook import tqdm\n",
    "\n",
    "out = []\n",
    "#\n",
    "# filtered_grid_search_params = filtered_grid_search_params[0:5]\n",
    "\n",
    "for params in tqdm(filtered_grid_search_params):\n",
    "    algo, lr, mut_prob, pop_sz, rest, schedule = params\n",
    "    nn_model1 = ml_h.NeuralNetwork(\n",
    "        hidden_nodes=[50, 50],\n",
    "        activation='relu',\n",
    "        algorithm=algo,\n",
    "        max_iters=500,\n",
    "        bias=True,\n",
    "        is_classifier=True,\n",
    "        early_stopping=False,\n",
    "        clip_max=5,\n",
    "        max_attempts=200,\n",
    "        random_state=SEED,\n",
    "        curve=True,\n",
    "        learning_rate=lr,\n",
    "        mutation_prob=mut_prob,\n",
    "        pop_size=pop_sz,\n",
    "        restarts=rest,\n",
    "        schedule=ml_h.GeomDecay(schedule),\n",
    "    )\n",
    "    t0 = time.time()\n",
    "    nn_model1.fit(X_train_n, y_train_hot)\n",
    "    t1 = time.time()\n",
    "    duration = t1 - t0\n",
    "    y_train_pred = nn_model1.predict(X_train_n)\n",
    "    y_val_pred = nn_model1.predict(X_val_n)\n",
    "    y_test_pred = nn_model1.predict(X_test_n)\n",
    "    y_train_micro_f1 = f1_score(np.asarray(y_train_hot), np.asarray(y_train_pred), average=F1_SCORE)\n",
    "    y_val_micro_f1 = f1_score(np.asarray(y_val_hot), np.asarray(y_val_pred), average=F1_SCORE)\n",
    "    y_test_micro_f1 = f1_score(np.asarray(y_test_hot), np.asarray(y_test_pred), average=F1_SCORE)\n",
    "\n",
    "    out.append({\n",
    "        'algorithm': algo,\n",
    "        'learning_rate': lr,\n",
    "        'mutation_prob': mut_prob,\n",
    "        'population_size': pop_sz,\n",
    "        'restarts': rest,\n",
    "        'schedule_init': schedule,\n",
    "        'duration': duration,\n",
    "        'train_score': f1_score(np.asarray(y_train_hot), np.asarray(y_train_pred), average=F1_SCORE),\n",
    "        'val_score': f1_score(np.asarray(y_val_hot), np.asarray(y_val_pred), average=F1_SCORE),\n",
    "        'test_score': f1_score(np.asarray(y_test_hot), np.asarray(y_test_pred), average=F1_SCORE),\n",
    "        'fitness_curve_length': len(nn_model1.fitness_curve),\n",
    "        # 'fitness_curve_final': len(nn_model1.fitness_curve[:, 0][-1])\n",
    "    })\n",
    "\n",
    "#\n",
    "# print(f\"Train micro F1-score: {y_train_micro_f1}\")\n",
    "# print(f\"Val micro F1-score: {y_val_micro_f1}\")\n",
    "# print(f\"Test micro F1-score: {y_test_micro_f1}\")\n",
    "\n",
    "df = pd.DataFrame(out)\n",
    "df.to_csv('outputs-nn/hyperparameter_search.csv')"
   ],
   "metadata": {
    "collapsed": false,
    "ExecuteTime": {
     "end_time": "2023-10-15T22:53:54.131168Z",
     "start_time": "2023-10-15T20:13:59.398651Z"
    }
   }
  },
  {
   "cell_type": "code",
   "execution_count": 9,
   "outputs": [],
   "source": [
    "# from tqdm.notebook import tqdm\n",
    "#\n",
    "# # Additional logging for Genetic Algorithm\n",
    "# #\n",
    "# algorithms_2 = ['genetic_alg']\n",
    "# learning_rates_2 = [1e-4]\n",
    "# mutation_probabilities_2 = [0.1, 0.3, 0.5, 0.7]\n",
    "# pop_sizes_2 = [25, 50, 100, 150]\n",
    "# restarts_2 = [0]\n",
    "# schedules_2 = [0.1]\n",
    "#\n",
    "# for_genetic_algo = list(\n",
    "#     product(algorithms_2, learning_rates_2, mutation_probabilities_2, pop_sizes_2, restarts_2, schedules_2))\n",
    "# additional_logging = set(for_genetic_algo) - set(filtered_grid_search_params)\n",
    "#\n",
    "# print(len(additional_logging))\n",
    "#\n",
    "# out_extra = []\n",
    "#\n",
    "# for params in tqdm(additional_logging):\n",
    "#     algo, lr, mut_prob, pop_sz, rest, schedule = params\n",
    "#     nn_model1 = ml_h.NeuralNetwork(\n",
    "#         hidden_nodes=[50, 50],\n",
    "#         activation='relu',\n",
    "#         algorithm=algo,\n",
    "#         max_iters=500,\n",
    "#         bias=True,\n",
    "#         is_classifier=True,\n",
    "#         early_stopping=False,\n",
    "#         clip_max=20,\n",
    "#         max_attempts=200,\n",
    "#         random_state=SEED,\n",
    "#         curve=True,\n",
    "#         learning_rate=lr,\n",
    "#         mutation_prob=mut_prob,\n",
    "#         pop_size=pop_sz,\n",
    "#         restarts=rest,\n",
    "#         schedule=ml_h.GeomDecay(schedule),\n",
    "#     )\n",
    "#     t0 = time.time()\n",
    "#     nn_model1.fit(X_train_n, y_train_hot)\n",
    "#     t1 = time.time()\n",
    "#     duration = t1 - t0\n",
    "#     y_train_pred = nn_model1.predict(X_train_n)\n",
    "#     y_val_pred = nn_model1.predict(X_val_n)\n",
    "#     y_test_pred = nn_model1.predict(X_test_n)\n",
    "#     y_train_micro_f1 = f1_score(np.asarray(y_train_hot), np.asarray(y_train_pred), average=F1_SCORE)\n",
    "#     y_val_micro_f1 = f1_score(np.asarray(y_val_hot), np.asarray(y_val_pred), average=F1_SCORE)\n",
    "#     y_test_micro_f1 = f1_score(np.asarray(y_test_hot), np.asarray(y_test_pred), average=F1_SCORE)\n",
    "#\n",
    "#     out.append({\n",
    "#         'algorithm': algo,\n",
    "#         'learning_rate': lr,\n",
    "#         'mutation_prob': mut_prob,\n",
    "#         'population_size': pop_sz,\n",
    "#         'restarts': rest,\n",
    "#         'schedule_init': schedule,\n",
    "#         'duration': duration,\n",
    "#         'train_score': f1_score(np.asarray(y_train_hot), np.asarray(y_train_pred), average=F1_SCORE),\n",
    "#         'val_score': f1_score(np.asarray(y_val_hot), np.asarray(y_val_pred), average=F1_SCORE),\n",
    "#         'test_score': f1_score(np.asarray(y_test_hot), np.asarray(y_test_pred), average=F1_SCORE),\n",
    "#         'fitness_curve_length': len(nn_model1.fitness_curve),\n",
    "#         # 'fitness_curve_final': len(nn_model1.fitness_curve[:, 0][-1])\n",
    "#     })\n",
    "#\n",
    "# extra_df = pd.DataFrame(out_extra)\n",
    "# extra_df.to_csv('outputs-nn/hyperparameter_search_genetic_extra.csv')\n"
   ],
   "metadata": {
    "collapsed": false,
    "ExecuteTime": {
     "end_time": "2023-10-15T22:53:54.135983Z",
     "start_time": "2023-10-15T22:53:54.131732Z"
    }
   }
  },
  {
   "cell_type": "code",
   "execution_count": 54,
   "outputs": [],
   "source": [
    "from pathlib import Path\n",
    "\n",
    "\n",
    "def plot_validation_curves(x,\n",
    "                           train_scores,\n",
    "                           val_scores,\n",
    "                           file_name: str,\n",
    "                           algo_name: str,\n",
    "                           x_label,\n",
    "                           y_label,\n",
    "                           test_scores=None,\n",
    "                           x_log_scale=False,\n",
    "                           ):\n",
    "    plt.rcParams['figure.dpi'] = 300\n",
    "    plt.rcParams['figure.figsize'] = (8, 6)\n",
    "    plt.plot(x, train_scores, label='Train Score', color='blue')\n",
    "    plt.scatter(x, train_scores, color='blue', s=20)\n",
    "    plt.plot(x, val_scores, label='Validation Score', color='yellow')\n",
    "    plt.scatter(x, val_scores, color='yellow', s=20)\n",
    "    if test_scores is not None:\n",
    "        plt.plot(x, test_scores, label='Test Score', color='red')\n",
    "        plt.scatter(x, test_scores, color='red', s=20)\n",
    "    plt.xlabel(x_label)\n",
    "    plt.ylabel(y_label)\n",
    "    plt.title(f\"{y_label} vs {x_label} ({algo_name.replace('_', ' ').title()})\")\n",
    "    if x_log_scale:\n",
    "        plt.xscale('log')\n",
    "    plt.legend()\n",
    "    plt.grid(True)\n",
    "\n",
    "    file_path = f\"charts-nn/{algo_name}/{file_name}\"\n",
    "\n",
    "    os.makedirs(Path(file_path).parent.absolute(), exist_ok=True)\n",
    "    plt.savefig(file_path)\n",
    "    plt.clf()\n",
    "\n",
    "\n",
    "def plot_time_curves(x,\n",
    "                     training_times,\n",
    "                     file_name: str,\n",
    "                     algo_name: str,\n",
    "                     x_label,\n",
    "                     y_label='Training Time, secs',\n",
    "                     x_log_scale=False,\n",
    "                     ):\n",
    "    plt.rcParams['figure.dpi'] = 300\n",
    "    plt.rcParams['figure.figsize'] = (8, 6)\n",
    "    plt.plot(x, training_times, label='Training Time', color='blue')\n",
    "    plt.scatter(x, training_times, color='blue', s=20)\n",
    "    plt.xlabel(x_label)\n",
    "    plt.ylabel(y_label)\n",
    "    plt.title(f\"Training time vs {x_label} ({algo_name.replace('_', ' ').title()})\")\n",
    "    if x_log_scale:\n",
    "        plt.xscale('log')\n",
    "    plt.legend()\n",
    "    plt.grid(True)\n",
    "\n",
    "    file_path = f\"charts-nn/{algo_name}/{file_name}\"\n",
    "\n",
    "    os.makedirs(Path(file_path).parent.absolute(), exist_ok=True)\n",
    "    plt.savefig(file_path)\n",
    "    plt.clf()\n",
    "\n",
    "\n",
    "def plot_fitness_curves(curves, labels, file_name, algo_name=None):\n",
    "    assert len(curves) == len(labels)\n",
    "    plt.rcParams['figure.dpi'] = 300\n",
    "    plt.rcParams['figure.figsize'] = (8, 6)\n",
    "    for curve, label in list(zip(curves, labels)):\n",
    "        plt.plot(curve, label=label)\n",
    "\n",
    "    plt.xlabel(\"Iterations\")\n",
    "    plt.ylabel(\"Fitness Curve\")\n",
    "    title = f\"Fitness Curve vs Iterations\"\n",
    "    if algo_name is not None:\n",
    "        title = f\"{title} ({algo_name.replace('-', ' ').title()})\"\n",
    "    plt.title(title)\n",
    "    plt.legend()\n",
    "    plt.grid(True)\n",
    "    file_path = f\"charts-nn/{file_name}\"\n",
    "\n",
    "    os.makedirs(Path(file_path).parent.absolute(), exist_ok=True)\n",
    "    plt.savefig(file_path)\n",
    "    plt.clf()"
   ],
   "metadata": {
    "collapsed": false,
    "ExecuteTime": {
     "end_time": "2023-10-16T21:32:44.368326Z",
     "start_time": "2023-10-16T21:32:44.360068Z"
    }
   }
  },
  {
   "cell_type": "code",
   "execution_count": 11,
   "outputs": [],
   "source": [
    "df = pd.read_csv('outputs-nn/hyperparameter_search.csv')"
   ],
   "metadata": {
    "collapsed": false,
    "ExecuteTime": {
     "end_time": "2023-10-15T22:53:54.162545Z",
     "start_time": "2023-10-15T22:53:54.148115Z"
    }
   }
  },
  {
   "cell_type": "code",
   "execution_count": 12,
   "outputs": [],
   "source": [
    "df = df.reset_index(drop=True).drop(columns=['Unnamed: 0', 'index'], errors='ignore')"
   ],
   "metadata": {
    "collapsed": false,
    "ExecuteTime": {
     "end_time": "2023-10-15T22:53:54.168089Z",
     "start_time": "2023-10-15T22:53:54.162364Z"
    }
   }
  },
  {
   "cell_type": "code",
   "execution_count": 13,
   "outputs": [
    {
     "data": {
      "text/plain": "             algorithm  learning_rate  mutation_prob  population_size  \\\n0          genetic_alg        0.00010            0.1               25   \n1     gradient_descent        0.00001            0.1               50   \n2    random_hill_climb        0.10000            0.1               50   \n3  simulated_annealing        0.10000            0.1               50   \n\n   restarts  schedule_init    duration  train_score  val_score  test_score  \\\n0         0           0.10  117.184864     0.518260   0.537594    0.500000   \n1         0           0.10   17.221923     0.546992   0.546366    0.523810   \n2         0           0.10    5.273635     0.441998   0.417293    0.429825   \n3         0           0.05   11.002460     0.441998   0.417293    0.429825   \n\n   fitness_curve_length  \n0                   500  \n1                   500  \n2                   500  \n3                   500  ",
      "text/html": "<div>\n<style scoped>\n    .dataframe tbody tr th:only-of-type {\n        vertical-align: middle;\n    }\n\n    .dataframe tbody tr th {\n        vertical-align: top;\n    }\n\n    .dataframe thead th {\n        text-align: right;\n    }\n</style>\n<table border=\"1\" class=\"dataframe\">\n  <thead>\n    <tr style=\"text-align: right;\">\n      <th></th>\n      <th>algorithm</th>\n      <th>learning_rate</th>\n      <th>mutation_prob</th>\n      <th>population_size</th>\n      <th>restarts</th>\n      <th>schedule_init</th>\n      <th>duration</th>\n      <th>train_score</th>\n      <th>val_score</th>\n      <th>test_score</th>\n      <th>fitness_curve_length</th>\n    </tr>\n  </thead>\n  <tbody>\n    <tr>\n      <th>0</th>\n      <td>genetic_alg</td>\n      <td>0.00010</td>\n      <td>0.1</td>\n      <td>25</td>\n      <td>0</td>\n      <td>0.10</td>\n      <td>117.184864</td>\n      <td>0.518260</td>\n      <td>0.537594</td>\n      <td>0.500000</td>\n      <td>500</td>\n    </tr>\n    <tr>\n      <th>1</th>\n      <td>gradient_descent</td>\n      <td>0.00001</td>\n      <td>0.1</td>\n      <td>50</td>\n      <td>0</td>\n      <td>0.10</td>\n      <td>17.221923</td>\n      <td>0.546992</td>\n      <td>0.546366</td>\n      <td>0.523810</td>\n      <td>500</td>\n    </tr>\n    <tr>\n      <th>2</th>\n      <td>random_hill_climb</td>\n      <td>0.10000</td>\n      <td>0.1</td>\n      <td>50</td>\n      <td>0</td>\n      <td>0.10</td>\n      <td>5.273635</td>\n      <td>0.441998</td>\n      <td>0.417293</td>\n      <td>0.429825</td>\n      <td>500</td>\n    </tr>\n    <tr>\n      <th>3</th>\n      <td>simulated_annealing</td>\n      <td>0.10000</td>\n      <td>0.1</td>\n      <td>50</td>\n      <td>0</td>\n      <td>0.05</td>\n      <td>11.002460</td>\n      <td>0.441998</td>\n      <td>0.417293</td>\n      <td>0.429825</td>\n      <td>500</td>\n    </tr>\n  </tbody>\n</table>\n</div>"
     },
     "execution_count": 13,
     "metadata": {},
     "output_type": "execute_result"
    }
   ],
   "source": [
    "def get_best_setups():\n",
    "    max_score_idx = df.groupby('algorithm')['val_score'].idxmax()\n",
    "    result_df = df.loc[max_score_idx]\n",
    "\n",
    "    # Reset the index if needed\n",
    "    result_df = result_df.reset_index(drop=True)\n",
    "    return result_df\n",
    "\n",
    "\n",
    "get_best_setups()"
   ],
   "metadata": {
    "collapsed": false,
    "ExecuteTime": {
     "end_time": "2023-10-15T22:53:54.194576Z",
     "start_time": "2023-10-15T22:53:54.171297Z"
    }
   }
  },
  {
   "cell_type": "code",
   "execution_count": 14,
   "outputs": [
    {
     "data": {
      "text/plain": "<Figure size 2400x1800 with 0 Axes>"
     },
     "metadata": {},
     "output_type": "display_data"
    }
   ],
   "source": [
    "from functools import reduce\n",
    "\n",
    "interesting_params = {\n",
    "    'gradient_descent': ['learning_rate'],\n",
    "    'simulated_annealing': ['learning_rate', 'schedule_init'],\n",
    "    'random_hill_climb': ['learning_rate', 'restarts'],\n",
    "    'genetic_alg': ['learning_rate', 'mutation_prob', 'population_size'],\n",
    "}\n",
    "\n",
    "needs_log_scale = {\n",
    "    'learning_rate': True,\n",
    "    'schedule_init': False,\n",
    "    'restarts': False,\n",
    "    'mutation_prob': False,\n",
    "    'population_size': False,\n",
    "\n",
    "}\n",
    "\n",
    "\n",
    "def get_algorithm_best_params(algorithm_name, except_col):\n",
    "    best_setups = get_best_setups()\n",
    "    algorithm_df = best_setups[best_setups['algorithm'] == algorithm_name]\n",
    "    algorithm_row = algorithm_df.iloc[0]\n",
    "    return [(col, algorithm_row[col]) for col in algorithm_row.index if\n",
    "            col not in ['algorithm', 'duration', 'train_score', 'val_score', 'test_score', 'fitness_curve_length',\n",
    "                        except_col]]\n",
    "\n",
    "\n",
    "for algo_name in algorithms:\n",
    "    for param in interesting_params[algo_name]:\n",
    "        pairs = get_algorithm_best_params(algo_name, param)\n",
    "        condition = reduce(lambda x, y: x & y, [(df[col] == value) for col, value in pairs])\n",
    "        algo_df = df[df['algorithm'] == algo_name]\n",
    "        train_scores = algo_df[condition]['train_score']\n",
    "        val_scores = algo_df[condition]['val_score']\n",
    "        test_score = algo_df[condition]['test_score']\n",
    "        xs = algo_df[condition][param]\n",
    "        plot_validation_curves(x=xs,\n",
    "                               train_scores=train_scores,\n",
    "                               val_scores=val_scores,\n",
    "                               test_scores=test_score,\n",
    "                               x_label=param,\n",
    "                               algo_name=algo_name,\n",
    "                               file_name=f'validation_{algo_name}_{param}',\n",
    "                               y_label='Micro F1-Score',\n",
    "                               x_log_scale=needs_log_scale[param])"
   ],
   "metadata": {
    "collapsed": false,
    "ExecuteTime": {
     "end_time": "2023-10-15T22:53:56.513904Z",
     "start_time": "2023-10-15T22:53:54.204622Z"
    }
   }
  },
  {
   "cell_type": "code",
   "execution_count": 14,
   "outputs": [],
   "source": [],
   "metadata": {
    "collapsed": false,
    "ExecuteTime": {
     "end_time": "2023-10-15T22:53:56.516005Z",
     "start_time": "2023-10-15T22:53:56.514159Z"
    }
   }
  },
  {
   "cell_type": "code",
   "execution_count": 30,
   "outputs": [],
   "source": [
    "def get_model_for_best_setup(algo_name):\n",
    "    best_df = get_best_setups()\n",
    "    best_df = best_df[best_df['algorithm'] == algo_name]\n",
    "    return ml_h.NeuralNetwork(\n",
    "        hidden_nodes=[50, 50],\n",
    "        activation='relu',\n",
    "        algorithm=algo_name,\n",
    "        max_iters=500,\n",
    "        bias=True,\n",
    "        is_classifier=True,\n",
    "        early_stopping=False,\n",
    "        clip_max=5,\n",
    "        max_attempts=200,\n",
    "        random_state=SEED,\n",
    "        curve=True,\n",
    "        learning_rate=best_df['learning_rate'].iloc[0],\n",
    "        mutation_prob=best_df['mutation_prob'].iloc[0],\n",
    "        pop_size=best_df['population_size'].iloc[0],\n",
    "        restarts=best_df['restarts'].iloc[0],\n",
    "        schedule=ml_h.GeomDecay(schedule),\n",
    "    )\n"
   ],
   "metadata": {
    "collapsed": false,
    "ExecuteTime": {
     "end_time": "2023-10-16T14:46:11.776816Z",
     "start_time": "2023-10-16T14:46:11.771099Z"
    }
   }
  },
  {
   "cell_type": "code",
   "execution_count": 31,
   "outputs": [
    {
     "data": {
      "text/plain": "NeuralNetwork(algorithm='gradient_descent', clip_max=5, curve=True,\n              hidden_nodes=[50, 50], learning_rate=1e-05, max_attempts=200,\n              max_iters=500, pop_size=50, random_state=42,\n              schedule=GeomDecay(init_temp=0.1, decay=0.99, min_temp=0.001))",
      "text/html": "<style>#sk-container-id-5 {color: black;background-color: white;}#sk-container-id-5 pre{padding: 0;}#sk-container-id-5 div.sk-toggleable {background-color: white;}#sk-container-id-5 label.sk-toggleable__label {cursor: pointer;display: block;width: 100%;margin-bottom: 0;padding: 0.3em;box-sizing: border-box;text-align: center;}#sk-container-id-5 label.sk-toggleable__label-arrow:before {content: \"▸\";float: left;margin-right: 0.25em;color: #696969;}#sk-container-id-5 label.sk-toggleable__label-arrow:hover:before {color: black;}#sk-container-id-5 div.sk-estimator:hover label.sk-toggleable__label-arrow:before {color: black;}#sk-container-id-5 div.sk-toggleable__content {max-height: 0;max-width: 0;overflow: hidden;text-align: left;background-color: #f0f8ff;}#sk-container-id-5 div.sk-toggleable__content pre {margin: 0.2em;color: black;border-radius: 0.25em;background-color: #f0f8ff;}#sk-container-id-5 input.sk-toggleable__control:checked~div.sk-toggleable__content {max-height: 200px;max-width: 100%;overflow: auto;}#sk-container-id-5 input.sk-toggleable__control:checked~label.sk-toggleable__label-arrow:before {content: \"▾\";}#sk-container-id-5 div.sk-estimator input.sk-toggleable__control:checked~label.sk-toggleable__label {background-color: #d4ebff;}#sk-container-id-5 div.sk-label input.sk-toggleable__control:checked~label.sk-toggleable__label {background-color: #d4ebff;}#sk-container-id-5 input.sk-hidden--visually {border: 0;clip: rect(1px 1px 1px 1px);clip: rect(1px, 1px, 1px, 1px);height: 1px;margin: -1px;overflow: hidden;padding: 0;position: absolute;width: 1px;}#sk-container-id-5 div.sk-estimator {font-family: monospace;background-color: #f0f8ff;border: 1px dotted black;border-radius: 0.25em;box-sizing: border-box;margin-bottom: 0.5em;}#sk-container-id-5 div.sk-estimator:hover {background-color: #d4ebff;}#sk-container-id-5 div.sk-parallel-item::after {content: \"\";width: 100%;border-bottom: 1px solid gray;flex-grow: 1;}#sk-container-id-5 div.sk-label:hover label.sk-toggleable__label {background-color: #d4ebff;}#sk-container-id-5 div.sk-serial::before {content: \"\";position: absolute;border-left: 1px solid gray;box-sizing: border-box;top: 0;bottom: 0;left: 50%;z-index: 0;}#sk-container-id-5 div.sk-serial {display: flex;flex-direction: column;align-items: center;background-color: white;padding-right: 0.2em;padding-left: 0.2em;position: relative;}#sk-container-id-5 div.sk-item {position: relative;z-index: 1;}#sk-container-id-5 div.sk-parallel {display: flex;align-items: stretch;justify-content: center;background-color: white;position: relative;}#sk-container-id-5 div.sk-item::before, #sk-container-id-5 div.sk-parallel-item::before {content: \"\";position: absolute;border-left: 1px solid gray;box-sizing: border-box;top: 0;bottom: 0;left: 50%;z-index: -1;}#sk-container-id-5 div.sk-parallel-item {display: flex;flex-direction: column;z-index: 1;position: relative;background-color: white;}#sk-container-id-5 div.sk-parallel-item:first-child::after {align-self: flex-end;width: 50%;}#sk-container-id-5 div.sk-parallel-item:last-child::after {align-self: flex-start;width: 50%;}#sk-container-id-5 div.sk-parallel-item:only-child::after {width: 0;}#sk-container-id-5 div.sk-dashed-wrapped {border: 1px dashed gray;margin: 0 0.4em 0.5em 0.4em;box-sizing: border-box;padding-bottom: 0.4em;background-color: white;}#sk-container-id-5 div.sk-label label {font-family: monospace;font-weight: bold;display: inline-block;line-height: 1.2em;}#sk-container-id-5 div.sk-label-container {text-align: center;}#sk-container-id-5 div.sk-container {/* jupyter's `normalize.less` sets `[hidden] { display: none; }` but bootstrap.min.css set `[hidden] { display: none !important; }` so we also need the `!important` here to be able to override the default hidden behavior on the sphinx rendered scikit-learn.org. See: https://github.com/scikit-learn/scikit-learn/issues/21755 */display: inline-block !important;position: relative;}#sk-container-id-5 div.sk-text-repr-fallback {display: none;}</style><div id=\"sk-container-id-5\" class=\"sk-top-container\"><div class=\"sk-text-repr-fallback\"><pre>NeuralNetwork(algorithm=&#x27;gradient_descent&#x27;, clip_max=5, curve=True,\n              hidden_nodes=[50, 50], learning_rate=1e-05, max_attempts=200,\n              max_iters=500, pop_size=50, random_state=42,\n              schedule=GeomDecay(init_temp=0.1, decay=0.99, min_temp=0.001))</pre><b>In a Jupyter environment, please rerun this cell to show the HTML representation or trust the notebook. <br />On GitHub, the HTML representation is unable to render, please try loading this page with nbviewer.org.</b></div><div class=\"sk-container\" hidden><div class=\"sk-item\"><div class=\"sk-estimator sk-toggleable\"><input class=\"sk-toggleable__control sk-hidden--visually\" id=\"sk-estimator-id-5\" type=\"checkbox\" checked><label for=\"sk-estimator-id-5\" class=\"sk-toggleable__label sk-toggleable__label-arrow\">NeuralNetwork</label><div class=\"sk-toggleable__content\"><pre>NeuralNetwork(algorithm=&#x27;gradient_descent&#x27;, clip_max=5, curve=True,\n              hidden_nodes=[50, 50], learning_rate=1e-05, max_attempts=200,\n              max_iters=500, pop_size=50, random_state=42,\n              schedule=GeomDecay(init_temp=0.1, decay=0.99, min_temp=0.001))</pre></div></div></div></div></div>"
     },
     "execution_count": 31,
     "metadata": {},
     "output_type": "execute_result"
    }
   ],
   "source": [
    "model_gr_descent = get_model_for_best_setup('gradient_descent')\n",
    "model_gr_descent.fit(X_train_n, y_train_hot)"
   ],
   "metadata": {
    "collapsed": false,
    "ExecuteTime": {
     "end_time": "2023-10-16T14:46:23.674569Z",
     "start_time": "2023-10-16T14:46:12.435819Z"
    }
   }
  },
  {
   "cell_type": "code",
   "execution_count": 32,
   "outputs": [
    {
     "data": {
      "text/plain": "array([-6.13158361, -2.9242725 , -2.46824326, -2.14002216, -1.94520053,\n       -1.82029745, -1.7351754 , -1.67459795, -1.62984763, -1.59240958,\n       -1.56245014, -1.53565522, -1.51306904, -1.49196264, -1.47401512,\n       -1.45648188, -1.44163519, -1.42628553, -1.41363053, -1.4000033 ,\n       -1.38897013, -1.3770544 , -1.36746023, -1.35677457, -1.34840514,\n       -1.33887136, -1.33134126, -1.32288736, -1.31602537, -1.30846624,\n       -1.30213771, -1.29537564, -1.28979747, -1.28372992, -1.27857796,\n       -1.27312761, -1.26836144, -1.26351656, -1.25928835, -1.25498971,\n       -1.25119696, -1.24744497, -1.24401109, -1.24053536, -1.23736733,\n       -1.23421659, -1.23135507, -1.22850072, -1.22590252, -1.22328883,\n       -1.22094138, -1.21855836, -1.21641396, -1.21424044, -1.21225024,\n       -1.21028124, -1.20841649, -1.20657056, -1.20482983, -1.2030925 ,\n       -1.20147325, -1.19987325, -1.19834495, -1.19686879, -1.19545679,\n       -1.19409598, -1.19280173, -1.19155029, -1.19035777, -1.18921461,\n       -1.18809897, -1.18701333, -1.1859688 , -1.18496256, -1.18399389,\n       -1.18305164, -1.18214249, -1.18125774, -1.18040804, -1.17958946,\n       -1.1787988 , -1.17802334, -1.17726153, -1.17652226, -1.17579102,\n       -1.1750707 , -1.17437034, -1.17368384, -1.17300141, -1.17232532,\n       -1.17166858, -1.17102823, -1.17039985, -1.16978676, -1.16917988,\n       -1.16857589, -1.16798006, -1.16739478, -1.1668215 , -1.16625561,\n       -1.16569995, -1.16514996, -1.16460871, -1.16407653, -1.16355601,\n       -1.16304125, -1.16253383, -1.16203372, -1.16153595, -1.16104833,\n       -1.16056205, -1.16008563, -1.15960796, -1.15913317, -1.15867012,\n       -1.15821975, -1.15778028, -1.15734592, -1.15691778, -1.15649671,\n       -1.15608322, -1.15567149, -1.15526368, -1.15486397, -1.15447293,\n       -1.15408118, -1.15368832, -1.15329892, -1.15291436, -1.15253091,\n       -1.15215245, -1.15178014, -1.15140798, -1.15103731, -1.1506721 ,\n       -1.15031217, -1.1499556 , -1.14960371, -1.14926133, -1.14892229,\n       -1.14858189, -1.14824216, -1.14790646, -1.14757677, -1.14725242,\n       -1.1469317 , -1.14661646, -1.14630806, -1.14600364, -1.14570307,\n       -1.14540848, -1.14511764, -1.14483149, -1.14454922, -1.14426903,\n       -1.1439877 , -1.14370621, -1.14342421, -1.14314268, -1.14286388,\n       -1.14258683, -1.14231435, -1.14204076, -1.14176724, -1.14149426,\n       -1.14122051, -1.14094762, -1.14067612, -1.14040745, -1.14014537,\n       -1.13989105, -1.13964103, -1.13939019, -1.1391413 , -1.13889415,\n       -1.13864557, -1.13839853, -1.13815356, -1.13790943, -1.13767064,\n       -1.13743382, -1.13719775, -1.13696379, -1.13673125, -1.13649843,\n       -1.13626819, -1.13603881, -1.13581261, -1.13558571, -1.13535756,\n       -1.13513067, -1.13490737, -1.13468354, -1.13446076, -1.13423938,\n       -1.13401689, -1.13379434, -1.13357344, -1.13335471, -1.13313845,\n       -1.13292439, -1.13271228, -1.13250116, -1.13229099, -1.13208253,\n       -1.13187287, -1.13166414, -1.13145729, -1.13125042, -1.13104413,\n       -1.13083971, -1.13063852, -1.13043806, -1.13023848, -1.13003995,\n       -1.12984151, -1.12964498, -1.1294484 , -1.12925237, -1.12905579,\n       -1.12886198, -1.12867008, -1.12848118, -1.12829314, -1.12810777,\n       -1.12792076, -1.12773501, -1.12755019, -1.12736795, -1.1271882 ,\n       -1.1270094 , -1.12683215, -1.12665673, -1.12648041, -1.12630483,\n       -1.12613135, -1.12595774, -1.12578429, -1.12561073, -1.12543821,\n       -1.12526782, -1.12509757, -1.12492719, -1.12475675, -1.12458625,\n       -1.12441664, -1.12424838, -1.12408107, -1.12391363, -1.12374534,\n       -1.12357797, -1.12341119, -1.12324377, -1.12307854, -1.12291404,\n       -1.12275033, -1.12258818, -1.12242649, -1.12226508, -1.12210237,\n       -1.12193995, -1.12177677, -1.12161411, -1.12145408, -1.12129504,\n       -1.12113626, -1.1209788 , -1.12082143, -1.12066497, -1.12050858,\n       -1.12035295, -1.12019721, -1.1200428 , -1.11988883, -1.11973665,\n       -1.11958544, -1.11943484, -1.11928328, -1.11913048, -1.11897823,\n       -1.11882513, -1.11867255, -1.11851916, -1.11836432, -1.11820956,\n       -1.11805616, -1.11790407, -1.1177536 , -1.11760377, -1.11745411,\n       -1.11730628, -1.11716007, -1.11701402, -1.11686784, -1.11672209,\n       -1.11657568, -1.11642939, -1.11628308, -1.11613666, -1.11599231,\n       -1.11584826, -1.11570545, -1.11556435, -1.11542076, -1.11527905,\n       -1.11513816, -1.11499811, -1.1148603 , -1.11472262, -1.11458444,\n       -1.11444643, -1.11430932, -1.11417359, -1.11403762, -1.1139026 ,\n       -1.11376856, -1.11363525, -1.11350177, -1.11336912, -1.11323547,\n       -1.11310012, -1.11296523, -1.11283043, -1.11269567, -1.11256136,\n       -1.1124284 , -1.11229401, -1.11216019, -1.11202804, -1.111896  ,\n       -1.11176328, -1.11163033, -1.11149707, -1.11136401, -1.11123142,\n       -1.11109834, -1.11096416, -1.11082819, -1.11069202, -1.11055668,\n       -1.11042295, -1.11029125, -1.11015958, -1.11002675, -1.10989425,\n       -1.10976312, -1.10963181, -1.10950014, -1.10937006, -1.1092414 ,\n       -1.10911376, -1.10898761, -1.10886165, -1.10873465, -1.10860821,\n       -1.10848326, -1.10835905, -1.10823494, -1.10811202, -1.10798946,\n       -1.10786675, -1.10774445, -1.10762257, -1.1075008 , -1.10737964,\n       -1.10725886, -1.10713827, -1.10701875, -1.10690012, -1.10678147,\n       -1.10666327, -1.10654471, -1.10642647, -1.10630769, -1.10618924,\n       -1.10607134, -1.10595343, -1.10583626, -1.10571875, -1.10560207,\n       -1.10548505, -1.10536861, -1.10525207, -1.10513547, -1.10502089,\n       -1.1049082 , -1.10479541, -1.10468275, -1.10457106, -1.10446081,\n       -1.10435251, -1.10424538, -1.10413886, -1.10403241, -1.10392595,\n       -1.10382026, -1.10371487, -1.1036091 , -1.10350276, -1.10339669,\n       -1.10329063, -1.10318373, -1.10307793, -1.10297235, -1.10286575,\n       -1.10275806, -1.10264958, -1.10254263, -1.10243687, -1.10233129,\n       -1.1022263 , -1.10212218, -1.10201881, -1.10191589, -1.10181352,\n       -1.10171087, -1.10160785, -1.10150542, -1.10140183, -1.10129864,\n       -1.101197  , -1.10109625, -1.10099479, -1.10089368, -1.10079321,\n       -1.10069262, -1.10059326, -1.10049477, -1.10039574, -1.1002969 ,\n       -1.10019814, -1.10009943, -1.10000162, -1.09990394, -1.09980675,\n       -1.09971084, -1.09961534, -1.09951995, -1.09942492, -1.09932955,\n       -1.09923449, -1.09913998, -1.09904518, -1.09895098, -1.09885718,\n       -1.098764  , -1.09867085, -1.09857722, -1.09848481, -1.0983933 ,\n       -1.0983027 , -1.09821279, -1.0981231 , -1.09803331, -1.0979434 ,\n       -1.09785372, -1.09776491, -1.09767699, -1.09758924, -1.09750177,\n       -1.09741423, -1.09732608, -1.09723775, -1.09714934, -1.09706145,\n       -1.09697347, -1.09688512, -1.09679668, -1.09670885, -1.09662145,\n       -1.09653474, -1.09644848, -1.09636258, -1.0962771 , -1.09619167,\n       -1.09610662, -1.0960218 , -1.09593744, -1.09585341, -1.09576958,\n       -1.09568599, -1.09560253, -1.09551912, -1.09543561, -1.0953523 ,\n       -1.09526912, -1.09518697, -1.09510493, -1.09502317, -1.09494164,\n       -1.09486048, -1.09478002, -1.09469945, -1.09461918, -1.09453916,\n       -1.09445953, -1.09438024, -1.09430166, -1.09422344, -1.09414514])"
     },
     "execution_count": 32,
     "metadata": {},
     "output_type": "execute_result"
    }
   ],
   "source": [
    "model_gr_descent.fitness_curve"
   ],
   "metadata": {
    "collapsed": false,
    "ExecuteTime": {
     "end_time": "2023-10-16T14:46:23.682800Z",
     "start_time": "2023-10-16T14:46:23.676349Z"
    }
   }
  },
  {
   "cell_type": "code",
   "execution_count": 33,
   "outputs": [
    {
     "data": {
      "text/plain": "NeuralNetwork(algorithm='simulated_annealing', clip_max=5, curve=True,\n              hidden_nodes=[50, 50], max_attempts=200, max_iters=500,\n              pop_size=50, random_state=42,\n              schedule=GeomDecay(init_temp=0.1, decay=0.99, min_temp=0.001))",
      "text/html": "<style>#sk-container-id-6 {color: black;background-color: white;}#sk-container-id-6 pre{padding: 0;}#sk-container-id-6 div.sk-toggleable {background-color: white;}#sk-container-id-6 label.sk-toggleable__label {cursor: pointer;display: block;width: 100%;margin-bottom: 0;padding: 0.3em;box-sizing: border-box;text-align: center;}#sk-container-id-6 label.sk-toggleable__label-arrow:before {content: \"▸\";float: left;margin-right: 0.25em;color: #696969;}#sk-container-id-6 label.sk-toggleable__label-arrow:hover:before {color: black;}#sk-container-id-6 div.sk-estimator:hover label.sk-toggleable__label-arrow:before {color: black;}#sk-container-id-6 div.sk-toggleable__content {max-height: 0;max-width: 0;overflow: hidden;text-align: left;background-color: #f0f8ff;}#sk-container-id-6 div.sk-toggleable__content pre {margin: 0.2em;color: black;border-radius: 0.25em;background-color: #f0f8ff;}#sk-container-id-6 input.sk-toggleable__control:checked~div.sk-toggleable__content {max-height: 200px;max-width: 100%;overflow: auto;}#sk-container-id-6 input.sk-toggleable__control:checked~label.sk-toggleable__label-arrow:before {content: \"▾\";}#sk-container-id-6 div.sk-estimator input.sk-toggleable__control:checked~label.sk-toggleable__label {background-color: #d4ebff;}#sk-container-id-6 div.sk-label input.sk-toggleable__control:checked~label.sk-toggleable__label {background-color: #d4ebff;}#sk-container-id-6 input.sk-hidden--visually {border: 0;clip: rect(1px 1px 1px 1px);clip: rect(1px, 1px, 1px, 1px);height: 1px;margin: -1px;overflow: hidden;padding: 0;position: absolute;width: 1px;}#sk-container-id-6 div.sk-estimator {font-family: monospace;background-color: #f0f8ff;border: 1px dotted black;border-radius: 0.25em;box-sizing: border-box;margin-bottom: 0.5em;}#sk-container-id-6 div.sk-estimator:hover {background-color: #d4ebff;}#sk-container-id-6 div.sk-parallel-item::after {content: \"\";width: 100%;border-bottom: 1px solid gray;flex-grow: 1;}#sk-container-id-6 div.sk-label:hover label.sk-toggleable__label {background-color: #d4ebff;}#sk-container-id-6 div.sk-serial::before {content: \"\";position: absolute;border-left: 1px solid gray;box-sizing: border-box;top: 0;bottom: 0;left: 50%;z-index: 0;}#sk-container-id-6 div.sk-serial {display: flex;flex-direction: column;align-items: center;background-color: white;padding-right: 0.2em;padding-left: 0.2em;position: relative;}#sk-container-id-6 div.sk-item {position: relative;z-index: 1;}#sk-container-id-6 div.sk-parallel {display: flex;align-items: stretch;justify-content: center;background-color: white;position: relative;}#sk-container-id-6 div.sk-item::before, #sk-container-id-6 div.sk-parallel-item::before {content: \"\";position: absolute;border-left: 1px solid gray;box-sizing: border-box;top: 0;bottom: 0;left: 50%;z-index: -1;}#sk-container-id-6 div.sk-parallel-item {display: flex;flex-direction: column;z-index: 1;position: relative;background-color: white;}#sk-container-id-6 div.sk-parallel-item:first-child::after {align-self: flex-end;width: 50%;}#sk-container-id-6 div.sk-parallel-item:last-child::after {align-self: flex-start;width: 50%;}#sk-container-id-6 div.sk-parallel-item:only-child::after {width: 0;}#sk-container-id-6 div.sk-dashed-wrapped {border: 1px dashed gray;margin: 0 0.4em 0.5em 0.4em;box-sizing: border-box;padding-bottom: 0.4em;background-color: white;}#sk-container-id-6 div.sk-label label {font-family: monospace;font-weight: bold;display: inline-block;line-height: 1.2em;}#sk-container-id-6 div.sk-label-container {text-align: center;}#sk-container-id-6 div.sk-container {/* jupyter's `normalize.less` sets `[hidden] { display: none; }` but bootstrap.min.css set `[hidden] { display: none !important; }` so we also need the `!important` here to be able to override the default hidden behavior on the sphinx rendered scikit-learn.org. See: https://github.com/scikit-learn/scikit-learn/issues/21755 */display: inline-block !important;position: relative;}#sk-container-id-6 div.sk-text-repr-fallback {display: none;}</style><div id=\"sk-container-id-6\" class=\"sk-top-container\"><div class=\"sk-text-repr-fallback\"><pre>NeuralNetwork(algorithm=&#x27;simulated_annealing&#x27;, clip_max=5, curve=True,\n              hidden_nodes=[50, 50], max_attempts=200, max_iters=500,\n              pop_size=50, random_state=42,\n              schedule=GeomDecay(init_temp=0.1, decay=0.99, min_temp=0.001))</pre><b>In a Jupyter environment, please rerun this cell to show the HTML representation or trust the notebook. <br />On GitHub, the HTML representation is unable to render, please try loading this page with nbviewer.org.</b></div><div class=\"sk-container\" hidden><div class=\"sk-item\"><div class=\"sk-estimator sk-toggleable\"><input class=\"sk-toggleable__control sk-hidden--visually\" id=\"sk-estimator-id-6\" type=\"checkbox\" checked><label for=\"sk-estimator-id-6\" class=\"sk-toggleable__label sk-toggleable__label-arrow\">NeuralNetwork</label><div class=\"sk-toggleable__content\"><pre>NeuralNetwork(algorithm=&#x27;simulated_annealing&#x27;, clip_max=5, curve=True,\n              hidden_nodes=[50, 50], max_attempts=200, max_iters=500,\n              pop_size=50, random_state=42,\n              schedule=GeomDecay(init_temp=0.1, decay=0.99, min_temp=0.001))</pre></div></div></div></div></div>"
     },
     "execution_count": 33,
     "metadata": {},
     "output_type": "execute_result"
    }
   ],
   "source": [
    "model_sa = get_model_for_best_setup('simulated_annealing')\n",
    "model_sa.fit(X_train_n, y_train_hot)"
   ],
   "metadata": {
    "collapsed": false,
    "ExecuteTime": {
     "end_time": "2023-10-16T14:46:31.010517Z",
     "start_time": "2023-10-16T14:46:23.682322Z"
    }
   }
  },
  {
   "cell_type": "code",
   "execution_count": 34,
   "outputs": [
    {
     "data": {
      "text/plain": "NeuralNetwork(clip_max=5, curve=True, hidden_nodes=[50, 50], max_attempts=200,\n              max_iters=500, pop_size=50, random_state=42,\n              schedule=GeomDecay(init_temp=0.1, decay=0.99, min_temp=0.001))",
      "text/html": "<style>#sk-container-id-7 {color: black;background-color: white;}#sk-container-id-7 pre{padding: 0;}#sk-container-id-7 div.sk-toggleable {background-color: white;}#sk-container-id-7 label.sk-toggleable__label {cursor: pointer;display: block;width: 100%;margin-bottom: 0;padding: 0.3em;box-sizing: border-box;text-align: center;}#sk-container-id-7 label.sk-toggleable__label-arrow:before {content: \"▸\";float: left;margin-right: 0.25em;color: #696969;}#sk-container-id-7 label.sk-toggleable__label-arrow:hover:before {color: black;}#sk-container-id-7 div.sk-estimator:hover label.sk-toggleable__label-arrow:before {color: black;}#sk-container-id-7 div.sk-toggleable__content {max-height: 0;max-width: 0;overflow: hidden;text-align: left;background-color: #f0f8ff;}#sk-container-id-7 div.sk-toggleable__content pre {margin: 0.2em;color: black;border-radius: 0.25em;background-color: #f0f8ff;}#sk-container-id-7 input.sk-toggleable__control:checked~div.sk-toggleable__content {max-height: 200px;max-width: 100%;overflow: auto;}#sk-container-id-7 input.sk-toggleable__control:checked~label.sk-toggleable__label-arrow:before {content: \"▾\";}#sk-container-id-7 div.sk-estimator input.sk-toggleable__control:checked~label.sk-toggleable__label {background-color: #d4ebff;}#sk-container-id-7 div.sk-label input.sk-toggleable__control:checked~label.sk-toggleable__label {background-color: #d4ebff;}#sk-container-id-7 input.sk-hidden--visually {border: 0;clip: rect(1px 1px 1px 1px);clip: rect(1px, 1px, 1px, 1px);height: 1px;margin: -1px;overflow: hidden;padding: 0;position: absolute;width: 1px;}#sk-container-id-7 div.sk-estimator {font-family: monospace;background-color: #f0f8ff;border: 1px dotted black;border-radius: 0.25em;box-sizing: border-box;margin-bottom: 0.5em;}#sk-container-id-7 div.sk-estimator:hover {background-color: #d4ebff;}#sk-container-id-7 div.sk-parallel-item::after {content: \"\";width: 100%;border-bottom: 1px solid gray;flex-grow: 1;}#sk-container-id-7 div.sk-label:hover label.sk-toggleable__label {background-color: #d4ebff;}#sk-container-id-7 div.sk-serial::before {content: \"\";position: absolute;border-left: 1px solid gray;box-sizing: border-box;top: 0;bottom: 0;left: 50%;z-index: 0;}#sk-container-id-7 div.sk-serial {display: flex;flex-direction: column;align-items: center;background-color: white;padding-right: 0.2em;padding-left: 0.2em;position: relative;}#sk-container-id-7 div.sk-item {position: relative;z-index: 1;}#sk-container-id-7 div.sk-parallel {display: flex;align-items: stretch;justify-content: center;background-color: white;position: relative;}#sk-container-id-7 div.sk-item::before, #sk-container-id-7 div.sk-parallel-item::before {content: \"\";position: absolute;border-left: 1px solid gray;box-sizing: border-box;top: 0;bottom: 0;left: 50%;z-index: -1;}#sk-container-id-7 div.sk-parallel-item {display: flex;flex-direction: column;z-index: 1;position: relative;background-color: white;}#sk-container-id-7 div.sk-parallel-item:first-child::after {align-self: flex-end;width: 50%;}#sk-container-id-7 div.sk-parallel-item:last-child::after {align-self: flex-start;width: 50%;}#sk-container-id-7 div.sk-parallel-item:only-child::after {width: 0;}#sk-container-id-7 div.sk-dashed-wrapped {border: 1px dashed gray;margin: 0 0.4em 0.5em 0.4em;box-sizing: border-box;padding-bottom: 0.4em;background-color: white;}#sk-container-id-7 div.sk-label label {font-family: monospace;font-weight: bold;display: inline-block;line-height: 1.2em;}#sk-container-id-7 div.sk-label-container {text-align: center;}#sk-container-id-7 div.sk-container {/* jupyter's `normalize.less` sets `[hidden] { display: none; }` but bootstrap.min.css set `[hidden] { display: none !important; }` so we also need the `!important` here to be able to override the default hidden behavior on the sphinx rendered scikit-learn.org. See: https://github.com/scikit-learn/scikit-learn/issues/21755 */display: inline-block !important;position: relative;}#sk-container-id-7 div.sk-text-repr-fallback {display: none;}</style><div id=\"sk-container-id-7\" class=\"sk-top-container\"><div class=\"sk-text-repr-fallback\"><pre>NeuralNetwork(clip_max=5, curve=True, hidden_nodes=[50, 50], max_attempts=200,\n              max_iters=500, pop_size=50, random_state=42,\n              schedule=GeomDecay(init_temp=0.1, decay=0.99, min_temp=0.001))</pre><b>In a Jupyter environment, please rerun this cell to show the HTML representation or trust the notebook. <br />On GitHub, the HTML representation is unable to render, please try loading this page with nbviewer.org.</b></div><div class=\"sk-container\" hidden><div class=\"sk-item\"><div class=\"sk-estimator sk-toggleable\"><input class=\"sk-toggleable__control sk-hidden--visually\" id=\"sk-estimator-id-7\" type=\"checkbox\" checked><label for=\"sk-estimator-id-7\" class=\"sk-toggleable__label sk-toggleable__label-arrow\">NeuralNetwork</label><div class=\"sk-toggleable__content\"><pre>NeuralNetwork(clip_max=5, curve=True, hidden_nodes=[50, 50], max_attempts=200,\n              max_iters=500, pop_size=50, random_state=42,\n              schedule=GeomDecay(init_temp=0.1, decay=0.99, min_temp=0.001))</pre></div></div></div></div></div>"
     },
     "execution_count": 34,
     "metadata": {},
     "output_type": "execute_result"
    }
   ],
   "source": [
    "model_rhc = get_model_for_best_setup('random_hill_climb')\n",
    "model_rhc.fit(X_train_n, y_train_hot)"
   ],
   "metadata": {
    "collapsed": false,
    "ExecuteTime": {
     "end_time": "2023-10-16T14:46:36.126357Z",
     "start_time": "2023-10-16T14:46:31.014248Z"
    }
   }
  },
  {
   "cell_type": "code",
   "execution_count": 35,
   "outputs": [
    {
     "data": {
      "text/plain": "NeuralNetwork(algorithm='genetic_alg', clip_max=5, curve=True,\n              hidden_nodes=[50, 50], learning_rate=0.0001, max_attempts=200,\n              max_iters=500, pop_size=25, random_state=42,\n              schedule=GeomDecay(init_temp=0.1, decay=0.99, min_temp=0.001))",
      "text/html": "<style>#sk-container-id-8 {color: black;background-color: white;}#sk-container-id-8 pre{padding: 0;}#sk-container-id-8 div.sk-toggleable {background-color: white;}#sk-container-id-8 label.sk-toggleable__label {cursor: pointer;display: block;width: 100%;margin-bottom: 0;padding: 0.3em;box-sizing: border-box;text-align: center;}#sk-container-id-8 label.sk-toggleable__label-arrow:before {content: \"▸\";float: left;margin-right: 0.25em;color: #696969;}#sk-container-id-8 label.sk-toggleable__label-arrow:hover:before {color: black;}#sk-container-id-8 div.sk-estimator:hover label.sk-toggleable__label-arrow:before {color: black;}#sk-container-id-8 div.sk-toggleable__content {max-height: 0;max-width: 0;overflow: hidden;text-align: left;background-color: #f0f8ff;}#sk-container-id-8 div.sk-toggleable__content pre {margin: 0.2em;color: black;border-radius: 0.25em;background-color: #f0f8ff;}#sk-container-id-8 input.sk-toggleable__control:checked~div.sk-toggleable__content {max-height: 200px;max-width: 100%;overflow: auto;}#sk-container-id-8 input.sk-toggleable__control:checked~label.sk-toggleable__label-arrow:before {content: \"▾\";}#sk-container-id-8 div.sk-estimator input.sk-toggleable__control:checked~label.sk-toggleable__label {background-color: #d4ebff;}#sk-container-id-8 div.sk-label input.sk-toggleable__control:checked~label.sk-toggleable__label {background-color: #d4ebff;}#sk-container-id-8 input.sk-hidden--visually {border: 0;clip: rect(1px 1px 1px 1px);clip: rect(1px, 1px, 1px, 1px);height: 1px;margin: -1px;overflow: hidden;padding: 0;position: absolute;width: 1px;}#sk-container-id-8 div.sk-estimator {font-family: monospace;background-color: #f0f8ff;border: 1px dotted black;border-radius: 0.25em;box-sizing: border-box;margin-bottom: 0.5em;}#sk-container-id-8 div.sk-estimator:hover {background-color: #d4ebff;}#sk-container-id-8 div.sk-parallel-item::after {content: \"\";width: 100%;border-bottom: 1px solid gray;flex-grow: 1;}#sk-container-id-8 div.sk-label:hover label.sk-toggleable__label {background-color: #d4ebff;}#sk-container-id-8 div.sk-serial::before {content: \"\";position: absolute;border-left: 1px solid gray;box-sizing: border-box;top: 0;bottom: 0;left: 50%;z-index: 0;}#sk-container-id-8 div.sk-serial {display: flex;flex-direction: column;align-items: center;background-color: white;padding-right: 0.2em;padding-left: 0.2em;position: relative;}#sk-container-id-8 div.sk-item {position: relative;z-index: 1;}#sk-container-id-8 div.sk-parallel {display: flex;align-items: stretch;justify-content: center;background-color: white;position: relative;}#sk-container-id-8 div.sk-item::before, #sk-container-id-8 div.sk-parallel-item::before {content: \"\";position: absolute;border-left: 1px solid gray;box-sizing: border-box;top: 0;bottom: 0;left: 50%;z-index: -1;}#sk-container-id-8 div.sk-parallel-item {display: flex;flex-direction: column;z-index: 1;position: relative;background-color: white;}#sk-container-id-8 div.sk-parallel-item:first-child::after {align-self: flex-end;width: 50%;}#sk-container-id-8 div.sk-parallel-item:last-child::after {align-self: flex-start;width: 50%;}#sk-container-id-8 div.sk-parallel-item:only-child::after {width: 0;}#sk-container-id-8 div.sk-dashed-wrapped {border: 1px dashed gray;margin: 0 0.4em 0.5em 0.4em;box-sizing: border-box;padding-bottom: 0.4em;background-color: white;}#sk-container-id-8 div.sk-label label {font-family: monospace;font-weight: bold;display: inline-block;line-height: 1.2em;}#sk-container-id-8 div.sk-label-container {text-align: center;}#sk-container-id-8 div.sk-container {/* jupyter's `normalize.less` sets `[hidden] { display: none; }` but bootstrap.min.css set `[hidden] { display: none !important; }` so we also need the `!important` here to be able to override the default hidden behavior on the sphinx rendered scikit-learn.org. See: https://github.com/scikit-learn/scikit-learn/issues/21755 */display: inline-block !important;position: relative;}#sk-container-id-8 div.sk-text-repr-fallback {display: none;}</style><div id=\"sk-container-id-8\" class=\"sk-top-container\"><div class=\"sk-text-repr-fallback\"><pre>NeuralNetwork(algorithm=&#x27;genetic_alg&#x27;, clip_max=5, curve=True,\n              hidden_nodes=[50, 50], learning_rate=0.0001, max_attempts=200,\n              max_iters=500, pop_size=25, random_state=42,\n              schedule=GeomDecay(init_temp=0.1, decay=0.99, min_temp=0.001))</pre><b>In a Jupyter environment, please rerun this cell to show the HTML representation or trust the notebook. <br />On GitHub, the HTML representation is unable to render, please try loading this page with nbviewer.org.</b></div><div class=\"sk-container\" hidden><div class=\"sk-item\"><div class=\"sk-estimator sk-toggleable\"><input class=\"sk-toggleable__control sk-hidden--visually\" id=\"sk-estimator-id-8\" type=\"checkbox\" checked><label for=\"sk-estimator-id-8\" class=\"sk-toggleable__label sk-toggleable__label-arrow\">NeuralNetwork</label><div class=\"sk-toggleable__content\"><pre>NeuralNetwork(algorithm=&#x27;genetic_alg&#x27;, clip_max=5, curve=True,\n              hidden_nodes=[50, 50], learning_rate=0.0001, max_attempts=200,\n              max_iters=500, pop_size=25, random_state=42,\n              schedule=GeomDecay(init_temp=0.1, decay=0.99, min_temp=0.001))</pre></div></div></div></div></div>"
     },
     "execution_count": 35,
     "metadata": {},
     "output_type": "execute_result"
    }
   ],
   "source": [
    "model_ga = get_model_for_best_setup('genetic_alg')\n",
    "model_ga.fit(X_train_n, y_train_hot)"
   ],
   "metadata": {
    "collapsed": false,
    "ExecuteTime": {
     "end_time": "2023-10-16T14:48:22.714344Z",
     "start_time": "2023-10-16T14:46:36.129116Z"
    }
   }
  },
  {
   "cell_type": "code",
   "execution_count": 36,
   "outputs": [
    {
     "data": {
      "text/plain": "<Figure size 2400x1800 with 0 Axes>"
     },
     "metadata": {},
     "output_type": "display_data"
    }
   ],
   "source": [
    "plot_fitness_curves(\n",
    "    [model_gr_descent.fitness_curve,\n",
    "     (-1) * model_sa.fitness_curve[:, 0],\n",
    "     (-1) * model_rhc.fitness_curve[:, 0],\n",
    "     (-1) * model_ga.fitness_curve[:, 0],\n",
    "     ],\n",
    "    labels=[\n",
    "        'Gradient Descent',\n",
    "        'Simulated Annealing',\n",
    "        'Random Hill Climbing',\n",
    "        'Genetic Algorithm'\n",
    "    ],\n",
    "    file_name='fitness_curves.png'\n",
    "\n",
    ")"
   ],
   "metadata": {
    "collapsed": false,
    "ExecuteTime": {
     "end_time": "2023-10-16T14:48:22.945115Z",
     "start_time": "2023-10-16T14:48:22.727172Z"
    }
   }
  },
  {
   "cell_type": "code",
   "execution_count": 37,
   "outputs": [
    {
     "data": {
      "text/plain": "<Figure size 2400x1800 with 0 Axes>"
     },
     "metadata": {},
     "output_type": "display_data"
    }
   ],
   "source": [
    "plot_fitness_curves(\n",
    "    [\n",
    "        model_gr_descent.fitness_curve,\n",
    "    ],\n",
    "    labels=[\n",
    "        'Gradient Descent',\n",
    "    ],\n",
    "    file_name='gd_fitness_curves.png',\n",
    "    algo_name='Gradient Descent',\n",
    ")"
   ],
   "metadata": {
    "collapsed": false,
    "ExecuteTime": {
     "end_time": "2023-10-16T14:48:23.154027Z",
     "start_time": "2023-10-16T14:48:22.955840Z"
    }
   }
  },
  {
   "cell_type": "code",
   "execution_count": 38,
   "outputs": [
    {
     "data": {
      "text/plain": "<Figure size 2400x1800 with 0 Axes>"
     },
     "metadata": {},
     "output_type": "display_data"
    }
   ],
   "source": [
    "plot_fitness_curves(\n",
    "    [\n",
    "        (-1) * model_sa.fitness_curve[:, 0],\n",
    "\n",
    "    ],\n",
    "    labels=[\n",
    "        'Simulated Annealing',\n",
    "    ],\n",
    "    file_name='sa_fitness_curves.png',\n",
    "    algo_name='Simulated Annealing',\n",
    ")\n"
   ],
   "metadata": {
    "collapsed": false,
    "ExecuteTime": {
     "end_time": "2023-10-16T14:48:23.352406Z",
     "start_time": "2023-10-16T14:48:23.165879Z"
    }
   }
  },
  {
   "cell_type": "code",
   "execution_count": 39,
   "outputs": [
    {
     "data": {
      "text/plain": "<Figure size 2400x1800 with 0 Axes>"
     },
     "metadata": {},
     "output_type": "display_data"
    }
   ],
   "source": [
    "plot_fitness_curves(\n",
    "    [\n",
    "        (-1) * model_rhc.fitness_curve[:, 0],\n",
    "    ],\n",
    "    labels=[\n",
    "        'Random Hill Climbing',\n",
    "    ],\n",
    "    file_name='rhc_fitness_curves.png',\n",
    "    algo_name='Random Hill Climbing',\n",
    ")\n"
   ],
   "metadata": {
    "collapsed": false,
    "ExecuteTime": {
     "end_time": "2023-10-16T14:48:23.563047Z",
     "start_time": "2023-10-16T14:48:23.361185Z"
    }
   }
  },
  {
   "cell_type": "code",
   "execution_count": 40,
   "outputs": [
    {
     "data": {
      "text/plain": "<Figure size 2400x1800 with 0 Axes>"
     },
     "metadata": {},
     "output_type": "display_data"
    }
   ],
   "source": [
    "plot_fitness_curves(\n",
    "    [\n",
    "        (-1) * model_ga.fitness_curve[:, 0],\n",
    "    ],\n",
    "    labels=[\n",
    "        'Genetic Algorithm'\n",
    "    ],\n",
    "    file_name='ga_fitness_curves.png',\n",
    "    algo_name='Genetic Algorithm'\n",
    ")\n"
   ],
   "metadata": {
    "collapsed": false,
    "ExecuteTime": {
     "end_time": "2023-10-16T14:48:23.792992Z",
     "start_time": "2023-10-16T14:48:23.569422Z"
    }
   }
  },
  {
   "cell_type": "code",
   "execution_count": 41,
   "outputs": [
    {
     "data": {
      "text/plain": "1785.8739078279116"
     },
     "execution_count": 41,
     "metadata": {},
     "output_type": "execute_result"
    }
   ],
   "source": [
    "np.sum(np.abs(model_gr_descent.fitted_weights))"
   ],
   "metadata": {
    "collapsed": false,
    "ExecuteTime": {
     "end_time": "2023-10-16T20:49:01.250022Z",
     "start_time": "2023-10-16T20:49:01.220538Z"
    }
   }
  },
  {
   "cell_type": "code",
   "execution_count": 42,
   "outputs": [
    {
     "data": {
      "text/plain": "1794.3759567793943"
     },
     "execution_count": 42,
     "metadata": {},
     "output_type": "execute_result"
    }
   ],
   "source": [
    "np.sum(np.abs(model_rhc.fitted_weights))\n"
   ],
   "metadata": {
    "collapsed": false,
    "ExecuteTime": {
     "end_time": "2023-10-16T20:49:19.028493Z",
     "start_time": "2023-10-16T20:49:19.010622Z"
    }
   }
  },
  {
   "cell_type": "code",
   "execution_count": 45,
   "outputs": [
    {
     "data": {
      "text/plain": "1799.4306799416215"
     },
     "execution_count": 45,
     "metadata": {},
     "output_type": "execute_result"
    }
   ],
   "source": [
    "np.sum(np.abs(model_sa.fitted_weights))"
   ],
   "metadata": {
    "collapsed": false,
    "ExecuteTime": {
     "end_time": "2023-10-16T20:49:47.616777Z",
     "start_time": "2023-10-16T20:49:47.610831Z"
    }
   }
  },
  {
   "cell_type": "code",
   "execution_count": 43,
   "outputs": [
    {
     "data": {
      "text/plain": "8843.68045124751"
     },
     "execution_count": 43,
     "metadata": {},
     "output_type": "execute_result"
    }
   ],
   "source": [
    "np.sum(np.abs(model_ga.fitted_weights))"
   ],
   "metadata": {
    "collapsed": false,
    "ExecuteTime": {
     "end_time": "2023-10-16T20:49:27.316093Z",
     "start_time": "2023-10-16T20:49:27.285948Z"
    }
   }
  },
  {
   "cell_type": "code",
   "execution_count": 48,
   "outputs": [
    {
     "data": {
      "text/plain": "NeuralNetwork(algorithm='genetic_alg', clip_max=5, curve=True,\n              hidden_nodes=[50, 50], learning_rate=0.0001, max_attempts=200,\n              max_iters=500, pop_size=25, random_state=42,\n              schedule=GeomDecay(init_temp=0.1, decay=0.99, min_temp=0.001))",
      "text/html": "<style>#sk-container-id-9 {color: black;background-color: white;}#sk-container-id-9 pre{padding: 0;}#sk-container-id-9 div.sk-toggleable {background-color: white;}#sk-container-id-9 label.sk-toggleable__label {cursor: pointer;display: block;width: 100%;margin-bottom: 0;padding: 0.3em;box-sizing: border-box;text-align: center;}#sk-container-id-9 label.sk-toggleable__label-arrow:before {content: \"▸\";float: left;margin-right: 0.25em;color: #696969;}#sk-container-id-9 label.sk-toggleable__label-arrow:hover:before {color: black;}#sk-container-id-9 div.sk-estimator:hover label.sk-toggleable__label-arrow:before {color: black;}#sk-container-id-9 div.sk-toggleable__content {max-height: 0;max-width: 0;overflow: hidden;text-align: left;background-color: #f0f8ff;}#sk-container-id-9 div.sk-toggleable__content pre {margin: 0.2em;color: black;border-radius: 0.25em;background-color: #f0f8ff;}#sk-container-id-9 input.sk-toggleable__control:checked~div.sk-toggleable__content {max-height: 200px;max-width: 100%;overflow: auto;}#sk-container-id-9 input.sk-toggleable__control:checked~label.sk-toggleable__label-arrow:before {content: \"▾\";}#sk-container-id-9 div.sk-estimator input.sk-toggleable__control:checked~label.sk-toggleable__label {background-color: #d4ebff;}#sk-container-id-9 div.sk-label input.sk-toggleable__control:checked~label.sk-toggleable__label {background-color: #d4ebff;}#sk-container-id-9 input.sk-hidden--visually {border: 0;clip: rect(1px 1px 1px 1px);clip: rect(1px, 1px, 1px, 1px);height: 1px;margin: -1px;overflow: hidden;padding: 0;position: absolute;width: 1px;}#sk-container-id-9 div.sk-estimator {font-family: monospace;background-color: #f0f8ff;border: 1px dotted black;border-radius: 0.25em;box-sizing: border-box;margin-bottom: 0.5em;}#sk-container-id-9 div.sk-estimator:hover {background-color: #d4ebff;}#sk-container-id-9 div.sk-parallel-item::after {content: \"\";width: 100%;border-bottom: 1px solid gray;flex-grow: 1;}#sk-container-id-9 div.sk-label:hover label.sk-toggleable__label {background-color: #d4ebff;}#sk-container-id-9 div.sk-serial::before {content: \"\";position: absolute;border-left: 1px solid gray;box-sizing: border-box;top: 0;bottom: 0;left: 50%;z-index: 0;}#sk-container-id-9 div.sk-serial {display: flex;flex-direction: column;align-items: center;background-color: white;padding-right: 0.2em;padding-left: 0.2em;position: relative;}#sk-container-id-9 div.sk-item {position: relative;z-index: 1;}#sk-container-id-9 div.sk-parallel {display: flex;align-items: stretch;justify-content: center;background-color: white;position: relative;}#sk-container-id-9 div.sk-item::before, #sk-container-id-9 div.sk-parallel-item::before {content: \"\";position: absolute;border-left: 1px solid gray;box-sizing: border-box;top: 0;bottom: 0;left: 50%;z-index: -1;}#sk-container-id-9 div.sk-parallel-item {display: flex;flex-direction: column;z-index: 1;position: relative;background-color: white;}#sk-container-id-9 div.sk-parallel-item:first-child::after {align-self: flex-end;width: 50%;}#sk-container-id-9 div.sk-parallel-item:last-child::after {align-self: flex-start;width: 50%;}#sk-container-id-9 div.sk-parallel-item:only-child::after {width: 0;}#sk-container-id-9 div.sk-dashed-wrapped {border: 1px dashed gray;margin: 0 0.4em 0.5em 0.4em;box-sizing: border-box;padding-bottom: 0.4em;background-color: white;}#sk-container-id-9 div.sk-label label {font-family: monospace;font-weight: bold;display: inline-block;line-height: 1.2em;}#sk-container-id-9 div.sk-label-container {text-align: center;}#sk-container-id-9 div.sk-container {/* jupyter's `normalize.less` sets `[hidden] { display: none; }` but bootstrap.min.css set `[hidden] { display: none !important; }` so we also need the `!important` here to be able to override the default hidden behavior on the sphinx rendered scikit-learn.org. See: https://github.com/scikit-learn/scikit-learn/issues/21755 */display: inline-block !important;position: relative;}#sk-container-id-9 div.sk-text-repr-fallback {display: none;}</style><div id=\"sk-container-id-9\" class=\"sk-top-container\"><div class=\"sk-text-repr-fallback\"><pre>NeuralNetwork(algorithm=&#x27;genetic_alg&#x27;, clip_max=5, curve=True,\n              hidden_nodes=[50, 50], learning_rate=0.0001, max_attempts=200,\n              max_iters=500, pop_size=25, random_state=42,\n              schedule=GeomDecay(init_temp=0.1, decay=0.99, min_temp=0.001))</pre><b>In a Jupyter environment, please rerun this cell to show the HTML representation or trust the notebook. <br />On GitHub, the HTML representation is unable to render, please try loading this page with nbviewer.org.</b></div><div class=\"sk-container\" hidden><div class=\"sk-item\"><div class=\"sk-estimator sk-toggleable\"><input class=\"sk-toggleable__control sk-hidden--visually\" id=\"sk-estimator-id-9\" type=\"checkbox\" checked><label for=\"sk-estimator-id-9\" class=\"sk-toggleable__label sk-toggleable__label-arrow\">NeuralNetwork</label><div class=\"sk-toggleable__content\"><pre>NeuralNetwork(algorithm=&#x27;genetic_alg&#x27;, clip_max=5, curve=True,\n              hidden_nodes=[50, 50], learning_rate=0.0001, max_attempts=200,\n              max_iters=500, pop_size=25, random_state=42,\n              schedule=GeomDecay(init_temp=0.1, decay=0.99, min_temp=0.001))</pre></div></div></div></div></div>"
     },
     "execution_count": 48,
     "metadata": {},
     "output_type": "execute_result"
    }
   ],
   "source": [
    "plot_time_curves"
   ],
   "metadata": {
    "collapsed": false
   }
  },
  {
   "cell_type": "code",
   "execution_count": 55,
   "outputs": [
    {
     "data": {
      "text/plain": "<Figure size 2400x1800 with 0 Axes>"
     },
     "metadata": {},
     "output_type": "display_data"
    }
   ],
   "source": [
    "for algo_name in algorithms:\n",
    "    for param in interesting_params[algo_name]:\n",
    "        pairs = get_algorithm_best_params(algo_name, param)\n",
    "        condition = reduce(lambda x, y: x & y, [(df[col] == value) for col, value in pairs])\n",
    "        algo_df = df[df['algorithm'] == algo_name]\n",
    "        train_time = algo_df[condition]['duration']\n",
    "        xs = algo_df[condition][param]\n",
    "        plot_time_curves(x=xs,\n",
    "                         training_times=train_time,\n",
    "                         x_label=param,\n",
    "                         algo_name=algo_name,\n",
    "                         file_name=f'time_{algo_name}_{param}',\n",
    "                         x_log_scale=needs_log_scale[param])"
   ],
   "metadata": {
    "collapsed": false,
    "ExecuteTime": {
     "end_time": "2023-10-16T21:32:51.928424Z",
     "start_time": "2023-10-16T21:32:48.765971Z"
    }
   }
  },
  {
   "cell_type": "code",
   "execution_count": null,
   "outputs": [],
   "source": [],
   "metadata": {
    "collapsed": false
   }
  }
 ],
 "metadata": {
  "kernelspec": {
   "display_name": "Python 3",
   "language": "python",
   "name": "python3"
  },
  "language_info": {
   "codemirror_mode": {
    "name": "ipython",
    "version": 2
   },
   "file_extension": ".py",
   "mimetype": "text/x-python",
   "name": "python",
   "nbconvert_exporter": "python",
   "pygments_lexer": "ipython2",
   "version": "2.7.6"
  }
 },
 "nbformat": 4,
 "nbformat_minor": 0
}
