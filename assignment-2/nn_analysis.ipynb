{
 "cells": [
  {
   "cell_type": "code",
   "execution_count": 7,
   "metadata": {
    "collapsed": true,
    "ExecuteTime": {
     "end_time": "2023-10-15T09:55:43.011882Z",
     "start_time": "2023-10-15T09:55:41.611498Z"
    }
   },
   "outputs": [],
   "source": [
    "import os\n",
    "\n",
    "import numpy as np\n",
    "import pandas as pd\n",
    "import mlrose_hiive as ml_h\n",
    "from sklearn.model_selection import train_test_split\n",
    "from sklearn.pipeline import Pipeline\n",
    "from sklearn.tree import DecisionTreeClassifier\n",
    "from sklearn.ensemble import AdaBoostClassifier\n",
    "from sklearn.neighbors import KNeighborsClassifier\n",
    "from sklearn.svm import SVC\n",
    "from sklearn.neural_network import MLPClassifier\n",
    "from sklearn.preprocessing import MinMaxScaler, OneHotEncoder\n",
    "from sklearn.metrics import f1_score"
   ]
  },
  {
   "cell_type": "code",
   "execution_count": 3,
   "outputs": [],
   "source": [
    "SEED = 42"
   ],
   "metadata": {
    "collapsed": false,
    "ExecuteTime": {
     "end_time": "2023-10-15T09:53:45.426473Z",
     "start_time": "2023-10-15T09:53:45.423663Z"
    }
   }
  },
  {
   "cell_type": "code",
   "execution_count": 4,
   "outputs": [],
   "source": [
    "df = pd.read_csv('datasets/wine-quality/wine-quality-all.csv', delimiter=';', encoding='utf-8')\n",
    "X = df.drop('quality', axis=1)\n",
    "y = df['quality']\n",
    "\n",
    "X_train, X_test, y_train, y_test = train_test_split(X, y, test_size=0.3, random_state=SEED)\n",
    "\n",
    "X_train_color = X_train['color'].values.reshape(-1, 1)\n",
    "X_test_color = X_test['color'].values.reshape(-1, 1)"
   ],
   "metadata": {
    "collapsed": false,
    "ExecuteTime": {
     "end_time": "2023-10-15T09:53:45.449344Z",
     "start_time": "2023-10-15T09:53:45.428612Z"
    }
   }
  },
  {
   "cell_type": "code",
   "execution_count": 5,
   "outputs": [
    {
     "name": "stderr",
     "output_type": "stream",
     "text": [
      "/Users/pavponn/opt/anaconda3/envs/assignment-2/lib/python3.10/site-packages/sklearn/preprocessing/_encoders.py:868: FutureWarning: `sparse` was renamed to `sparse_output` in version 1.2 and will be removed in 1.4. `sparse_output` is ignored unless you leave `sparse` to its default value.\n",
      "  warnings.warn(\n"
     ]
    }
   ],
   "source": [
    "encoder = OneHotEncoder(sparse=False, handle_unknown='ignore')\n",
    "\n",
    "X_train_encoded_color = encoder.fit_transform(X_train_color)\n",
    "X_test_encoded_color = encoder.transform(X_test_color)\n",
    "\n",
    "# Step 4: Concatenate the encoded 'color' column with the original data\n",
    "X_train_reset = X_train.drop(columns=['color']).reset_index(drop=True)\n",
    "X_train_encoded_color_reset = pd.DataFrame(X_train_encoded_color,\n",
    "                                           columns=encoder.get_feature_names_out(['color'])).reset_index(drop=True)\n",
    "X_train_e = pd.concat([X_train_reset, X_train_encoded_color_reset], axis=1)\n",
    "\n",
    "X_test_reset = X_test.drop(columns=['color']).reset_index(drop=True)\n",
    "X_test_encoded_color_reset = pd.DataFrame(X_test_encoded_color,\n",
    "                                          columns=encoder.get_feature_names_out(['color'])).reset_index(drop=True)\n",
    "X_test_e = pd.concat([X_test_reset, X_test_encoded_color_reset], axis=1)\n",
    "\n",
    "X_all_e = pd.concat((X_train_e, X_test_e), axis=0)\n",
    "\n",
    "#\n",
    "scaler = MinMaxScaler()\n",
    "\n",
    "X_train_n = scaler.fit_transform(X_train_e)\n",
    "X_test_n = scaler.transform(X_test_e)\n",
    "\n",
    "X_all_n = np.concatenate((X_train_n, X_test_n), axis=0)\n"
   ],
   "metadata": {
    "collapsed": false,
    "ExecuteTime": {
     "end_time": "2023-10-15T09:53:51.652546Z",
     "start_time": "2023-10-15T09:53:51.620200Z"
    }
   }
  },
  {
   "cell_type": "code",
   "execution_count": 10,
   "outputs": [],
   "source": [
    "X_val, X_test, y_val, y_test = train_test_split(X_test_n, y_test, test_size=0.5, random_state=SEED)\n",
    "\n",
    "# Encode labels\n",
    "one_hot = OneHotEncoder()\n",
    "\n",
    "y_train_hot = one_hot.fit_transform(y_train.values.reshape(-1, 1)).todense()\n",
    "y_val_hot = one_hot.transform(y_val.values.reshape(-1, 1)).todense()\n",
    "y_test_hot = one_hot.transform(y_test.values.reshape(-1, 1)).todense()"
   ],
   "metadata": {
    "collapsed": false,
    "ExecuteTime": {
     "end_time": "2023-10-15T09:56:48.870573Z",
     "start_time": "2023-10-15T09:56:48.864608Z"
    }
   }
  },
  {
   "cell_type": "code",
   "execution_count": 53,
   "outputs": [
    {
     "data": {
      "text/plain": "NeuralNetwork(algorithm='gradient_descent', clip_max=20, hidden_nodes=[50, 50],\n              learning_rate=0.0001, max_attempts=200, max_iters=2000,\n              random_state=42)",
      "text/html": "<style>#sk-container-id-12 {color: black;background-color: white;}#sk-container-id-12 pre{padding: 0;}#sk-container-id-12 div.sk-toggleable {background-color: white;}#sk-container-id-12 label.sk-toggleable__label {cursor: pointer;display: block;width: 100%;margin-bottom: 0;padding: 0.3em;box-sizing: border-box;text-align: center;}#sk-container-id-12 label.sk-toggleable__label-arrow:before {content: \"▸\";float: left;margin-right: 0.25em;color: #696969;}#sk-container-id-12 label.sk-toggleable__label-arrow:hover:before {color: black;}#sk-container-id-12 div.sk-estimator:hover label.sk-toggleable__label-arrow:before {color: black;}#sk-container-id-12 div.sk-toggleable__content {max-height: 0;max-width: 0;overflow: hidden;text-align: left;background-color: #f0f8ff;}#sk-container-id-12 div.sk-toggleable__content pre {margin: 0.2em;color: black;border-radius: 0.25em;background-color: #f0f8ff;}#sk-container-id-12 input.sk-toggleable__control:checked~div.sk-toggleable__content {max-height: 200px;max-width: 100%;overflow: auto;}#sk-container-id-12 input.sk-toggleable__control:checked~label.sk-toggleable__label-arrow:before {content: \"▾\";}#sk-container-id-12 div.sk-estimator input.sk-toggleable__control:checked~label.sk-toggleable__label {background-color: #d4ebff;}#sk-container-id-12 div.sk-label input.sk-toggleable__control:checked~label.sk-toggleable__label {background-color: #d4ebff;}#sk-container-id-12 input.sk-hidden--visually {border: 0;clip: rect(1px 1px 1px 1px);clip: rect(1px, 1px, 1px, 1px);height: 1px;margin: -1px;overflow: hidden;padding: 0;position: absolute;width: 1px;}#sk-container-id-12 div.sk-estimator {font-family: monospace;background-color: #f0f8ff;border: 1px dotted black;border-radius: 0.25em;box-sizing: border-box;margin-bottom: 0.5em;}#sk-container-id-12 div.sk-estimator:hover {background-color: #d4ebff;}#sk-container-id-12 div.sk-parallel-item::after {content: \"\";width: 100%;border-bottom: 1px solid gray;flex-grow: 1;}#sk-container-id-12 div.sk-label:hover label.sk-toggleable__label {background-color: #d4ebff;}#sk-container-id-12 div.sk-serial::before {content: \"\";position: absolute;border-left: 1px solid gray;box-sizing: border-box;top: 0;bottom: 0;left: 50%;z-index: 0;}#sk-container-id-12 div.sk-serial {display: flex;flex-direction: column;align-items: center;background-color: white;padding-right: 0.2em;padding-left: 0.2em;position: relative;}#sk-container-id-12 div.sk-item {position: relative;z-index: 1;}#sk-container-id-12 div.sk-parallel {display: flex;align-items: stretch;justify-content: center;background-color: white;position: relative;}#sk-container-id-12 div.sk-item::before, #sk-container-id-12 div.sk-parallel-item::before {content: \"\";position: absolute;border-left: 1px solid gray;box-sizing: border-box;top: 0;bottom: 0;left: 50%;z-index: -1;}#sk-container-id-12 div.sk-parallel-item {display: flex;flex-direction: column;z-index: 1;position: relative;background-color: white;}#sk-container-id-12 div.sk-parallel-item:first-child::after {align-self: flex-end;width: 50%;}#sk-container-id-12 div.sk-parallel-item:last-child::after {align-self: flex-start;width: 50%;}#sk-container-id-12 div.sk-parallel-item:only-child::after {width: 0;}#sk-container-id-12 div.sk-dashed-wrapped {border: 1px dashed gray;margin: 0 0.4em 0.5em 0.4em;box-sizing: border-box;padding-bottom: 0.4em;background-color: white;}#sk-container-id-12 div.sk-label label {font-family: monospace;font-weight: bold;display: inline-block;line-height: 1.2em;}#sk-container-id-12 div.sk-label-container {text-align: center;}#sk-container-id-12 div.sk-container {/* jupyter's `normalize.less` sets `[hidden] { display: none; }` but bootstrap.min.css set `[hidden] { display: none !important; }` so we also need the `!important` here to be able to override the default hidden behavior on the sphinx rendered scikit-learn.org. See: https://github.com/scikit-learn/scikit-learn/issues/21755 */display: inline-block !important;position: relative;}#sk-container-id-12 div.sk-text-repr-fallback {display: none;}</style><div id=\"sk-container-id-12\" class=\"sk-top-container\"><div class=\"sk-text-repr-fallback\"><pre>NeuralNetwork(algorithm=&#x27;gradient_descent&#x27;, clip_max=20, hidden_nodes=[50, 50],\n              learning_rate=0.0001, max_attempts=200, max_iters=2000,\n              random_state=42)</pre><b>In a Jupyter environment, please rerun this cell to show the HTML representation or trust the notebook. <br />On GitHub, the HTML representation is unable to render, please try loading this page with nbviewer.org.</b></div><div class=\"sk-container\" hidden><div class=\"sk-item\"><div class=\"sk-estimator sk-toggleable\"><input class=\"sk-toggleable__control sk-hidden--visually\" id=\"sk-estimator-id-12\" type=\"checkbox\" checked><label for=\"sk-estimator-id-12\" class=\"sk-toggleable__label sk-toggleable__label-arrow\">NeuralNetwork</label><div class=\"sk-toggleable__content\"><pre>NeuralNetwork(algorithm=&#x27;gradient_descent&#x27;, clip_max=20, hidden_nodes=[50, 50],\n              learning_rate=0.0001, max_attempts=200, max_iters=2000,\n              random_state=42)</pre></div></div></div></div></div>"
     },
     "execution_count": 53,
     "metadata": {},
     "output_type": "execute_result"
    }
   ],
   "source": [
    "nn_model1 = ml_h.NeuralNetwork(hidden_nodes=[50, 50], activation='relu',\n",
    "                                 algorithm='gradient_descent', max_iters=2000,\n",
    "                                 bias=True, is_classifier=True, learning_rate=0.0001,\n",
    "                                 early_stopping=False, clip_max=20, max_attempts=200,\n",
    "                                 random_state=SEED)\n",
    "y_train_pred = nn_model1.predict(X_train_n)\n",
    "y_test_pred = nn_model1.predict(X_test_n)\n",
    "nn_model1.fit(X_train_n, y_train_hot)"
   ],
   "metadata": {
    "collapsed": false,
    "ExecuteTime": {
     "end_time": "2023-10-15T10:45:48.719143Z",
     "start_time": "2023-10-15T10:44:55.244313Z"
    }
   }
  },
  {
   "cell_type": "code",
   "execution_count": 54,
   "outputs": [
    {
     "name": "stdout",
     "output_type": "stream",
     "text": [
      "0.5716635338345865\n",
      "0.5573308270676691\n"
     ]
    }
   ],
   "source": [
    "\n",
    "\n",
    "y_train_micro_f1 = f1_score(np.asarray(y_train_hot), np.asarray(y_train_pred), average='micro')\n",
    "y_test_micro_f1 = f1_score(np.asarray(y_test_hot), np.asarray(y_test_pred), average='micro')\n",
    "print(y_train_micro_f1)\n",
    "print(y_test_micro_f1)"
   ],
   "metadata": {
    "collapsed": false,
    "ExecuteTime": {
     "end_time": "2023-10-15T10:45:58.713631Z",
     "start_time": "2023-10-15T10:45:58.673154Z"
    }
   }
  },
  {
   "cell_type": "code",
   "execution_count": 25,
   "outputs": [
    {
     "data": {
      "text/plain": "2629    8\n511     7\n62      5\n3128    5\n4233    6\n       ..\n3092    5\n3772    5\n5191    6\n5226    5\n860     6\nName: quality, Length: 4256, dtype: int64"
     },
     "execution_count": 25,
     "metadata": {},
     "output_type": "execute_result"
    }
   ],
   "source": [
    "y_train"
   ],
   "metadata": {
    "collapsed": false,
    "ExecuteTime": {
     "end_time": "2023-10-15T10:06:19.297197Z",
     "start_time": "2023-10-15T10:06:19.292374Z"
    }
   }
  },
  {
   "cell_type": "code",
   "execution_count": 26,
   "outputs": [
    {
     "name": "stdout",
     "output_type": "stream",
     "text": [
      "[[0. 0. 0. 0. 0. 1. 0.]]\n",
      "[[0. 0. 0. 0. 1. 0. 0.]]\n",
      "[[0. 0. 1. 0. 0. 0. 0.]]\n",
      "[[0. 0. 1. 0. 0. 0. 0.]]\n",
      "[[0. 0. 0. 1. 0. 0. 0.]]\n",
      "[[0. 0. 0. 1. 0. 0. 0.]]\n",
      "[[0. 0. 1. 0. 0. 0. 0.]]\n",
      "[[0. 0. 1. 0. 0. 0. 0.]]\n",
      "[[0. 0. 0. 1. 0. 0. 0.]]\n",
      "[[0. 0. 0. 0. 1. 0. 0.]]\n"
     ]
    }
   ],
   "source": [
    "for i in range(10):\n",
    "    print(y_train_hot[i])\n"
   ],
   "metadata": {
    "collapsed": false,
    "ExecuteTime": {
     "end_time": "2023-10-15T10:06:21.364145Z",
     "start_time": "2023-10-15T10:06:21.358838Z"
    }
   }
  },
  {
   "cell_type": "code",
   "execution_count": 27,
   "outputs": [
    {
     "name": "stdout",
     "output_type": "stream",
     "text": [
      "[0 0 0 1 0 0 0]\n",
      "[0 0 0 1 0 0 0]\n",
      "[0 0 0 1 0 0 0]\n",
      "[0 0 0 1 0 0 0]\n",
      "[0 0 0 0 1 0 0]\n",
      "[0 0 0 1 0 0 0]\n",
      "[0 0 0 1 0 0 0]\n",
      "[0 0 1 0 0 0 0]\n",
      "[0 0 0 1 0 0 0]\n",
      "[0 0 0 1 0 0 0]\n",
      "[0 0 0 1 0 0 0]\n",
      "[0 0 0 1 0 0 0]\n",
      "[0 0 1 0 0 0 0]\n",
      "[0 0 0 1 0 0 0]\n",
      "[0 0 0 0 1 0 0]\n",
      "[0 0 0 1 0 0 0]\n",
      "[0 0 0 1 0 0 0]\n",
      "[0 0 1 0 0 0 0]\n",
      "[0 0 0 1 0 0 0]\n",
      "[0 0 0 1 0 0 0]\n",
      "[0 0 1 0 0 0 0]\n",
      "[0 0 0 1 0 0 0]\n",
      "[0 0 1 0 0 0 0]\n",
      "[0 0 0 1 0 0 0]\n",
      "[0 0 0 1 0 0 0]\n",
      "[0 0 0 1 0 0 0]\n",
      "[0 0 0 1 0 0 0]\n",
      "[0 0 1 0 0 0 0]\n",
      "[0 0 0 1 0 0 0]\n",
      "[0 0 0 1 0 0 0]\n",
      "[0 0 0 0 1 0 0]\n",
      "[0 0 0 1 0 0 0]\n",
      "[0 0 0 1 0 0 0]\n",
      "[0 0 0 1 0 0 0]\n",
      "[0 0 0 1 0 0 0]\n",
      "[0 0 0 1 0 0 0]\n",
      "[0 0 0 1 0 0 0]\n",
      "[0 0 0 1 0 0 0]\n",
      "[0 0 0 0 1 0 0]\n",
      "[0 0 0 1 0 0 0]\n",
      "[0 0 0 1 0 0 0]\n",
      "[0 0 1 0 0 0 0]\n",
      "[0 0 0 1 0 0 0]\n",
      "[0 0 0 1 0 0 0]\n",
      "[0 0 1 0 0 0 0]\n",
      "[0 1 0 0 0 0 0]\n",
      "[0 0 0 0 1 0 0]\n",
      "[0 0 0 0 1 0 0]\n",
      "[0 0 1 0 0 0 0]\n",
      "[0 0 1 0 0 0 0]\n",
      "[0 0 0 1 0 0 0]\n",
      "[0 0 1 0 0 0 0]\n",
      "[0 0 0 0 1 0 0]\n",
      "[0 0 0 1 0 0 0]\n",
      "[0 0 1 0 0 0 0]\n",
      "[0 0 1 0 0 0 0]\n",
      "[0 0 0 1 0 0 0]\n",
      "[0 0 0 0 1 0 0]\n",
      "[0 0 0 1 0 0 0]\n",
      "[0 0 0 1 0 0 0]\n",
      "[0 0 1 0 0 0 0]\n",
      "[0 0 0 1 0 0 0]\n",
      "[0 0 0 0 1 0 0]\n",
      "[0 0 0 1 0 0 0]\n",
      "[0 0 0 1 0 0 0]\n",
      "[0 0 1 0 0 0 0]\n",
      "[0 0 1 0 0 0 0]\n",
      "[0 0 0 1 0 0 0]\n",
      "[0 0 0 1 0 0 0]\n",
      "[0 0 0 1 0 0 0]\n",
      "[0 0 0 0 1 0 0]\n",
      "[0 0 1 0 0 0 0]\n",
      "[0 0 1 0 0 0 0]\n",
      "[0 0 0 0 1 0 0]\n",
      "[0 0 0 1 0 0 0]\n",
      "[0 0 0 0 1 0 0]\n",
      "[0 0 0 1 0 0 0]\n",
      "[0 0 0 1 0 0 0]\n",
      "[0 0 0 1 0 0 0]\n",
      "[0 0 0 1 0 0 0]\n",
      "[0 0 0 1 0 0 0]\n",
      "[0 0 0 1 0 0 0]\n",
      "[0 0 1 0 0 0 0]\n",
      "[0 0 0 1 0 0 0]\n",
      "[0 0 1 0 0 0 0]\n",
      "[0 0 1 0 0 0 0]\n",
      "[0 0 1 0 0 0 0]\n",
      "[0 0 0 1 0 0 0]\n",
      "[0 0 1 0 0 0 0]\n",
      "[0 0 0 1 0 0 0]\n",
      "[0 0 1 0 0 0 0]\n",
      "[0 0 0 1 0 0 0]\n",
      "[0 0 0 0 1 0 0]\n",
      "[0 0 0 0 1 0 0]\n",
      "[0 0 1 0 0 0 0]\n",
      "[0 0 0 1 0 0 0]\n",
      "[0 0 1 0 0 0 0]\n",
      "[0 0 0 1 0 0 0]\n",
      "[0 0 1 0 0 0 0]\n",
      "[0 0 1 0 0 0 0]\n"
     ]
    }
   ],
   "source": [
    "for i in range(100):\n",
    "    print(y_train_pred[i])"
   ],
   "metadata": {
    "collapsed": false,
    "ExecuteTime": {
     "end_time": "2023-10-15T10:06:22.207831Z",
     "start_time": "2023-10-15T10:06:22.198686Z"
    }
   }
  },
  {
   "cell_type": "code",
   "execution_count": 28,
   "outputs": [
    {
     "data": {
      "text/plain": "matrix([[0., 0., 0., ..., 0., 1., 0.],\n        [0., 0., 0., ..., 1., 0., 0.],\n        [0., 0., 1., ..., 0., 0., 0.],\n        ...,\n        [0., 0., 0., ..., 0., 0., 0.],\n        [0., 0., 1., ..., 0., 0., 0.],\n        [0., 0., 0., ..., 0., 0., 0.]])"
     },
     "execution_count": 28,
     "metadata": {},
     "output_type": "execute_result"
    }
   ],
   "source": [
    "y_train_hot"
   ],
   "metadata": {
    "collapsed": false,
    "ExecuteTime": {
     "end_time": "2023-10-15T10:06:22.919859Z",
     "start_time": "2023-10-15T10:06:22.913085Z"
    }
   }
  },
  {
   "cell_type": "code",
   "execution_count": null,
   "outputs": [],
   "source": [],
   "metadata": {
    "collapsed": false
   }
  }
 ],
 "metadata": {
  "kernelspec": {
   "display_name": "Python 3",
   "language": "python",
   "name": "python3"
  },
  "language_info": {
   "codemirror_mode": {
    "name": "ipython",
    "version": 2
   },
   "file_extension": ".py",
   "mimetype": "text/x-python",
   "name": "python",
   "nbconvert_exporter": "python",
   "pygments_lexer": "ipython2",
   "version": "2.7.6"
  }
 },
 "nbformat": 4,
 "nbformat_minor": 0
}
